{
 "cells": [
  {
   "cell_type": "markdown",
   "metadata": {},
   "source": [
    "Build a regression model."
   ]
  },
  {
   "cell_type": "markdown",
   "metadata": {},
   "source": [
    "Data to use is data_joined_new that has been cleaned. do another check just to confirm"
   ]
  },
  {
   "cell_type": "code",
   "execution_count": 96,
   "metadata": {},
   "outputs": [],
   "source": [
    "# Importing the required libraries for EDA\n",
    "\n",
    "import pandas as pd\n",
    "import numpy as np\n",
    "import seaborn as sns                       #visualisation\n",
    "import matplotlib.pyplot as plt             #visualisation\n",
    "import statsmodels.api as sm\n",
    "import seaborn\n",
    "seaborn.set()\n",
    "import warnings\n",
    "warnings.filterwarnings(\"ignore\")"
   ]
  },
  {
   "cell_type": "code",
   "execution_count": 58,
   "metadata": {},
   "outputs": [
    {
     "data": {
      "text/html": [
       "<div>\n",
       "<style scoped>\n",
       "    .dataframe tbody tr th:only-of-type {\n",
       "        vertical-align: middle;\n",
       "    }\n",
       "\n",
       "    .dataframe tbody tr th {\n",
       "        vertical-align: top;\n",
       "    }\n",
       "\n",
       "    .dataframe thead th {\n",
       "        text-align: right;\n",
       "    }\n",
       "</style>\n",
       "<table border=\"1\" class=\"dataframe\">\n",
       "  <thead>\n",
       "    <tr style=\"text-align: right;\">\n",
       "      <th></th>\n",
       "      <th>Unnamed: 0</th>\n",
       "      <th>Yelp ID</th>\n",
       "      <th>Categories</th>\n",
       "      <th>Distance</th>\n",
       "      <th>Latitude</th>\n",
       "      <th>Longitude</th>\n",
       "      <th>Address</th>\n",
       "      <th>Foursquare ID</th>\n",
       "      <th>City</th>\n",
       "      <th>Name</th>\n",
       "      <th>Rating</th>\n",
       "      <th>ll</th>\n",
       "      <th>Country</th>\n",
       "      <th>Station Name</th>\n",
       "      <th>Total Bikes</th>\n",
       "    </tr>\n",
       "  </thead>\n",
       "  <tbody>\n",
       "    <tr>\n",
       "      <th>0</th>\n",
       "      <td>0</td>\n",
       "      <td>rLOYRsuqZTd6ESYkG1dEmg</td>\n",
       "      <td>French</td>\n",
       "      <td>136.08</td>\n",
       "      <td>50.64</td>\n",
       "      <td>3.08</td>\n",
       "      <td>Hôtel Casino Barrière de Lille, 777 bis pont d...</td>\n",
       "      <td>509954d6e4b062b9e44f4a05</td>\n",
       "      <td>Lille</td>\n",
       "      <td>La Terrasse du Parc</td>\n",
       "      <td>4.0</td>\n",
       "      <td>50.63599,3.13566</td>\n",
       "      <td>FR</td>\n",
       "      <td>CHATELLENIE</td>\n",
       "      <td>20</td>\n",
       "    </tr>\n",
       "    <tr>\n",
       "      <th>1</th>\n",
       "      <td>1</td>\n",
       "      <td>rLOYRsuqZTd6ESYkG1dEmg</td>\n",
       "      <td>French</td>\n",
       "      <td>136.08</td>\n",
       "      <td>50.64</td>\n",
       "      <td>3.08</td>\n",
       "      <td>Hôtel Casino Barrière de Lille, 777 bis pont d...</td>\n",
       "      <td>5bfd2632829b0c002c26ee69</td>\n",
       "      <td>Lille</td>\n",
       "      <td>La Terrasse du Parc</td>\n",
       "      <td>4.0</td>\n",
       "      <td>50.63599,3.13566</td>\n",
       "      <td>FR</td>\n",
       "      <td>CHATELLENIE</td>\n",
       "      <td>20</td>\n",
       "    </tr>\n",
       "    <tr>\n",
       "      <th>2</th>\n",
       "      <td>2</td>\n",
       "      <td>rLOYRsuqZTd6ESYkG1dEmg</td>\n",
       "      <td>French</td>\n",
       "      <td>136.08</td>\n",
       "      <td>50.64</td>\n",
       "      <td>3.08</td>\n",
       "      <td>Hôtel Casino Barrière de Lille, 777 bis pont d...</td>\n",
       "      <td>4c4ebd92ea24c9b635a12016</td>\n",
       "      <td>Lille</td>\n",
       "      <td>La Terrasse du Parc</td>\n",
       "      <td>4.0</td>\n",
       "      <td>50.63599,3.13566</td>\n",
       "      <td>FR</td>\n",
       "      <td>CHATELLENIE</td>\n",
       "      <td>20</td>\n",
       "    </tr>\n",
       "    <tr>\n",
       "      <th>3</th>\n",
       "      <td>3</td>\n",
       "      <td>rLOYRsuqZTd6ESYkG1dEmg</td>\n",
       "      <td>French</td>\n",
       "      <td>136.08</td>\n",
       "      <td>50.64</td>\n",
       "      <td>3.08</td>\n",
       "      <td>Hôtel Casino Barrière de Lille, 777 bis pont d...</td>\n",
       "      <td>4bdf0c4e7ea362b5e64943c4</td>\n",
       "      <td>Lille</td>\n",
       "      <td>La Terrasse du Parc</td>\n",
       "      <td>4.0</td>\n",
       "      <td>50.63599,3.13566</td>\n",
       "      <td>FR</td>\n",
       "      <td>CHATELLENIE</td>\n",
       "      <td>20</td>\n",
       "    </tr>\n",
       "    <tr>\n",
       "      <th>4</th>\n",
       "      <td>4</td>\n",
       "      <td>rLOYRsuqZTd6ESYkG1dEmg</td>\n",
       "      <td>French</td>\n",
       "      <td>136.08</td>\n",
       "      <td>50.64</td>\n",
       "      <td>3.08</td>\n",
       "      <td>Hôtel Casino Barrière de Lille, 777 bis pont d...</td>\n",
       "      <td>4de28e5945dd180ae5494bf8</td>\n",
       "      <td>Lille</td>\n",
       "      <td>La Terrasse du Parc</td>\n",
       "      <td>4.0</td>\n",
       "      <td>50.63599,3.13566</td>\n",
       "      <td>FR</td>\n",
       "      <td>CHATELLENIE</td>\n",
       "      <td>20</td>\n",
       "    </tr>\n",
       "  </tbody>\n",
       "</table>\n",
       "</div>"
      ],
      "text/plain": [
       "   Unnamed: 0                 Yelp ID Categories  Distance  Latitude  \\\n",
       "0           0  rLOYRsuqZTd6ESYkG1dEmg     French    136.08     50.64   \n",
       "1           1  rLOYRsuqZTd6ESYkG1dEmg     French    136.08     50.64   \n",
       "2           2  rLOYRsuqZTd6ESYkG1dEmg     French    136.08     50.64   \n",
       "3           3  rLOYRsuqZTd6ESYkG1dEmg     French    136.08     50.64   \n",
       "4           4  rLOYRsuqZTd6ESYkG1dEmg     French    136.08     50.64   \n",
       "\n",
       "   Longitude                                            Address  \\\n",
       "0       3.08  Hôtel Casino Barrière de Lille, 777 bis pont d...   \n",
       "1       3.08  Hôtel Casino Barrière de Lille, 777 bis pont d...   \n",
       "2       3.08  Hôtel Casino Barrière de Lille, 777 bis pont d...   \n",
       "3       3.08  Hôtel Casino Barrière de Lille, 777 bis pont d...   \n",
       "4       3.08  Hôtel Casino Barrière de Lille, 777 bis pont d...   \n",
       "\n",
       "              Foursquare ID   City                 Name  Rating  \\\n",
       "0  509954d6e4b062b9e44f4a05  Lille  La Terrasse du Parc     4.0   \n",
       "1  5bfd2632829b0c002c26ee69  Lille  La Terrasse du Parc     4.0   \n",
       "2  4c4ebd92ea24c9b635a12016  Lille  La Terrasse du Parc     4.0   \n",
       "3  4bdf0c4e7ea362b5e64943c4  Lille  La Terrasse du Parc     4.0   \n",
       "4  4de28e5945dd180ae5494bf8  Lille  La Terrasse du Parc     4.0   \n",
       "\n",
       "                 ll Country Station Name  Total Bikes  \n",
       "0  50.63599,3.13566      FR  CHATELLENIE           20  \n",
       "1  50.63599,3.13566      FR  CHATELLENIE           20  \n",
       "2  50.63599,3.13566      FR  CHATELLENIE           20  \n",
       "3  50.63599,3.13566      FR  CHATELLENIE           20  \n",
       "4  50.63599,3.13566      FR  CHATELLENIE           20  "
      ]
     },
     "execution_count": 58,
     "metadata": {},
     "output_type": "execute_result"
    }
   ],
   "source": [
    "# Load dataframe\n",
    "bld_reg = pd.read_csv(r'C:\\Code\\Project_Stat_Model_DataFrame_Store\\comb2_sql_df.csv')\n",
    "\n",
    "bld_reg.head()"
   ]
  },
  {
   "cell_type": "code",
   "execution_count": 59,
   "metadata": {},
   "outputs": [
    {
     "name": "stdout",
     "output_type": "stream",
     "text": [
      "<class 'pandas.core.frame.DataFrame'>\n",
      "RangeIndex: 93700 entries, 0 to 93699\n",
      "Data columns (total 15 columns):\n",
      " #   Column         Non-Null Count  Dtype  \n",
      "---  ------         --------------  -----  \n",
      " 0   Unnamed: 0     93700 non-null  int64  \n",
      " 1   Yelp ID        93700 non-null  object \n",
      " 2   Categories     93700 non-null  object \n",
      " 3   Distance       93700 non-null  float64\n",
      " 4   Latitude       93700 non-null  float64\n",
      " 5   Longitude      93700 non-null  float64\n",
      " 6   Address        93700 non-null  object \n",
      " 7   Foursquare ID  93700 non-null  object \n",
      " 8   City           93700 non-null  object \n",
      " 9   Name           93700 non-null  object \n",
      " 10  Rating         93700 non-null  float64\n",
      " 11  ll             93700 non-null  object \n",
      " 12  Country        93700 non-null  object \n",
      " 13  Station Name   93700 non-null  object \n",
      " 14  Total Bikes    93700 non-null  int64  \n",
      "dtypes: float64(4), int64(2), object(9)\n",
      "memory usage: 10.7+ MB\n"
     ]
    }
   ],
   "source": [
    "bld_reg.info()"
   ]
  },
  {
   "cell_type": "code",
   "execution_count": 60,
   "metadata": {},
   "outputs": [
    {
     "data": {
      "text/plain": [
       "(93700, 15)"
      ]
     },
     "execution_count": 60,
     "metadata": {},
     "output_type": "execute_result"
    }
   ],
   "source": [
    "bld_reg.shape"
   ]
  },
  {
   "cell_type": "code",
   "execution_count": 61,
   "metadata": {},
   "outputs": [
    {
     "data": {
      "text/html": [
       "<div>\n",
       "<style scoped>\n",
       "    .dataframe tbody tr th:only-of-type {\n",
       "        vertical-align: middle;\n",
       "    }\n",
       "\n",
       "    .dataframe tbody tr th {\n",
       "        vertical-align: top;\n",
       "    }\n",
       "\n",
       "    .dataframe thead th {\n",
       "        text-align: right;\n",
       "    }\n",
       "</style>\n",
       "<table border=\"1\" class=\"dataframe\">\n",
       "  <thead>\n",
       "    <tr style=\"text-align: right;\">\n",
       "      <th></th>\n",
       "      <th>Categories</th>\n",
       "      <th>Distance</th>\n",
       "      <th>Latitude</th>\n",
       "      <th>Longitude</th>\n",
       "      <th>Address</th>\n",
       "      <th>City</th>\n",
       "      <th>Name</th>\n",
       "      <th>Rating</th>\n",
       "      <th>Total Bikes</th>\n",
       "    </tr>\n",
       "  </thead>\n",
       "  <tbody>\n",
       "    <tr>\n",
       "      <th>0</th>\n",
       "      <td>French</td>\n",
       "      <td>136.08</td>\n",
       "      <td>50.64</td>\n",
       "      <td>3.08</td>\n",
       "      <td>Hôtel Casino Barrière de Lille, 777 bis pont d...</td>\n",
       "      <td>Lille</td>\n",
       "      <td>La Terrasse du Parc</td>\n",
       "      <td>4.0</td>\n",
       "      <td>20</td>\n",
       "    </tr>\n",
       "    <tr>\n",
       "      <th>1</th>\n",
       "      <td>French</td>\n",
       "      <td>136.08</td>\n",
       "      <td>50.64</td>\n",
       "      <td>3.08</td>\n",
       "      <td>Hôtel Casino Barrière de Lille, 777 bis pont d...</td>\n",
       "      <td>Lille</td>\n",
       "      <td>La Terrasse du Parc</td>\n",
       "      <td>4.0</td>\n",
       "      <td>20</td>\n",
       "    </tr>\n",
       "    <tr>\n",
       "      <th>2</th>\n",
       "      <td>French</td>\n",
       "      <td>136.08</td>\n",
       "      <td>50.64</td>\n",
       "      <td>3.08</td>\n",
       "      <td>Hôtel Casino Barrière de Lille, 777 bis pont d...</td>\n",
       "      <td>Lille</td>\n",
       "      <td>La Terrasse du Parc</td>\n",
       "      <td>4.0</td>\n",
       "      <td>20</td>\n",
       "    </tr>\n",
       "    <tr>\n",
       "      <th>3</th>\n",
       "      <td>French</td>\n",
       "      <td>136.08</td>\n",
       "      <td>50.64</td>\n",
       "      <td>3.08</td>\n",
       "      <td>Hôtel Casino Barrière de Lille, 777 bis pont d...</td>\n",
       "      <td>Lille</td>\n",
       "      <td>La Terrasse du Parc</td>\n",
       "      <td>4.0</td>\n",
       "      <td>20</td>\n",
       "    </tr>\n",
       "    <tr>\n",
       "      <th>4</th>\n",
       "      <td>French</td>\n",
       "      <td>136.08</td>\n",
       "      <td>50.64</td>\n",
       "      <td>3.08</td>\n",
       "      <td>Hôtel Casino Barrière de Lille, 777 bis pont d...</td>\n",
       "      <td>Lille</td>\n",
       "      <td>La Terrasse du Parc</td>\n",
       "      <td>4.0</td>\n",
       "      <td>20</td>\n",
       "    </tr>\n",
       "    <tr>\n",
       "      <th>...</th>\n",
       "      <td>...</td>\n",
       "      <td>...</td>\n",
       "      <td>...</td>\n",
       "      <td>...</td>\n",
       "      <td>...</td>\n",
       "      <td>...</td>\n",
       "      <td>...</td>\n",
       "      <td>...</td>\n",
       "      <td>...</td>\n",
       "    </tr>\n",
       "    <tr>\n",
       "      <th>93695</th>\n",
       "      <td>Cafes, Fast Food, Car Dealers, Coffee &amp; Tea</td>\n",
       "      <td>1049.74</td>\n",
       "      <td>50.64</td>\n",
       "      <td>3.12</td>\n",
       "      <td>Bd de l'Ouest, 59650 Villeneuve-d'Ascq, France</td>\n",
       "      <td>Villeneuve-d'Ascq</td>\n",
       "      <td>Mercedes Café</td>\n",
       "      <td>3.0</td>\n",
       "      <td>20</td>\n",
       "    </tr>\n",
       "    <tr>\n",
       "      <th>93696</th>\n",
       "      <td>Cafes, Fast Food, Car Dealers, Coffee &amp; Tea</td>\n",
       "      <td>1049.74</td>\n",
       "      <td>50.64</td>\n",
       "      <td>3.12</td>\n",
       "      <td>Bd de l'Ouest, 59650 Villeneuve-d'Ascq, France</td>\n",
       "      <td>Villeneuve-d'Ascq</td>\n",
       "      <td>Mercedes Café</td>\n",
       "      <td>3.0</td>\n",
       "      <td>20</td>\n",
       "    </tr>\n",
       "    <tr>\n",
       "      <th>93697</th>\n",
       "      <td>Cafes, Fast Food, Car Dealers, Coffee &amp; Tea</td>\n",
       "      <td>1049.74</td>\n",
       "      <td>50.64</td>\n",
       "      <td>3.12</td>\n",
       "      <td>Bd de l'Ouest, 59650 Villeneuve-d'Ascq, France</td>\n",
       "      <td>Villeneuve-d'Ascq</td>\n",
       "      <td>Mercedes Café</td>\n",
       "      <td>3.0</td>\n",
       "      <td>20</td>\n",
       "    </tr>\n",
       "    <tr>\n",
       "      <th>93698</th>\n",
       "      <td>Cafes, Fast Food, Car Dealers, Coffee &amp; Tea</td>\n",
       "      <td>1049.74</td>\n",
       "      <td>50.64</td>\n",
       "      <td>3.12</td>\n",
       "      <td>Bd de l'Ouest, 59650 Villeneuve-d'Ascq, France</td>\n",
       "      <td>Villeneuve-d'Ascq</td>\n",
       "      <td>Mercedes Café</td>\n",
       "      <td>3.0</td>\n",
       "      <td>20</td>\n",
       "    </tr>\n",
       "    <tr>\n",
       "      <th>93699</th>\n",
       "      <td>Cafes, Fast Food, Car Dealers, Coffee &amp; Tea</td>\n",
       "      <td>1049.74</td>\n",
       "      <td>50.64</td>\n",
       "      <td>3.12</td>\n",
       "      <td>Bd de l'Ouest, 59650 Villeneuve-d'Ascq, France</td>\n",
       "      <td>Villeneuve-d'Ascq</td>\n",
       "      <td>Mercedes Café</td>\n",
       "      <td>3.0</td>\n",
       "      <td>20</td>\n",
       "    </tr>\n",
       "  </tbody>\n",
       "</table>\n",
       "<p>93700 rows × 9 columns</p>\n",
       "</div>"
      ],
      "text/plain": [
       "                                        Categories  Distance  Latitude  \\\n",
       "0                                           French    136.08     50.64   \n",
       "1                                           French    136.08     50.64   \n",
       "2                                           French    136.08     50.64   \n",
       "3                                           French    136.08     50.64   \n",
       "4                                           French    136.08     50.64   \n",
       "...                                            ...       ...       ...   \n",
       "93695  Cafes, Fast Food, Car Dealers, Coffee & Tea   1049.74     50.64   \n",
       "93696  Cafes, Fast Food, Car Dealers, Coffee & Tea   1049.74     50.64   \n",
       "93697  Cafes, Fast Food, Car Dealers, Coffee & Tea   1049.74     50.64   \n",
       "93698  Cafes, Fast Food, Car Dealers, Coffee & Tea   1049.74     50.64   \n",
       "93699  Cafes, Fast Food, Car Dealers, Coffee & Tea   1049.74     50.64   \n",
       "\n",
       "       Longitude                                            Address  \\\n",
       "0           3.08  Hôtel Casino Barrière de Lille, 777 bis pont d...   \n",
       "1           3.08  Hôtel Casino Barrière de Lille, 777 bis pont d...   \n",
       "2           3.08  Hôtel Casino Barrière de Lille, 777 bis pont d...   \n",
       "3           3.08  Hôtel Casino Barrière de Lille, 777 bis pont d...   \n",
       "4           3.08  Hôtel Casino Barrière de Lille, 777 bis pont d...   \n",
       "...          ...                                                ...   \n",
       "93695       3.12     Bd de l'Ouest, 59650 Villeneuve-d'Ascq, France   \n",
       "93696       3.12     Bd de l'Ouest, 59650 Villeneuve-d'Ascq, France   \n",
       "93697       3.12     Bd de l'Ouest, 59650 Villeneuve-d'Ascq, France   \n",
       "93698       3.12     Bd de l'Ouest, 59650 Villeneuve-d'Ascq, France   \n",
       "93699       3.12     Bd de l'Ouest, 59650 Villeneuve-d'Ascq, France   \n",
       "\n",
       "                    City                 Name  Rating  Total Bikes  \n",
       "0                  Lille  La Terrasse du Parc     4.0           20  \n",
       "1                  Lille  La Terrasse du Parc     4.0           20  \n",
       "2                  Lille  La Terrasse du Parc     4.0           20  \n",
       "3                  Lille  La Terrasse du Parc     4.0           20  \n",
       "4                  Lille  La Terrasse du Parc     4.0           20  \n",
       "...                  ...                  ...     ...          ...  \n",
       "93695  Villeneuve-d'Ascq        Mercedes Café     3.0           20  \n",
       "93696  Villeneuve-d'Ascq        Mercedes Café     3.0           20  \n",
       "93697  Villeneuve-d'Ascq        Mercedes Café     3.0           20  \n",
       "93698  Villeneuve-d'Ascq        Mercedes Café     3.0           20  \n",
       "93699  Villeneuve-d'Ascq        Mercedes Café     3.0           20  \n",
       "\n",
       "[93700 rows x 9 columns]"
      ]
     },
     "execution_count": 61,
     "metadata": {},
     "output_type": "execute_result"
    }
   ],
   "source": [
    "bld_regx = bld_reg[['Categories', 'Distance', 'Latitude', 'Longitude', 'Address', 'City', 'Name', 'Rating', 'Total Bikes']]\n",
    "bld_regx"
   ]
  },
  {
   "cell_type": "code",
   "execution_count": 62,
   "metadata": {},
   "outputs": [
    {
     "data": {
      "text/plain": [
       "(93700, 9)"
      ]
     },
     "execution_count": 62,
     "metadata": {},
     "output_type": "execute_result"
    }
   ],
   "source": [
    "bld_regx.shape"
   ]
  },
  {
   "cell_type": "code",
   "execution_count": 64,
   "metadata": {},
   "outputs": [
    {
     "name": "stdout",
     "output_type": "stream",
     "text": [
      "number of duplicate rows:  (84332, 9)\n"
     ]
    }
   ],
   "source": [
    "# Checking for duplicates\n",
    "duplicate_rows_bld_regx = bld_regx[bld_regx.duplicated()]\n",
    "print(\"number of duplicate rows: \", duplicate_rows_bld_regx.shape)"
   ]
  },
  {
   "cell_type": "code",
   "execution_count": 66,
   "metadata": {},
   "outputs": [
    {
     "data": {
      "text/html": [
       "<div>\n",
       "<style scoped>\n",
       "    .dataframe tbody tr th:only-of-type {\n",
       "        vertical-align: middle;\n",
       "    }\n",
       "\n",
       "    .dataframe tbody tr th {\n",
       "        vertical-align: top;\n",
       "    }\n",
       "\n",
       "    .dataframe thead th {\n",
       "        text-align: right;\n",
       "    }\n",
       "</style>\n",
       "<table border=\"1\" class=\"dataframe\">\n",
       "  <thead>\n",
       "    <tr style=\"text-align: right;\">\n",
       "      <th></th>\n",
       "      <th>Categories</th>\n",
       "      <th>Distance</th>\n",
       "      <th>Latitude</th>\n",
       "      <th>Longitude</th>\n",
       "      <th>Address</th>\n",
       "      <th>City</th>\n",
       "      <th>Name</th>\n",
       "      <th>Rating</th>\n",
       "      <th>Total Bikes</th>\n",
       "    </tr>\n",
       "  </thead>\n",
       "  <tbody>\n",
       "    <tr>\n",
       "      <th>0</th>\n",
       "      <td>French</td>\n",
       "      <td>136.08</td>\n",
       "      <td>50.64</td>\n",
       "      <td>3.08</td>\n",
       "      <td>Hôtel Casino Barrière de Lille, 777 bis pont d...</td>\n",
       "      <td>Lille</td>\n",
       "      <td>La Terrasse du Parc</td>\n",
       "      <td>4.0</td>\n",
       "      <td>20</td>\n",
       "    </tr>\n",
       "    <tr>\n",
       "      <th>1</th>\n",
       "      <td>French</td>\n",
       "      <td>136.08</td>\n",
       "      <td>50.64</td>\n",
       "      <td>3.08</td>\n",
       "      <td>Hôtel Casino Barrière de Lille, 777 bis pont d...</td>\n",
       "      <td>Lille</td>\n",
       "      <td>La Terrasse du Parc</td>\n",
       "      <td>4.0</td>\n",
       "      <td>20</td>\n",
       "    </tr>\n",
       "    <tr>\n",
       "      <th>2</th>\n",
       "      <td>French</td>\n",
       "      <td>136.08</td>\n",
       "      <td>50.64</td>\n",
       "      <td>3.08</td>\n",
       "      <td>Hôtel Casino Barrière de Lille, 777 bis pont d...</td>\n",
       "      <td>Lille</td>\n",
       "      <td>La Terrasse du Parc</td>\n",
       "      <td>4.0</td>\n",
       "      <td>20</td>\n",
       "    </tr>\n",
       "    <tr>\n",
       "      <th>3</th>\n",
       "      <td>French</td>\n",
       "      <td>136.08</td>\n",
       "      <td>50.64</td>\n",
       "      <td>3.08</td>\n",
       "      <td>Hôtel Casino Barrière de Lille, 777 bis pont d...</td>\n",
       "      <td>Lille</td>\n",
       "      <td>La Terrasse du Parc</td>\n",
       "      <td>4.0</td>\n",
       "      <td>20</td>\n",
       "    </tr>\n",
       "    <tr>\n",
       "      <th>4</th>\n",
       "      <td>French</td>\n",
       "      <td>136.08</td>\n",
       "      <td>50.64</td>\n",
       "      <td>3.08</td>\n",
       "      <td>Hôtel Casino Barrière de Lille, 777 bis pont d...</td>\n",
       "      <td>Lille</td>\n",
       "      <td>La Terrasse du Parc</td>\n",
       "      <td>4.0</td>\n",
       "      <td>20</td>\n",
       "    </tr>\n",
       "    <tr>\n",
       "      <th>...</th>\n",
       "      <td>...</td>\n",
       "      <td>...</td>\n",
       "      <td>...</td>\n",
       "      <td>...</td>\n",
       "      <td>...</td>\n",
       "      <td>...</td>\n",
       "      <td>...</td>\n",
       "      <td>...</td>\n",
       "      <td>...</td>\n",
       "    </tr>\n",
       "    <tr>\n",
       "      <th>93695</th>\n",
       "      <td>Cafes, Fast Food, Car Dealers, Coffee &amp; Tea</td>\n",
       "      <td>1049.74</td>\n",
       "      <td>50.64</td>\n",
       "      <td>3.12</td>\n",
       "      <td>Bd de l'Ouest, 59650 Villeneuve-d'Ascq, France</td>\n",
       "      <td>Villeneuve-d'Ascq</td>\n",
       "      <td>Mercedes Café</td>\n",
       "      <td>3.0</td>\n",
       "      <td>20</td>\n",
       "    </tr>\n",
       "    <tr>\n",
       "      <th>93696</th>\n",
       "      <td>Cafes, Fast Food, Car Dealers, Coffee &amp; Tea</td>\n",
       "      <td>1049.74</td>\n",
       "      <td>50.64</td>\n",
       "      <td>3.12</td>\n",
       "      <td>Bd de l'Ouest, 59650 Villeneuve-d'Ascq, France</td>\n",
       "      <td>Villeneuve-d'Ascq</td>\n",
       "      <td>Mercedes Café</td>\n",
       "      <td>3.0</td>\n",
       "      <td>20</td>\n",
       "    </tr>\n",
       "    <tr>\n",
       "      <th>93697</th>\n",
       "      <td>Cafes, Fast Food, Car Dealers, Coffee &amp; Tea</td>\n",
       "      <td>1049.74</td>\n",
       "      <td>50.64</td>\n",
       "      <td>3.12</td>\n",
       "      <td>Bd de l'Ouest, 59650 Villeneuve-d'Ascq, France</td>\n",
       "      <td>Villeneuve-d'Ascq</td>\n",
       "      <td>Mercedes Café</td>\n",
       "      <td>3.0</td>\n",
       "      <td>20</td>\n",
       "    </tr>\n",
       "    <tr>\n",
       "      <th>93698</th>\n",
       "      <td>Cafes, Fast Food, Car Dealers, Coffee &amp; Tea</td>\n",
       "      <td>1049.74</td>\n",
       "      <td>50.64</td>\n",
       "      <td>3.12</td>\n",
       "      <td>Bd de l'Ouest, 59650 Villeneuve-d'Ascq, France</td>\n",
       "      <td>Villeneuve-d'Ascq</td>\n",
       "      <td>Mercedes Café</td>\n",
       "      <td>3.0</td>\n",
       "      <td>20</td>\n",
       "    </tr>\n",
       "    <tr>\n",
       "      <th>93699</th>\n",
       "      <td>Cafes, Fast Food, Car Dealers, Coffee &amp; Tea</td>\n",
       "      <td>1049.74</td>\n",
       "      <td>50.64</td>\n",
       "      <td>3.12</td>\n",
       "      <td>Bd de l'Ouest, 59650 Villeneuve-d'Ascq, France</td>\n",
       "      <td>Villeneuve-d'Ascq</td>\n",
       "      <td>Mercedes Café</td>\n",
       "      <td>3.0</td>\n",
       "      <td>20</td>\n",
       "    </tr>\n",
       "  </tbody>\n",
       "</table>\n",
       "<p>93700 rows × 9 columns</p>\n",
       "</div>"
      ],
      "text/plain": [
       "                                        Categories  Distance  Latitude  \\\n",
       "0                                           French    136.08     50.64   \n",
       "1                                           French    136.08     50.64   \n",
       "2                                           French    136.08     50.64   \n",
       "3                                           French    136.08     50.64   \n",
       "4                                           French    136.08     50.64   \n",
       "...                                            ...       ...       ...   \n",
       "93695  Cafes, Fast Food, Car Dealers, Coffee & Tea   1049.74     50.64   \n",
       "93696  Cafes, Fast Food, Car Dealers, Coffee & Tea   1049.74     50.64   \n",
       "93697  Cafes, Fast Food, Car Dealers, Coffee & Tea   1049.74     50.64   \n",
       "93698  Cafes, Fast Food, Car Dealers, Coffee & Tea   1049.74     50.64   \n",
       "93699  Cafes, Fast Food, Car Dealers, Coffee & Tea   1049.74     50.64   \n",
       "\n",
       "       Longitude                                            Address  \\\n",
       "0           3.08  Hôtel Casino Barrière de Lille, 777 bis pont d...   \n",
       "1           3.08  Hôtel Casino Barrière de Lille, 777 bis pont d...   \n",
       "2           3.08  Hôtel Casino Barrière de Lille, 777 bis pont d...   \n",
       "3           3.08  Hôtel Casino Barrière de Lille, 777 bis pont d...   \n",
       "4           3.08  Hôtel Casino Barrière de Lille, 777 bis pont d...   \n",
       "...          ...                                                ...   \n",
       "93695       3.12     Bd de l'Ouest, 59650 Villeneuve-d'Ascq, France   \n",
       "93696       3.12     Bd de l'Ouest, 59650 Villeneuve-d'Ascq, France   \n",
       "93697       3.12     Bd de l'Ouest, 59650 Villeneuve-d'Ascq, France   \n",
       "93698       3.12     Bd de l'Ouest, 59650 Villeneuve-d'Ascq, France   \n",
       "93699       3.12     Bd de l'Ouest, 59650 Villeneuve-d'Ascq, France   \n",
       "\n",
       "                    City                 Name  Rating  Total Bikes  \n",
       "0                  Lille  La Terrasse du Parc     4.0           20  \n",
       "1                  Lille  La Terrasse du Parc     4.0           20  \n",
       "2                  Lille  La Terrasse du Parc     4.0           20  \n",
       "3                  Lille  La Terrasse du Parc     4.0           20  \n",
       "4                  Lille  La Terrasse du Parc     4.0           20  \n",
       "...                  ...                  ...     ...          ...  \n",
       "93695  Villeneuve-d'Ascq        Mercedes Café     3.0           20  \n",
       "93696  Villeneuve-d'Ascq        Mercedes Café     3.0           20  \n",
       "93697  Villeneuve-d'Ascq        Mercedes Café     3.0           20  \n",
       "93698  Villeneuve-d'Ascq        Mercedes Café     3.0           20  \n",
       "93699  Villeneuve-d'Ascq        Mercedes Café     3.0           20  \n",
       "\n",
       "[93700 rows x 9 columns]"
      ]
     },
     "execution_count": 66,
     "metadata": {},
     "output_type": "execute_result"
    }
   ],
   "source": [
    "# Create a copy of dataframe\n",
    "bld_regx_jk = bld_regx.copy()\n",
    "bld_regx_jk\n",
    "\n",
    "# bu_reg_x = bu_reg_x.drop_duplicates()\n",
    "# bu_reg_x.tail()"
   ]
  },
  {
   "cell_type": "code",
   "execution_count": 67,
   "metadata": {},
   "outputs": [
    {
     "name": "stdout",
     "output_type": "stream",
     "text": [
      "number of duplicate rows:  (84332, 9)\n"
     ]
    }
   ],
   "source": [
    "# Checking for duplicates\n",
    "duplicate_rows_bld_regx_jk = bld_regx_jk[bld_regx_jk.duplicated()]\n",
    "print(\"number of duplicate rows: \", duplicate_rows_bld_regx_jk.shape)\n",
    "\n"
   ]
  },
  {
   "cell_type": "code",
   "execution_count": 68,
   "metadata": {},
   "outputs": [
    {
     "data": {
      "text/html": [
       "<div>\n",
       "<style scoped>\n",
       "    .dataframe tbody tr th:only-of-type {\n",
       "        vertical-align: middle;\n",
       "    }\n",
       "\n",
       "    .dataframe tbody tr th {\n",
       "        vertical-align: top;\n",
       "    }\n",
       "\n",
       "    .dataframe thead th {\n",
       "        text-align: right;\n",
       "    }\n",
       "</style>\n",
       "<table border=\"1\" class=\"dataframe\">\n",
       "  <thead>\n",
       "    <tr style=\"text-align: right;\">\n",
       "      <th></th>\n",
       "      <th>Categories</th>\n",
       "      <th>Distance</th>\n",
       "      <th>Latitude</th>\n",
       "      <th>Longitude</th>\n",
       "      <th>Address</th>\n",
       "      <th>City</th>\n",
       "      <th>Name</th>\n",
       "      <th>Rating</th>\n",
       "      <th>Total Bikes</th>\n",
       "    </tr>\n",
       "  </thead>\n",
       "  <tbody>\n",
       "    <tr>\n",
       "      <th>93650</th>\n",
       "      <td>French, Venues &amp; Event Spaces, Caterers</td>\n",
       "      <td>948.84</td>\n",
       "      <td>50.64</td>\n",
       "      <td>3.14</td>\n",
       "      <td>99 rue Parmentier, 59650 Villeneuve d'Ascq, Fr...</td>\n",
       "      <td>Villeneuve d'Ascq</td>\n",
       "      <td>Brasserie 99</td>\n",
       "      <td>2.0</td>\n",
       "      <td>20</td>\n",
       "    </tr>\n",
       "    <tr>\n",
       "      <th>93660</th>\n",
       "      <td>Brasseries</td>\n",
       "      <td>855.76</td>\n",
       "      <td>50.64</td>\n",
       "      <td>3.12</td>\n",
       "      <td>138 rue Jules Guesde, 59650 Villeneuve-d'Ascq,...</td>\n",
       "      <td>Villeneuve-d'Ascq</td>\n",
       "      <td>Le Zythologue</td>\n",
       "      <td>2.0</td>\n",
       "      <td>20</td>\n",
       "    </tr>\n",
       "    <tr>\n",
       "      <th>93670</th>\n",
       "      <td>Food Stands</td>\n",
       "      <td>614.36</td>\n",
       "      <td>50.63</td>\n",
       "      <td>3.13</td>\n",
       "      <td>Rue Alexandre Detroy, 59650 Villeneuve-d'Ascq,...</td>\n",
       "      <td>Villeneuve-d'Ascq</td>\n",
       "      <td>Friterie du Bourg</td>\n",
       "      <td>3.0</td>\n",
       "      <td>20</td>\n",
       "    </tr>\n",
       "    <tr>\n",
       "      <th>93680</th>\n",
       "      <td>French</td>\n",
       "      <td>941.37</td>\n",
       "      <td>50.64</td>\n",
       "      <td>3.15</td>\n",
       "      <td>1 allée du musée, 59650 Villeneuve-d'Ascq, France</td>\n",
       "      <td>Villeneuve-d'Ascq</td>\n",
       "      <td>Culin'r</td>\n",
       "      <td>3.0</td>\n",
       "      <td>20</td>\n",
       "    </tr>\n",
       "    <tr>\n",
       "      <th>93690</th>\n",
       "      <td>Cafes, Fast Food, Car Dealers, Coffee &amp; Tea</td>\n",
       "      <td>1049.74</td>\n",
       "      <td>50.64</td>\n",
       "      <td>3.12</td>\n",
       "      <td>Bd de l'Ouest, 59650 Villeneuve-d'Ascq, France</td>\n",
       "      <td>Villeneuve-d'Ascq</td>\n",
       "      <td>Mercedes Café</td>\n",
       "      <td>3.0</td>\n",
       "      <td>20</td>\n",
       "    </tr>\n",
       "  </tbody>\n",
       "</table>\n",
       "</div>"
      ],
      "text/plain": [
       "                                        Categories  Distance  Latitude  \\\n",
       "93650      French, Venues & Event Spaces, Caterers    948.84     50.64   \n",
       "93660                                   Brasseries    855.76     50.64   \n",
       "93670                                  Food Stands    614.36     50.63   \n",
       "93680                                       French    941.37     50.64   \n",
       "93690  Cafes, Fast Food, Car Dealers, Coffee & Tea   1049.74     50.64   \n",
       "\n",
       "       Longitude                                            Address  \\\n",
       "93650       3.14  99 rue Parmentier, 59650 Villeneuve d'Ascq, Fr...   \n",
       "93660       3.12  138 rue Jules Guesde, 59650 Villeneuve-d'Ascq,...   \n",
       "93670       3.13  Rue Alexandre Detroy, 59650 Villeneuve-d'Ascq,...   \n",
       "93680       3.15  1 allée du musée, 59650 Villeneuve-d'Ascq, France   \n",
       "93690       3.12     Bd de l'Ouest, 59650 Villeneuve-d'Ascq, France   \n",
       "\n",
       "                    City               Name  Rating  Total Bikes  \n",
       "93650  Villeneuve d'Ascq       Brasserie 99     2.0           20  \n",
       "93660  Villeneuve-d'Ascq      Le Zythologue     2.0           20  \n",
       "93670  Villeneuve-d'Ascq  Friterie du Bourg     3.0           20  \n",
       "93680  Villeneuve-d'Ascq            Culin'r     3.0           20  \n",
       "93690  Villeneuve-d'Ascq      Mercedes Café     3.0           20  "
      ]
     },
     "execution_count": 68,
     "metadata": {},
     "output_type": "execute_result"
    }
   ],
   "source": [
    "# Drop duplicates\n",
    "bld_regx_jk = bld_regx_jk.drop_duplicates()\n",
    "bld_regx_jk.tail()"
   ]
  },
  {
   "cell_type": "code",
   "execution_count": 69,
   "metadata": {},
   "outputs": [
    {
     "name": "stdout",
     "output_type": "stream",
     "text": [
      "number of duplicate rows:  (0, 9)\n"
     ]
    }
   ],
   "source": [
    "# Checking for duplicates\n",
    "duplicate_rows_bld_regx_jk = bld_regx_jk[bld_regx_jk.duplicated()]\n",
    "print(\"number of duplicate rows: \", duplicate_rows_bld_regx_jk.shape)"
   ]
  },
  {
   "cell_type": "code",
   "execution_count": 70,
   "metadata": {},
   "outputs": [
    {
     "data": {
      "text/html": [
       "<div>\n",
       "<style scoped>\n",
       "    .dataframe tbody tr th:only-of-type {\n",
       "        vertical-align: middle;\n",
       "    }\n",
       "\n",
       "    .dataframe tbody tr th {\n",
       "        vertical-align: top;\n",
       "    }\n",
       "\n",
       "    .dataframe thead th {\n",
       "        text-align: right;\n",
       "    }\n",
       "</style>\n",
       "<table border=\"1\" class=\"dataframe\">\n",
       "  <thead>\n",
       "    <tr style=\"text-align: right;\">\n",
       "      <th></th>\n",
       "      <th>Categories</th>\n",
       "      <th>Distance</th>\n",
       "      <th>Latitude</th>\n",
       "      <th>Longitude</th>\n",
       "      <th>Address</th>\n",
       "      <th>City</th>\n",
       "      <th>Name</th>\n",
       "      <th>Rating</th>\n",
       "      <th>Total Bikes</th>\n",
       "    </tr>\n",
       "  </thead>\n",
       "  <tbody>\n",
       "    <tr>\n",
       "      <th>0</th>\n",
       "      <td>French</td>\n",
       "      <td>136.08</td>\n",
       "      <td>50.64</td>\n",
       "      <td>3.08</td>\n",
       "      <td>Hôtel Casino Barrière de Lille, 777 bis pont d...</td>\n",
       "      <td>Lille</td>\n",
       "      <td>La Terrasse du Parc</td>\n",
       "      <td>4.0</td>\n",
       "      <td>20</td>\n",
       "    </tr>\n",
       "    <tr>\n",
       "      <th>10</th>\n",
       "      <td>Coffee &amp; Tea, Breakfast &amp; Brunch</td>\n",
       "      <td>816.65</td>\n",
       "      <td>50.63</td>\n",
       "      <td>3.07</td>\n",
       "      <td>151 rue de Paris, 59800 Lille, France</td>\n",
       "      <td>Lille</td>\n",
       "      <td>Coffee Makers</td>\n",
       "      <td>4.5</td>\n",
       "      <td>20</td>\n",
       "    </tr>\n",
       "    <tr>\n",
       "      <th>20</th>\n",
       "      <td>French</td>\n",
       "      <td>115.09</td>\n",
       "      <td>50.64</td>\n",
       "      <td>3.08</td>\n",
       "      <td>Hôtel Casino Barrière de Lille, 777 bis pont d...</td>\n",
       "      <td>Lille</td>\n",
       "      <td>Les Hauts de Lille</td>\n",
       "      <td>4.0</td>\n",
       "      <td>20</td>\n",
       "    </tr>\n",
       "    <tr>\n",
       "      <th>30</th>\n",
       "      <td>Steakhouses, Barbeque</td>\n",
       "      <td>628.17</td>\n",
       "      <td>50.64</td>\n",
       "      <td>3.07</td>\n",
       "      <td>13 rue Sainte-Anne, 59800 Lille, France</td>\n",
       "      <td>Lille</td>\n",
       "      <td>Grill Sainte-Anne</td>\n",
       "      <td>4.5</td>\n",
       "      <td>20</td>\n",
       "    </tr>\n",
       "    <tr>\n",
       "      <th>40</th>\n",
       "      <td>Greek</td>\n",
       "      <td>937.10</td>\n",
       "      <td>50.64</td>\n",
       "      <td>3.07</td>\n",
       "      <td>86 rue de Gand, 59000 Lille, France</td>\n",
       "      <td>Lille</td>\n",
       "      <td>L'Ile de Crète</td>\n",
       "      <td>4.5</td>\n",
       "      <td>20</td>\n",
       "    </tr>\n",
       "    <tr>\n",
       "      <th>...</th>\n",
       "      <td>...</td>\n",
       "      <td>...</td>\n",
       "      <td>...</td>\n",
       "      <td>...</td>\n",
       "      <td>...</td>\n",
       "      <td>...</td>\n",
       "      <td>...</td>\n",
       "      <td>...</td>\n",
       "      <td>...</td>\n",
       "    </tr>\n",
       "    <tr>\n",
       "      <th>93650</th>\n",
       "      <td>French, Venues &amp; Event Spaces, Caterers</td>\n",
       "      <td>948.84</td>\n",
       "      <td>50.64</td>\n",
       "      <td>3.14</td>\n",
       "      <td>99 rue Parmentier, 59650 Villeneuve d'Ascq, Fr...</td>\n",
       "      <td>Villeneuve d'Ascq</td>\n",
       "      <td>Brasserie 99</td>\n",
       "      <td>2.0</td>\n",
       "      <td>20</td>\n",
       "    </tr>\n",
       "    <tr>\n",
       "      <th>93660</th>\n",
       "      <td>Brasseries</td>\n",
       "      <td>855.76</td>\n",
       "      <td>50.64</td>\n",
       "      <td>3.12</td>\n",
       "      <td>138 rue Jules Guesde, 59650 Villeneuve-d'Ascq,...</td>\n",
       "      <td>Villeneuve-d'Ascq</td>\n",
       "      <td>Le Zythologue</td>\n",
       "      <td>2.0</td>\n",
       "      <td>20</td>\n",
       "    </tr>\n",
       "    <tr>\n",
       "      <th>93670</th>\n",
       "      <td>Food Stands</td>\n",
       "      <td>614.36</td>\n",
       "      <td>50.63</td>\n",
       "      <td>3.13</td>\n",
       "      <td>Rue Alexandre Detroy, 59650 Villeneuve-d'Ascq,...</td>\n",
       "      <td>Villeneuve-d'Ascq</td>\n",
       "      <td>Friterie du Bourg</td>\n",
       "      <td>3.0</td>\n",
       "      <td>20</td>\n",
       "    </tr>\n",
       "    <tr>\n",
       "      <th>93680</th>\n",
       "      <td>French</td>\n",
       "      <td>941.37</td>\n",
       "      <td>50.64</td>\n",
       "      <td>3.15</td>\n",
       "      <td>1 allée du musée, 59650 Villeneuve-d'Ascq, France</td>\n",
       "      <td>Villeneuve-d'Ascq</td>\n",
       "      <td>Culin'r</td>\n",
       "      <td>3.0</td>\n",
       "      <td>20</td>\n",
       "    </tr>\n",
       "    <tr>\n",
       "      <th>93690</th>\n",
       "      <td>Cafes, Fast Food, Car Dealers, Coffee &amp; Tea</td>\n",
       "      <td>1049.74</td>\n",
       "      <td>50.64</td>\n",
       "      <td>3.12</td>\n",
       "      <td>Bd de l'Ouest, 59650 Villeneuve-d'Ascq, France</td>\n",
       "      <td>Villeneuve-d'Ascq</td>\n",
       "      <td>Mercedes Café</td>\n",
       "      <td>3.0</td>\n",
       "      <td>20</td>\n",
       "    </tr>\n",
       "  </tbody>\n",
       "</table>\n",
       "<p>9368 rows × 9 columns</p>\n",
       "</div>"
      ],
      "text/plain": [
       "                                        Categories  Distance  Latitude  \\\n",
       "0                                           French    136.08     50.64   \n",
       "10                Coffee & Tea, Breakfast & Brunch    816.65     50.63   \n",
       "20                                          French    115.09     50.64   \n",
       "30                           Steakhouses, Barbeque    628.17     50.64   \n",
       "40                                           Greek    937.10     50.64   \n",
       "...                                            ...       ...       ...   \n",
       "93650      French, Venues & Event Spaces, Caterers    948.84     50.64   \n",
       "93660                                   Brasseries    855.76     50.64   \n",
       "93670                                  Food Stands    614.36     50.63   \n",
       "93680                                       French    941.37     50.64   \n",
       "93690  Cafes, Fast Food, Car Dealers, Coffee & Tea   1049.74     50.64   \n",
       "\n",
       "       Longitude                                            Address  \\\n",
       "0           3.08  Hôtel Casino Barrière de Lille, 777 bis pont d...   \n",
       "10          3.07              151 rue de Paris, 59800 Lille, France   \n",
       "20          3.08  Hôtel Casino Barrière de Lille, 777 bis pont d...   \n",
       "30          3.07            13 rue Sainte-Anne, 59800 Lille, France   \n",
       "40          3.07                86 rue de Gand, 59000 Lille, France   \n",
       "...          ...                                                ...   \n",
       "93650       3.14  99 rue Parmentier, 59650 Villeneuve d'Ascq, Fr...   \n",
       "93660       3.12  138 rue Jules Guesde, 59650 Villeneuve-d'Ascq,...   \n",
       "93670       3.13  Rue Alexandre Detroy, 59650 Villeneuve-d'Ascq,...   \n",
       "93680       3.15  1 allée du musée, 59650 Villeneuve-d'Ascq, France   \n",
       "93690       3.12     Bd de l'Ouest, 59650 Villeneuve-d'Ascq, France   \n",
       "\n",
       "                    City                 Name  Rating  Total Bikes  \n",
       "0                  Lille  La Terrasse du Parc     4.0           20  \n",
       "10                 Lille        Coffee Makers     4.5           20  \n",
       "20                 Lille   Les Hauts de Lille     4.0           20  \n",
       "30                 Lille    Grill Sainte-Anne     4.5           20  \n",
       "40                 Lille       L'Ile de Crète     4.5           20  \n",
       "...                  ...                  ...     ...          ...  \n",
       "93650  Villeneuve d'Ascq         Brasserie 99     2.0           20  \n",
       "93660  Villeneuve-d'Ascq        Le Zythologue     2.0           20  \n",
       "93670  Villeneuve-d'Ascq    Friterie du Bourg     3.0           20  \n",
       "93680  Villeneuve-d'Ascq              Culin'r     3.0           20  \n",
       "93690  Villeneuve-d'Ascq        Mercedes Café     3.0           20  \n",
       "\n",
       "[9368 rows x 9 columns]"
      ]
     },
     "execution_count": 70,
     "metadata": {},
     "output_type": "execute_result"
    }
   ],
   "source": [
    "bld_regx = bld_regx_jk\n",
    "bld_regx"
   ]
  },
  {
   "cell_type": "code",
   "execution_count": 71,
   "metadata": {},
   "outputs": [],
   "source": [
    "del bld_regx_jk"
   ]
  },
  {
   "cell_type": "code",
   "execution_count": 72,
   "metadata": {},
   "outputs": [
    {
     "name": "stdout",
     "output_type": "stream",
     "text": [
      "\n",
      "Missing Values:\n",
      "Categories     0\n",
      "Distance       0\n",
      "Latitude       0\n",
      "Longitude      0\n",
      "Address        0\n",
      "City           0\n",
      "Name           0\n",
      "Rating         0\n",
      "Total Bikes    0\n",
      "dtype: int64\n"
     ]
    }
   ],
   "source": [
    "# Checking for missing or null values.\n",
    "\n",
    "print(\"\\nMissing Values:\")\n",
    "print(bld_regx.isnull().sum())   # Before dropping the values"
   ]
  },
  {
   "cell_type": "code",
   "execution_count": 74,
   "metadata": {},
   "outputs": [
    {
     "data": {
      "text/plain": [
       "(9368, 9)"
      ]
     },
     "execution_count": 74,
     "metadata": {},
     "output_type": "execute_result"
    }
   ],
   "source": [
    "bld_regx.shape"
   ]
  },
  {
   "cell_type": "markdown",
   "metadata": {},
   "source": [
    "No missing values"
   ]
  },
  {
   "cell_type": "code",
   "execution_count": 107,
   "metadata": {},
   "outputs": [
    {
     "data": {
      "text/html": [
       "<div>\n",
       "<style scoped>\n",
       "    .dataframe tbody tr th:only-of-type {\n",
       "        vertical-align: middle;\n",
       "    }\n",
       "\n",
       "    .dataframe tbody tr th {\n",
       "        vertical-align: top;\n",
       "    }\n",
       "\n",
       "    .dataframe thead th {\n",
       "        text-align: right;\n",
       "    }\n",
       "</style>\n",
       "<table border=\"1\" class=\"dataframe\">\n",
       "  <thead>\n",
       "    <tr style=\"text-align: right;\">\n",
       "      <th></th>\n",
       "      <th>Distance</th>\n",
       "      <th>Latitude</th>\n",
       "      <th>Longitude</th>\n",
       "      <th>Rating</th>\n",
       "      <th>Total Bikes</th>\n",
       "    </tr>\n",
       "  </thead>\n",
       "  <tbody>\n",
       "    <tr>\n",
       "      <th>count</th>\n",
       "      <td>9368.000000</td>\n",
       "      <td>9368.000000</td>\n",
       "      <td>9368.000000</td>\n",
       "      <td>9368.000000</td>\n",
       "      <td>9368.0</td>\n",
       "    </tr>\n",
       "    <tr>\n",
       "      <th>mean</th>\n",
       "      <td>674.414488</td>\n",
       "      <td>50.641814</td>\n",
       "      <td>3.085436</td>\n",
       "      <td>3.891919</td>\n",
       "      <td>20.0</td>\n",
       "    </tr>\n",
       "    <tr>\n",
       "      <th>std</th>\n",
       "      <td>338.908231</td>\n",
       "      <td>0.022915</td>\n",
       "      <td>0.046140</td>\n",
       "      <td>0.671788</td>\n",
       "      <td>0.0</td>\n",
       "    </tr>\n",
       "    <tr>\n",
       "      <th>min</th>\n",
       "      <td>3.150000</td>\n",
       "      <td>50.600000</td>\n",
       "      <td>2.980000</td>\n",
       "      <td>2.000000</td>\n",
       "      <td>20.0</td>\n",
       "    </tr>\n",
       "    <tr>\n",
       "      <th>25%</th>\n",
       "      <td>378.565000</td>\n",
       "      <td>50.630000</td>\n",
       "      <td>3.060000</td>\n",
       "      <td>3.500000</td>\n",
       "      <td>20.0</td>\n",
       "    </tr>\n",
       "    <tr>\n",
       "      <th>50%</th>\n",
       "      <td>704.625000</td>\n",
       "      <td>50.640000</td>\n",
       "      <td>3.070000</td>\n",
       "      <td>4.000000</td>\n",
       "      <td>20.0</td>\n",
       "    </tr>\n",
       "    <tr>\n",
       "      <th>75%</th>\n",
       "      <td>956.192500</td>\n",
       "      <td>50.650000</td>\n",
       "      <td>3.120000</td>\n",
       "      <td>4.500000</td>\n",
       "      <td>20.0</td>\n",
       "    </tr>\n",
       "    <tr>\n",
       "      <th>max</th>\n",
       "      <td>1803.950000</td>\n",
       "      <td>50.700000</td>\n",
       "      <td>3.230000</td>\n",
       "      <td>5.000000</td>\n",
       "      <td>20.0</td>\n",
       "    </tr>\n",
       "  </tbody>\n",
       "</table>\n",
       "</div>"
      ],
      "text/plain": [
       "          Distance     Latitude    Longitude       Rating  Total Bikes\n",
       "count  9368.000000  9368.000000  9368.000000  9368.000000       9368.0\n",
       "mean    674.414488    50.641814     3.085436     3.891919         20.0\n",
       "std     338.908231     0.022915     0.046140     0.671788          0.0\n",
       "min       3.150000    50.600000     2.980000     2.000000         20.0\n",
       "25%     378.565000    50.630000     3.060000     3.500000         20.0\n",
       "50%     704.625000    50.640000     3.070000     4.000000         20.0\n",
       "75%     956.192500    50.650000     3.120000     4.500000         20.0\n",
       "max    1803.950000    50.700000     3.230000     5.000000         20.0"
      ]
     },
     "execution_count": 107,
     "metadata": {},
     "output_type": "execute_result"
    }
   ],
   "source": [
    "bld_regx.describe()"
   ]
  },
  {
   "cell_type": "markdown",
   "metadata": {},
   "source": [
    "# EXPLORATORY DATA ANALYSIS"
   ]
  },
  {
   "cell_type": "code",
   "execution_count": 97,
   "metadata": {},
   "outputs": [
    {
     "data": {
      "image/png": "[encoded data removed]",
      "text/plain": [
       "<Figure size 2000x2000 with 9 Axes>"
      ]
     },
     "metadata": {},
     "output_type": "display_data"
    }
   ],
   "source": [
    "# Histogram distribution for dataframe\n",
    "def draw_histograms(dataframe, features, rows, cols):\n",
    "    fig=plt.figure(figsize=(20,20))\n",
    "    for i, feature in enumerate(features):\n",
    "        ax=fig.add_subplot(rows,cols,i+1)\n",
    "        dataframe[feature].hist(bins=20,ax=ax,facecolor='midnightblue')\n",
    "        ax.set_title(feature+\" Distribution\",color='DarkRed')\n",
    "        ax.set_yscale('log')\n",
    "    fig.tight_layout()  \n",
    "    plt.show()\n",
    "draw_histograms(bld_regx,bld_regx.columns,8,4)"
   ]
  },
  {
   "cell_type": "code",
   "execution_count": 76,
   "metadata": {},
   "outputs": [
    {
     "data": {
      "text/plain": [
       "20    9368\n",
       "Name: Total Bikes, dtype: int64"
      ]
     },
     "execution_count": 76,
     "metadata": {},
     "output_type": "execute_result"
    }
   ],
   "source": [
    "bld_regx['Total Bikes'].value_counts()"
   ]
  },
  {
   "cell_type": "code",
   "execution_count": 98,
   "metadata": {},
   "outputs": [
    {
     "data": {
      "image/png": "[encoded data removed]",
      "text/plain": [
       "<Figure size 640x480 with 1 Axes>"
      ]
     },
     "metadata": {},
     "output_type": "display_data"
    }
   ],
   "source": [
    "ax=sns.countplot(x='Total Bikes',data=bld_regx);\n",
    "ax.set_yscale('log')"
   ]
  },
  {
   "cell_type": "code",
   "execution_count": 99,
   "metadata": {},
   "outputs": [
    {
     "data": {
      "image/png": "[encoded data removed]",
      "text/plain": [
       "<Figure size 1000x400 with 2 Axes>"
      ]
     },
     "metadata": {},
     "output_type": "display_data"
    }
   ],
   "source": [
    "plt.figure(figsize = (10,4))\n",
    "sns.heatmap(bld_regx.corr(), annot = True, cmap=\"tab20c\")\n",
    "plt.show()"
   ]
  },
  {
   "cell_type": "code",
   "execution_count": 100,
   "metadata": {},
   "outputs": [
    {
     "data": {
      "text/plain": [
       "Index(['Categories', 'Distance', 'Latitude', 'Longitude', 'Address', 'City',\n",
       "       'Name', 'Rating', 'Total Bikes'],\n",
       "      dtype='object')"
      ]
     },
     "execution_count": 100,
     "metadata": {},
     "output_type": "execute_result"
    }
   ],
   "source": [
    "bld_regx.columns"
   ]
  },
  {
   "cell_type": "code",
   "execution_count": 79,
   "metadata": {},
   "outputs": [],
   "source": [
    "#Dropping \n",
    "estimators=['Categories', 'Distance', 'Latitude', 'Longitude', 'Address', 'City', 'Name', 'Rating']\n",
    "\n",
    "X1 = bld_regx[estimators]\n",
    "y = bld_regx['Total Bikes']"
   ]
  },
  {
   "cell_type": "code",
   "execution_count": null,
   "metadata": {},
   "outputs": [],
   "source": []
  },
  {
   "cell_type": "code",
   "execution_count": null,
   "metadata": {},
   "outputs": [],
   "source": []
  },
  {
   "cell_type": "code",
   "execution_count": 106,
   "metadata": {},
   "outputs": [
    {
     "data": {
      "text/plain": [
       "Index([], dtype='object')"
      ]
     },
     "execution_count": 106,
     "metadata": {},
     "output_type": "execute_result"
    }
   ],
   "source": [
    "col=X1.columns[:-1]\n",
    "col"
   ]
  },
  {
   "cell_type": "code",
   "execution_count": 102,
   "metadata": {},
   "outputs": [
    {
     "ename": "ValueError",
     "evalue": "Pandas data cast to numpy dtype of object. Check input data with np.asarray(data). The types seen wereNone and const       float64\nCategory     object\ndtype: object. The data was\nTotal Bikes\nand\n    const Category\n0    1.0        A\n1    1.0        B\n2    1.0        A\n3    1.0        C\n4    1.0        B\n5    1.0        C\nbefore. After,\nTotal Bikes\n[[1.0 'A']\n [1.0 'B']\n [1.0 'A']\n [1.0 'C']\n [1.0 'B']\n [1.0 'C']].",
     "output_type": "error",
     "traceback": [
      "\u001b[1;31m---------------------------------------------------------------------------\u001b[0m",
      "\u001b[1;31mValueError\u001b[0m                                Traceback (most recent call last)",
      "\u001b[1;32mc:\\Code\\Projects\\Project-Statistical-Modelling-with-Python\\notebooks\\model_building.ipynb Cell 28\u001b[0m line \u001b[0;36m2\n\u001b[0;32m      <a href='vscode-notebook-cell:/c%3A/Code/Projects/Project-Statistical-Modelling-with-Python/notebooks/model_building.ipynb#Y100sZmlsZQ%3D%3D?line=0'>1</a>\u001b[0m X \u001b[39m=\u001b[39m sm\u001b[39m.\u001b[39madd_constant(X1)\n\u001b[1;32m----> <a href='vscode-notebook-cell:/c%3A/Code/Projects/Project-Statistical-Modelling-with-Python/notebooks/model_building.ipynb#Y100sZmlsZQ%3D%3D?line=1'>2</a>\u001b[0m reg_logit \u001b[39m=\u001b[39m sm\u001b[39m.\u001b[39mLogit(y,X)\n\u001b[0;32m      <a href='vscode-notebook-cell:/c%3A/Code/Projects/Project-Statistical-Modelling-with-Python/notebooks/model_building.ipynb#Y100sZmlsZQ%3D%3D?line=2'>3</a>\u001b[0m results_logit \u001b[39m=\u001b[39m reg_logit\u001b[39m.\u001b[39mfit()\n",
      "File \u001b[1;32mc:\\Users\\franc\\anaconda3.9\\Lib\\site-packages\\statsmodels\\discrete\\discrete_model.py:462\u001b[0m, in \u001b[0;36mBinaryModel.__init__\u001b[1;34m(self, endog, exog, check_rank, **kwargs)\u001b[0m\n\u001b[0;32m    459\u001b[0m \u001b[39mdef\u001b[39;00m \u001b[39m__init__\u001b[39m(\u001b[39mself\u001b[39m, endog, exog, check_rank\u001b[39m=\u001b[39m\u001b[39mTrue\u001b[39;00m, \u001b[39m*\u001b[39m\u001b[39m*\u001b[39mkwargs):\n\u001b[0;32m    460\u001b[0m     \u001b[39m# unconditional check, requires no extra kwargs added by subclasses\u001b[39;00m\n\u001b[0;32m    461\u001b[0m     \u001b[39mself\u001b[39m\u001b[39m.\u001b[39m_check_kwargs(kwargs)\n\u001b[1;32m--> 462\u001b[0m     \u001b[39msuper\u001b[39m()\u001b[39m.\u001b[39m\u001b[39m__init__\u001b[39m(endog, exog, check_rank, \u001b[39m*\u001b[39m\u001b[39m*\u001b[39mkwargs)\n\u001b[0;32m    463\u001b[0m     \u001b[39mif\u001b[39;00m \u001b[39mnot\u001b[39;00m \u001b[39missubclass\u001b[39m(\u001b[39mself\u001b[39m\u001b[39m.\u001b[39m\u001b[39m__class__\u001b[39m, MultinomialModel):\n\u001b[0;32m    464\u001b[0m         \u001b[39mif\u001b[39;00m \u001b[39mnot\u001b[39;00m np\u001b[39m.\u001b[39mall((\u001b[39mself\u001b[39m\u001b[39m.\u001b[39mendog \u001b[39m>\u001b[39m\u001b[39m=\u001b[39m \u001b[39m0\u001b[39m) \u001b[39m&\u001b[39m (\u001b[39mself\u001b[39m\u001b[39m.\u001b[39mendog \u001b[39m<\u001b[39m\u001b[39m=\u001b[39m \u001b[39m1\u001b[39m)):\n",
      "File \u001b[1;32mc:\\Users\\franc\\anaconda3.9\\Lib\\site-packages\\statsmodels\\discrete\\discrete_model.py:178\u001b[0m, in \u001b[0;36mDiscreteModel.__init__\u001b[1;34m(self, endog, exog, check_rank, **kwargs)\u001b[0m\n\u001b[0;32m    176\u001b[0m \u001b[39mdef\u001b[39;00m \u001b[39m__init__\u001b[39m(\u001b[39mself\u001b[39m, endog, exog, check_rank\u001b[39m=\u001b[39m\u001b[39mTrue\u001b[39;00m, \u001b[39m*\u001b[39m\u001b[39m*\u001b[39mkwargs):\n\u001b[0;32m    177\u001b[0m     \u001b[39mself\u001b[39m\u001b[39m.\u001b[39m_check_rank \u001b[39m=\u001b[39m check_rank\n\u001b[1;32m--> 178\u001b[0m     \u001b[39msuper\u001b[39m()\u001b[39m.\u001b[39m\u001b[39m__init__\u001b[39m(endog, exog, \u001b[39m*\u001b[39m\u001b[39m*\u001b[39mkwargs)\n\u001b[0;32m    179\u001b[0m     \u001b[39mself\u001b[39m\u001b[39m.\u001b[39mraise_on_perfect_prediction \u001b[39m=\u001b[39m \u001b[39mTrue\u001b[39;00m\n",
      "File \u001b[1;32mc:\\Users\\franc\\anaconda3.9\\Lib\\site-packages\\statsmodels\\base\\model.py:267\u001b[0m, in \u001b[0;36mLikelihoodModel.__init__\u001b[1;34m(self, endog, exog, **kwargs)\u001b[0m\n\u001b[0;32m    266\u001b[0m \u001b[39mdef\u001b[39;00m \u001b[39m__init__\u001b[39m(\u001b[39mself\u001b[39m, endog, exog\u001b[39m=\u001b[39m\u001b[39mNone\u001b[39;00m, \u001b[39m*\u001b[39m\u001b[39m*\u001b[39mkwargs):\n\u001b[1;32m--> 267\u001b[0m     \u001b[39msuper\u001b[39m()\u001b[39m.\u001b[39m\u001b[39m__init__\u001b[39m(endog, exog, \u001b[39m*\u001b[39m\u001b[39m*\u001b[39mkwargs)\n\u001b[0;32m    268\u001b[0m     \u001b[39mself\u001b[39m\u001b[39m.\u001b[39minitialize()\n",
      "File \u001b[1;32mc:\\Users\\franc\\anaconda3.9\\Lib\\site-packages\\statsmodels\\base\\model.py:92\u001b[0m, in \u001b[0;36mModel.__init__\u001b[1;34m(self, endog, exog, **kwargs)\u001b[0m\n\u001b[0;32m     90\u001b[0m missing \u001b[39m=\u001b[39m kwargs\u001b[39m.\u001b[39mpop(\u001b[39m'\u001b[39m\u001b[39mmissing\u001b[39m\u001b[39m'\u001b[39m, \u001b[39m'\u001b[39m\u001b[39mnone\u001b[39m\u001b[39m'\u001b[39m)\n\u001b[0;32m     91\u001b[0m hasconst \u001b[39m=\u001b[39m kwargs\u001b[39m.\u001b[39mpop(\u001b[39m'\u001b[39m\u001b[39mhasconst\u001b[39m\u001b[39m'\u001b[39m, \u001b[39mNone\u001b[39;00m)\n\u001b[1;32m---> 92\u001b[0m \u001b[39mself\u001b[39m\u001b[39m.\u001b[39mdata \u001b[39m=\u001b[39m \u001b[39mself\u001b[39m\u001b[39m.\u001b[39m_handle_data(endog, exog, missing, hasconst,\n\u001b[0;32m     93\u001b[0m                               \u001b[39m*\u001b[39m\u001b[39m*\u001b[39mkwargs)\n\u001b[0;32m     94\u001b[0m \u001b[39mself\u001b[39m\u001b[39m.\u001b[39mk_constant \u001b[39m=\u001b[39m \u001b[39mself\u001b[39m\u001b[39m.\u001b[39mdata\u001b[39m.\u001b[39mk_constant\n\u001b[0;32m     95\u001b[0m \u001b[39mself\u001b[39m\u001b[39m.\u001b[39mexog \u001b[39m=\u001b[39m \u001b[39mself\u001b[39m\u001b[39m.\u001b[39mdata\u001b[39m.\u001b[39mexog\n",
      "File \u001b[1;32mc:\\Users\\franc\\anaconda3.9\\Lib\\site-packages\\statsmodels\\base\\model.py:132\u001b[0m, in \u001b[0;36mModel._handle_data\u001b[1;34m(self, endog, exog, missing, hasconst, **kwargs)\u001b[0m\n\u001b[0;32m    131\u001b[0m \u001b[39mdef\u001b[39;00m \u001b[39m_handle_data\u001b[39m(\u001b[39mself\u001b[39m, endog, exog, missing, hasconst, \u001b[39m*\u001b[39m\u001b[39m*\u001b[39mkwargs):\n\u001b[1;32m--> 132\u001b[0m     data \u001b[39m=\u001b[39m handle_data(endog, exog, missing, hasconst, \u001b[39m*\u001b[39m\u001b[39m*\u001b[39mkwargs)\n\u001b[0;32m    133\u001b[0m     \u001b[39m# kwargs arrays could have changed, easier to just attach here\u001b[39;00m\n\u001b[0;32m    134\u001b[0m     \u001b[39mfor\u001b[39;00m key \u001b[39min\u001b[39;00m kwargs:\n",
      "File \u001b[1;32mc:\\Users\\franc\\anaconda3.9\\Lib\\site-packages\\statsmodels\\base\\data.py:700\u001b[0m, in \u001b[0;36mhandle_data\u001b[1;34m(endog, exog, missing, hasconst, **kwargs)\u001b[0m\n\u001b[0;32m    697\u001b[0m     exog \u001b[39m=\u001b[39m np\u001b[39m.\u001b[39masarray(exog)\n\u001b[0;32m    699\u001b[0m klass \u001b[39m=\u001b[39m handle_data_class_factory(endog, exog)\n\u001b[1;32m--> 700\u001b[0m \u001b[39mreturn\u001b[39;00m klass(endog, exog\u001b[39m=\u001b[39mexog, missing\u001b[39m=\u001b[39mmissing, hasconst\u001b[39m=\u001b[39mhasconst,\n\u001b[0;32m    701\u001b[0m              \u001b[39m*\u001b[39m\u001b[39m*\u001b[39mkwargs)\n",
      "File \u001b[1;32mc:\\Users\\franc\\anaconda3.9\\Lib\\site-packages\\statsmodels\\base\\data.py:84\u001b[0m, in \u001b[0;36mModelData.__init__\u001b[1;34m(self, endog, exog, missing, hasconst, **kwargs)\u001b[0m\n\u001b[0;32m     82\u001b[0m     \u001b[39mself\u001b[39m\u001b[39m.\u001b[39morig_endog \u001b[39m=\u001b[39m endog\n\u001b[0;32m     83\u001b[0m     \u001b[39mself\u001b[39m\u001b[39m.\u001b[39morig_exog \u001b[39m=\u001b[39m exog\n\u001b[1;32m---> 84\u001b[0m     \u001b[39mself\u001b[39m\u001b[39m.\u001b[39mendog, \u001b[39mself\u001b[39m\u001b[39m.\u001b[39mexog \u001b[39m=\u001b[39m \u001b[39mself\u001b[39m\u001b[39m.\u001b[39m_convert_endog_exog(endog, exog)\n\u001b[0;32m     86\u001b[0m \u001b[39mself\u001b[39m\u001b[39m.\u001b[39mconst_idx \u001b[39m=\u001b[39m \u001b[39mNone\u001b[39;00m\n\u001b[0;32m     87\u001b[0m \u001b[39mself\u001b[39m\u001b[39m.\u001b[39mk_constant \u001b[39m=\u001b[39m \u001b[39m0\u001b[39m\n",
      "File \u001b[1;32mc:\\Users\\franc\\anaconda3.9\\Lib\\site-packages\\statsmodels\\base\\data.py:530\u001b[0m, in \u001b[0;36mPandasData._convert_endog_exog\u001b[1;34m(self, endog, exog)\u001b[0m\n\u001b[0;32m    528\u001b[0m     \u001b[39melse\u001b[39;00m:\n\u001b[0;32m    529\u001b[0m         exog_dtype \u001b[39m=\u001b[39m \u001b[39mNone\u001b[39;00m\n\u001b[1;32m--> 530\u001b[0m     \u001b[39mraise\u001b[39;00m \u001b[39mValueError\u001b[39;00m(\n\u001b[0;32m    531\u001b[0m         \u001b[39m\"\u001b[39m\u001b[39mPandas data cast to numpy dtype of object. Check input data \u001b[39m\u001b[39m\"\u001b[39m\n\u001b[0;32m    532\u001b[0m         \u001b[39m\"\u001b[39m\u001b[39mwith np.asarray(data). The types seen were\u001b[39m\u001b[39m\"\u001b[39m\n\u001b[0;32m    533\u001b[0m         \u001b[39mf\u001b[39m\u001b[39m\"\u001b[39m\u001b[39m{\u001b[39;00mendog_dtype\u001b[39m}\u001b[39;00m\u001b[39m and \u001b[39m\u001b[39m{\u001b[39;00mexog_dtype\u001b[39m}\u001b[39;00m\u001b[39m. The data was\u001b[39m\u001b[39m\\n\u001b[39;00m\u001b[39m\"\u001b[39m\n\u001b[0;32m    534\u001b[0m         \u001b[39mf\u001b[39m\u001b[39m\"\u001b[39m\u001b[39m{\u001b[39;00morig_endog\u001b[39m}\u001b[39;00m\u001b[39m\\n\u001b[39;00m\u001b[39mand\u001b[39m\u001b[39m\\n\u001b[39;00m\u001b[39m \u001b[39m\u001b[39m{\u001b[39;00morig_exog\u001b[39m}\u001b[39;00m\u001b[39m\\n\u001b[39;00m\u001b[39mbefore. After,\u001b[39m\u001b[39m\\n\u001b[39;00m\u001b[39m{\u001b[39;00mendog\u001b[39m}\u001b[39;00m\u001b[39m\\n\u001b[39;00m\u001b[39m{\u001b[39;00mexog\u001b[39m}\u001b[39;00m\u001b[39m.\u001b[39m\u001b[39m\"\u001b[39m\n\u001b[0;32m    535\u001b[0m     )\n\u001b[0;32m    536\u001b[0m \u001b[39mreturn\u001b[39;00m \u001b[39msuper\u001b[39m(PandasData, \u001b[39mself\u001b[39m)\u001b[39m.\u001b[39m_convert_endog_exog(endog, exog)\n",
      "\u001b[1;31mValueError\u001b[0m: Pandas data cast to numpy dtype of object. Check input data with np.asarray(data). The types seen wereNone and const       float64\nCategory     object\ndtype: object. The data was\nTotal Bikes\nand\n    const Category\n0    1.0        A\n1    1.0        B\n2    1.0        A\n3    1.0        C\n4    1.0        B\n5    1.0        C\nbefore. After,\nTotal Bikes\n[[1.0 'A']\n [1.0 'B']\n [1.0 'A']\n [1.0 'C']\n [1.0 'B']\n [1.0 'C']]."
     ]
    }
   ],
   "source": [
    "X = sm.add_constant(X1)\n",
    "reg_logit = sm.Logit(y,X)\n",
    "results_logit = reg_logit.fit()"
   ]
  },
  {
   "cell_type": "code",
   "execution_count": 83,
   "metadata": {},
   "outputs": [
    {
     "ename": "NameError",
     "evalue": "name 'results_logit' is not defined",
     "output_type": "error",
     "traceback": [
      "\u001b[1;31m---------------------------------------------------------------------------\u001b[0m",
      "\u001b[1;31mNameError\u001b[0m                                 Traceback (most recent call last)",
      "\u001b[1;32mc:\\Code\\Projects\\Project-Statistical-Modelling-with-Python\\notebooks\\model_building.ipynb Cell 28\u001b[0m line \u001b[0;36m1\n\u001b[1;32m----> <a href='vscode-notebook-cell:/c%3A/Code/Projects/Project-Statistical-Modelling-with-Python/notebooks/model_building.ipynb#X66sZmlsZQ%3D%3D?line=0'>1</a>\u001b[0m results_logit\u001b[39m.\u001b[39msummary()\n",
      "\u001b[1;31mNameError\u001b[0m: name 'results_logit' is not defined"
     ]
    }
   ],
   "source": [
    "results_logit.summary()"
   ]
  },
  {
   "cell_type": "code",
   "execution_count": 87,
   "metadata": {},
   "outputs": [
    {
     "ename": "ValueError",
     "evalue": "endog must be in the unit interval.",
     "output_type": "error",
     "traceback": [
      "\u001b[1;31m---------------------------------------------------------------------------\u001b[0m",
      "\u001b[1;31mValueError\u001b[0m                                Traceback (most recent call last)",
      "\u001b[1;32mc:\\Code\\Projects\\Project-Statistical-Modelling-with-Python\\notebooks\\model_building.ipynb Cell 29\u001b[0m line \u001b[0;36m1\n\u001b[0;32m      <a href='vscode-notebook-cell:/c%3A/Code/Projects/Project-Statistical-Modelling-with-Python/notebooks/model_building.ipynb#Y112sZmlsZQ%3D%3D?line=7'>8</a>\u001b[0m X \u001b[39m=\u001b[39m sm\u001b[39m.\u001b[39madd_constant(X)\n\u001b[0;32m     <a href='vscode-notebook-cell:/c%3A/Code/Projects/Project-Statistical-Modelling-with-Python/notebooks/model_building.ipynb#Y112sZmlsZQ%3D%3D?line=9'>10</a>\u001b[0m \u001b[39m# Build the logistic regression model\u001b[39;00m\n\u001b[1;32m---> <a href='vscode-notebook-cell:/c%3A/Code/Projects/Project-Statistical-Modelling-with-Python/notebooks/model_building.ipynb#Y112sZmlsZQ%3D%3D?line=10'>11</a>\u001b[0m logit_model \u001b[39m=\u001b[39m sm\u001b[39m.\u001b[39mLogit(y, X)\u001b[39m.\u001b[39mfit()\n\u001b[0;32m     <a href='vscode-notebook-cell:/c%3A/Code/Projects/Project-Statistical-Modelling-with-Python/notebooks/model_building.ipynb#Y112sZmlsZQ%3D%3D?line=12'>13</a>\u001b[0m \u001b[39m# Interpret and print the results\u001b[39;00m\n\u001b[0;32m     <a href='vscode-notebook-cell:/c%3A/Code/Projects/Project-Statistical-Modelling-with-Python/notebooks/model_building.ipynb#Y112sZmlsZQ%3D%3D?line=13'>14</a>\u001b[0m \u001b[39mprint\u001b[39m(logit_model\u001b[39m.\u001b[39msummary())\n",
      "File \u001b[1;32mc:\\Users\\franc\\anaconda3.9\\Lib\\site-packages\\statsmodels\\discrete\\discrete_model.py:465\u001b[0m, in \u001b[0;36mBinaryModel.__init__\u001b[1;34m(self, endog, exog, check_rank, **kwargs)\u001b[0m\n\u001b[0;32m    463\u001b[0m \u001b[39mif\u001b[39;00m \u001b[39mnot\u001b[39;00m \u001b[39missubclass\u001b[39m(\u001b[39mself\u001b[39m\u001b[39m.\u001b[39m\u001b[39m__class__\u001b[39m, MultinomialModel):\n\u001b[0;32m    464\u001b[0m     \u001b[39mif\u001b[39;00m \u001b[39mnot\u001b[39;00m np\u001b[39m.\u001b[39mall((\u001b[39mself\u001b[39m\u001b[39m.\u001b[39mendog \u001b[39m>\u001b[39m\u001b[39m=\u001b[39m \u001b[39m0\u001b[39m) \u001b[39m&\u001b[39m (\u001b[39mself\u001b[39m\u001b[39m.\u001b[39mendog \u001b[39m<\u001b[39m\u001b[39m=\u001b[39m \u001b[39m1\u001b[39m)):\n\u001b[1;32m--> 465\u001b[0m         \u001b[39mraise\u001b[39;00m \u001b[39mValueError\u001b[39;00m(\u001b[39m\"\u001b[39m\u001b[39mendog must be in the unit interval.\u001b[39m\u001b[39m\"\u001b[39m)\n\u001b[0;32m    467\u001b[0m     \u001b[39mif\u001b[39;00m (\u001b[39mnot\u001b[39;00m \u001b[39mself\u001b[39m\u001b[39m.\u001b[39m_continuous_ok \u001b[39mand\u001b[39;00m\n\u001b[0;32m    468\u001b[0m             np\u001b[39m.\u001b[39many(\u001b[39mself\u001b[39m\u001b[39m.\u001b[39mendog \u001b[39m!=\u001b[39m np\u001b[39m.\u001b[39mround(\u001b[39mself\u001b[39m\u001b[39m.\u001b[39mendog))):\n\u001b[0;32m    469\u001b[0m         \u001b[39mraise\u001b[39;00m \u001b[39mValueError\u001b[39;00m(\u001b[39m\"\u001b[39m\u001b[39mendog must be binary, either 0 or 1\u001b[39m\u001b[39m\"\u001b[39m)\n",
      "\u001b[1;31mValueError\u001b[0m: endog must be in the unit interval."
     ]
    }
   ],
   "source": [
    "import statsmodels.api as sm\n",
    "\n",
    "# Define your dependent variable (binary outcome, e.g., 0 or 1) and independent variables\n",
    "y = bld_regx['Total Bikes']  # Replace 'BinaryOutcome' with the actual column containing binary outcomes\n",
    "X = bld_regx[['Rating', 'Distance']]  # Add all relevant independent variables\n",
    "\n",
    "# Add a constant term for the intercept in the logistic regression model\n",
    "X = sm.add_constant(X)\n",
    "\n",
    "# Build the logistic regression model\n",
    "logit_model = sm.Logit(y, X).fit()\n",
    "\n",
    "# Interpret and print the results\n",
    "print(logit_model.summary())\n"
   ]
  },
  {
   "cell_type": "code",
   "execution_count": 88,
   "metadata": {},
   "outputs": [
    {
     "data": {
      "text/html": [
       "<div>\n",
       "<style scoped>\n",
       "    .dataframe tbody tr th:only-of-type {\n",
       "        vertical-align: middle;\n",
       "    }\n",
       "\n",
       "    .dataframe tbody tr th {\n",
       "        vertical-align: top;\n",
       "    }\n",
       "\n",
       "    .dataframe thead th {\n",
       "        text-align: right;\n",
       "    }\n",
       "</style>\n",
       "<table border=\"1\" class=\"dataframe\">\n",
       "  <thead>\n",
       "    <tr style=\"text-align: right;\">\n",
       "      <th></th>\n",
       "      <th>Categories</th>\n",
       "      <th>Distance</th>\n",
       "      <th>Latitude</th>\n",
       "      <th>Longitude</th>\n",
       "      <th>Address</th>\n",
       "      <th>City</th>\n",
       "      <th>Name</th>\n",
       "      <th>Rating</th>\n",
       "      <th>Total Bikes</th>\n",
       "    </tr>\n",
       "  </thead>\n",
       "  <tbody>\n",
       "    <tr>\n",
       "      <th>0</th>\n",
       "      <td>French</td>\n",
       "      <td>136.08</td>\n",
       "      <td>50.64</td>\n",
       "      <td>3.08</td>\n",
       "      <td>Hôtel Casino Barrière de Lille, 777 bis pont d...</td>\n",
       "      <td>Lille</td>\n",
       "      <td>La Terrasse du Parc</td>\n",
       "      <td>4.0</td>\n",
       "      <td>20</td>\n",
       "    </tr>\n",
       "    <tr>\n",
       "      <th>10</th>\n",
       "      <td>Coffee &amp; Tea, Breakfast &amp; Brunch</td>\n",
       "      <td>816.65</td>\n",
       "      <td>50.63</td>\n",
       "      <td>3.07</td>\n",
       "      <td>151 rue de Paris, 59800 Lille, France</td>\n",
       "      <td>Lille</td>\n",
       "      <td>Coffee Makers</td>\n",
       "      <td>4.5</td>\n",
       "      <td>20</td>\n",
       "    </tr>\n",
       "    <tr>\n",
       "      <th>20</th>\n",
       "      <td>French</td>\n",
       "      <td>115.09</td>\n",
       "      <td>50.64</td>\n",
       "      <td>3.08</td>\n",
       "      <td>Hôtel Casino Barrière de Lille, 777 bis pont d...</td>\n",
       "      <td>Lille</td>\n",
       "      <td>Les Hauts de Lille</td>\n",
       "      <td>4.0</td>\n",
       "      <td>20</td>\n",
       "    </tr>\n",
       "    <tr>\n",
       "      <th>30</th>\n",
       "      <td>Steakhouses, Barbeque</td>\n",
       "      <td>628.17</td>\n",
       "      <td>50.64</td>\n",
       "      <td>3.07</td>\n",
       "      <td>13 rue Sainte-Anne, 59800 Lille, France</td>\n",
       "      <td>Lille</td>\n",
       "      <td>Grill Sainte-Anne</td>\n",
       "      <td>4.5</td>\n",
       "      <td>20</td>\n",
       "    </tr>\n",
       "    <tr>\n",
       "      <th>40</th>\n",
       "      <td>Greek</td>\n",
       "      <td>937.10</td>\n",
       "      <td>50.64</td>\n",
       "      <td>3.07</td>\n",
       "      <td>86 rue de Gand, 59000 Lille, France</td>\n",
       "      <td>Lille</td>\n",
       "      <td>L'Ile de Crète</td>\n",
       "      <td>4.5</td>\n",
       "      <td>20</td>\n",
       "    </tr>\n",
       "    <tr>\n",
       "      <th>...</th>\n",
       "      <td>...</td>\n",
       "      <td>...</td>\n",
       "      <td>...</td>\n",
       "      <td>...</td>\n",
       "      <td>...</td>\n",
       "      <td>...</td>\n",
       "      <td>...</td>\n",
       "      <td>...</td>\n",
       "      <td>...</td>\n",
       "    </tr>\n",
       "    <tr>\n",
       "      <th>93650</th>\n",
       "      <td>French, Venues &amp; Event Spaces, Caterers</td>\n",
       "      <td>948.84</td>\n",
       "      <td>50.64</td>\n",
       "      <td>3.14</td>\n",
       "      <td>99 rue Parmentier, 59650 Villeneuve d'Ascq, Fr...</td>\n",
       "      <td>Villeneuve d'Ascq</td>\n",
       "      <td>Brasserie 99</td>\n",
       "      <td>2.0</td>\n",
       "      <td>20</td>\n",
       "    </tr>\n",
       "    <tr>\n",
       "      <th>93660</th>\n",
       "      <td>Brasseries</td>\n",
       "      <td>855.76</td>\n",
       "      <td>50.64</td>\n",
       "      <td>3.12</td>\n",
       "      <td>138 rue Jules Guesde, 59650 Villeneuve-d'Ascq,...</td>\n",
       "      <td>Villeneuve-d'Ascq</td>\n",
       "      <td>Le Zythologue</td>\n",
       "      <td>2.0</td>\n",
       "      <td>20</td>\n",
       "    </tr>\n",
       "    <tr>\n",
       "      <th>93670</th>\n",
       "      <td>Food Stands</td>\n",
       "      <td>614.36</td>\n",
       "      <td>50.63</td>\n",
       "      <td>3.13</td>\n",
       "      <td>Rue Alexandre Detroy, 59650 Villeneuve-d'Ascq,...</td>\n",
       "      <td>Villeneuve-d'Ascq</td>\n",
       "      <td>Friterie du Bourg</td>\n",
       "      <td>3.0</td>\n",
       "      <td>20</td>\n",
       "    </tr>\n",
       "    <tr>\n",
       "      <th>93680</th>\n",
       "      <td>French</td>\n",
       "      <td>941.37</td>\n",
       "      <td>50.64</td>\n",
       "      <td>3.15</td>\n",
       "      <td>1 allée du musée, 59650 Villeneuve-d'Ascq, France</td>\n",
       "      <td>Villeneuve-d'Ascq</td>\n",
       "      <td>Culin'r</td>\n",
       "      <td>3.0</td>\n",
       "      <td>20</td>\n",
       "    </tr>\n",
       "    <tr>\n",
       "      <th>93690</th>\n",
       "      <td>Cafes, Fast Food, Car Dealers, Coffee &amp; Tea</td>\n",
       "      <td>1049.74</td>\n",
       "      <td>50.64</td>\n",
       "      <td>3.12</td>\n",
       "      <td>Bd de l'Ouest, 59650 Villeneuve-d'Ascq, France</td>\n",
       "      <td>Villeneuve-d'Ascq</td>\n",
       "      <td>Mercedes Café</td>\n",
       "      <td>3.0</td>\n",
       "      <td>20</td>\n",
       "    </tr>\n",
       "  </tbody>\n",
       "</table>\n",
       "<p>9368 rows × 9 columns</p>\n",
       "</div>"
      ],
      "text/plain": [
       "                                        Categories  Distance  Latitude  \\\n",
       "0                                           French    136.08     50.64   \n",
       "10                Coffee & Tea, Breakfast & Brunch    816.65     50.63   \n",
       "20                                          French    115.09     50.64   \n",
       "30                           Steakhouses, Barbeque    628.17     50.64   \n",
       "40                                           Greek    937.10     50.64   \n",
       "...                                            ...       ...       ...   \n",
       "93650      French, Venues & Event Spaces, Caterers    948.84     50.64   \n",
       "93660                                   Brasseries    855.76     50.64   \n",
       "93670                                  Food Stands    614.36     50.63   \n",
       "93680                                       French    941.37     50.64   \n",
       "93690  Cafes, Fast Food, Car Dealers, Coffee & Tea   1049.74     50.64   \n",
       "\n",
       "       Longitude                                            Address  \\\n",
       "0           3.08  Hôtel Casino Barrière de Lille, 777 bis pont d...   \n",
       "10          3.07              151 rue de Paris, 59800 Lille, France   \n",
       "20          3.08  Hôtel Casino Barrière de Lille, 777 bis pont d...   \n",
       "30          3.07            13 rue Sainte-Anne, 59800 Lille, France   \n",
       "40          3.07                86 rue de Gand, 59000 Lille, France   \n",
       "...          ...                                                ...   \n",
       "93650       3.14  99 rue Parmentier, 59650 Villeneuve d'Ascq, Fr...   \n",
       "93660       3.12  138 rue Jules Guesde, 59650 Villeneuve-d'Ascq,...   \n",
       "93670       3.13  Rue Alexandre Detroy, 59650 Villeneuve-d'Ascq,...   \n",
       "93680       3.15  1 allée du musée, 59650 Villeneuve-d'Ascq, France   \n",
       "93690       3.12     Bd de l'Ouest, 59650 Villeneuve-d'Ascq, France   \n",
       "\n",
       "                    City                 Name  Rating  Total Bikes  \n",
       "0                  Lille  La Terrasse du Parc     4.0           20  \n",
       "10                 Lille        Coffee Makers     4.5           20  \n",
       "20                 Lille   Les Hauts de Lille     4.0           20  \n",
       "30                 Lille    Grill Sainte-Anne     4.5           20  \n",
       "40                 Lille       L'Ile de Crète     4.5           20  \n",
       "...                  ...                  ...     ...          ...  \n",
       "93650  Villeneuve d'Ascq         Brasserie 99     2.0           20  \n",
       "93660  Villeneuve-d'Ascq        Le Zythologue     2.0           20  \n",
       "93670  Villeneuve-d'Ascq    Friterie du Bourg     3.0           20  \n",
       "93680  Villeneuve-d'Ascq              Culin'r     3.0           20  \n",
       "93690  Villeneuve-d'Ascq        Mercedes Café     3.0           20  \n",
       "\n",
       "[9368 rows x 9 columns]"
      ]
     },
     "execution_count": 88,
     "metadata": {},
     "output_type": "execute_result"
    }
   ],
   "source": [
    "# Create a copy of dataframe\n",
    "bld_regx_dm = bld_regx.copy()\n",
    "bld_regx_dm"
   ]
  },
  {
   "cell_type": "code",
   "execution_count": 89,
   "metadata": {},
   "outputs": [
    {
     "name": "stdout",
     "output_type": "stream",
     "text": [
      "One-Hot Encoding:\n",
      "   Category_A  Category_B  Category_C\n",
      "0           1           0           0\n",
      "1           0           1           0\n",
      "2           1           0           0\n",
      "3           0           0           1\n",
      "4           0           1           0\n",
      "5           0           0           1\n",
      "\n",
      "Label Encoding:\n",
      "   Category\n",
      "0         0\n",
      "1         1\n",
      "2         0\n",
      "3         2\n",
      "4         1\n",
      "5         2\n"
     ]
    }
   ],
   "source": [
    "import pandas as pd\n",
    "\n",
    "# Sample data in X1 with a categorical variable 'Category'\n",
    "bld_regx_dm = {\n",
    "    'Category': ['A', 'B', 'A', 'C', 'B', 'C']\n",
    "}\n",
    "\n",
    "X1 = pd.DataFrame(bld_regx_dm)\n",
    "\n",
    "# One-Hot Encoding\n",
    "X1_onehot = pd.get_dummies(X1, columns=['Category'], prefix=['Category'])\n",
    "\n",
    "# Label Encoding\n",
    "from sklearn.preprocessing import LabelEncoder\n",
    "\n",
    "X1_label = X1.copy()\n",
    "label_encoder = LabelEncoder()\n",
    "X1_label['Category'] = label_encoder.fit_transform(X1_label['Category'])\n",
    "\n",
    "# Display the encoded DataFrames\n",
    "print(\"One-Hot Encoding:\")\n",
    "print(X1_onehot)\n",
    "\n",
    "print(\"\\nLabel Encoding:\")\n",
    "print(X1_label)\n"
   ]
  },
  {
   "cell_type": "code",
   "execution_count": 91,
   "metadata": {},
   "outputs": [
    {
     "ename": "TypeError",
     "evalue": "len() of unsized object",
     "output_type": "error",
     "traceback": [
      "\u001b[1;31m---------------------------------------------------------------------------\u001b[0m",
      "\u001b[1;31mTypeError\u001b[0m                                 Traceback (most recent call last)",
      "\u001b[1;32mc:\\Code\\Projects\\Project-Statistical-Modelling-with-Python\\notebooks\\model_building.ipynb Cell 32\u001b[0m line \u001b[0;36m8\n\u001b[0;32m      <a href='vscode-notebook-cell:/c%3A/Code/Projects/Project-Statistical-Modelling-with-Python/notebooks/model_building.ipynb#Y125sZmlsZQ%3D%3D?line=5'>6</a>\u001b[0m \u001b[39m# Logistic Regression with One-Hot Encoding\u001b[39;00m\n\u001b[0;32m      <a href='vscode-notebook-cell:/c%3A/Code/Projects/Project-Statistical-Modelling-with-Python/notebooks/model_building.ipynb#Y125sZmlsZQ%3D%3D?line=6'>7</a>\u001b[0m X_onehot \u001b[39m=\u001b[39m sm\u001b[39m.\u001b[39madd_constant(X1_onehot)  \u001b[39m# Add a constant (intercept)\u001b[39;00m\n\u001b[1;32m----> <a href='vscode-notebook-cell:/c%3A/Code/Projects/Project-Statistical-Modelling-with-Python/notebooks/model_building.ipynb#Y125sZmlsZQ%3D%3D?line=7'>8</a>\u001b[0m logit_model_onehot \u001b[39m=\u001b[39m sm\u001b[39m.\u001b[39mLogit(y, X_onehot)\n\u001b[0;32m      <a href='vscode-notebook-cell:/c%3A/Code/Projects/Project-Statistical-Modelling-with-Python/notebooks/model_building.ipynb#Y125sZmlsZQ%3D%3D?line=8'>9</a>\u001b[0m results_onehot \u001b[39m=\u001b[39m logit_model_onehot\u001b[39m.\u001b[39mfit()\n\u001b[0;32m     <a href='vscode-notebook-cell:/c%3A/Code/Projects/Project-Statistical-Modelling-with-Python/notebooks/model_building.ipynb#Y125sZmlsZQ%3D%3D?line=9'>10</a>\u001b[0m \u001b[39mprint\u001b[39m(results_onehot\u001b[39m.\u001b[39msummary())\n",
      "File \u001b[1;32mc:\\Users\\franc\\anaconda3.9\\Lib\\site-packages\\statsmodels\\discrete\\discrete_model.py:462\u001b[0m, in \u001b[0;36mBinaryModel.__init__\u001b[1;34m(self, endog, exog, check_rank, **kwargs)\u001b[0m\n\u001b[0;32m    459\u001b[0m \u001b[39mdef\u001b[39;00m \u001b[39m__init__\u001b[39m(\u001b[39mself\u001b[39m, endog, exog, check_rank\u001b[39m=\u001b[39m\u001b[39mTrue\u001b[39;00m, \u001b[39m*\u001b[39m\u001b[39m*\u001b[39mkwargs):\n\u001b[0;32m    460\u001b[0m     \u001b[39m# unconditional check, requires no extra kwargs added by subclasses\u001b[39;00m\n\u001b[0;32m    461\u001b[0m     \u001b[39mself\u001b[39m\u001b[39m.\u001b[39m_check_kwargs(kwargs)\n\u001b[1;32m--> 462\u001b[0m     \u001b[39msuper\u001b[39m()\u001b[39m.\u001b[39m\u001b[39m__init__\u001b[39m(endog, exog, check_rank, \u001b[39m*\u001b[39m\u001b[39m*\u001b[39mkwargs)\n\u001b[0;32m    463\u001b[0m     \u001b[39mif\u001b[39;00m \u001b[39mnot\u001b[39;00m \u001b[39missubclass\u001b[39m(\u001b[39mself\u001b[39m\u001b[39m.\u001b[39m\u001b[39m__class__\u001b[39m, MultinomialModel):\n\u001b[0;32m    464\u001b[0m         \u001b[39mif\u001b[39;00m \u001b[39mnot\u001b[39;00m np\u001b[39m.\u001b[39mall((\u001b[39mself\u001b[39m\u001b[39m.\u001b[39mendog \u001b[39m>\u001b[39m\u001b[39m=\u001b[39m \u001b[39m0\u001b[39m) \u001b[39m&\u001b[39m (\u001b[39mself\u001b[39m\u001b[39m.\u001b[39mendog \u001b[39m<\u001b[39m\u001b[39m=\u001b[39m \u001b[39m1\u001b[39m)):\n",
      "File \u001b[1;32mc:\\Users\\franc\\anaconda3.9\\Lib\\site-packages\\statsmodels\\discrete\\discrete_model.py:178\u001b[0m, in \u001b[0;36mDiscreteModel.__init__\u001b[1;34m(self, endog, exog, check_rank, **kwargs)\u001b[0m\n\u001b[0;32m    176\u001b[0m \u001b[39mdef\u001b[39;00m \u001b[39m__init__\u001b[39m(\u001b[39mself\u001b[39m, endog, exog, check_rank\u001b[39m=\u001b[39m\u001b[39mTrue\u001b[39;00m, \u001b[39m*\u001b[39m\u001b[39m*\u001b[39mkwargs):\n\u001b[0;32m    177\u001b[0m     \u001b[39mself\u001b[39m\u001b[39m.\u001b[39m_check_rank \u001b[39m=\u001b[39m check_rank\n\u001b[1;32m--> 178\u001b[0m     \u001b[39msuper\u001b[39m()\u001b[39m.\u001b[39m\u001b[39m__init__\u001b[39m(endog, exog, \u001b[39m*\u001b[39m\u001b[39m*\u001b[39mkwargs)\n\u001b[0;32m    179\u001b[0m     \u001b[39mself\u001b[39m\u001b[39m.\u001b[39mraise_on_perfect_prediction \u001b[39m=\u001b[39m \u001b[39mTrue\u001b[39;00m\n",
      "File \u001b[1;32mc:\\Users\\franc\\anaconda3.9\\Lib\\site-packages\\statsmodels\\base\\model.py:267\u001b[0m, in \u001b[0;36mLikelihoodModel.__init__\u001b[1;34m(self, endog, exog, **kwargs)\u001b[0m\n\u001b[0;32m    266\u001b[0m \u001b[39mdef\u001b[39;00m \u001b[39m__init__\u001b[39m(\u001b[39mself\u001b[39m, endog, exog\u001b[39m=\u001b[39m\u001b[39mNone\u001b[39;00m, \u001b[39m*\u001b[39m\u001b[39m*\u001b[39mkwargs):\n\u001b[1;32m--> 267\u001b[0m     \u001b[39msuper\u001b[39m()\u001b[39m.\u001b[39m\u001b[39m__init__\u001b[39m(endog, exog, \u001b[39m*\u001b[39m\u001b[39m*\u001b[39mkwargs)\n\u001b[0;32m    268\u001b[0m     \u001b[39mself\u001b[39m\u001b[39m.\u001b[39minitialize()\n",
      "File \u001b[1;32mc:\\Users\\franc\\anaconda3.9\\Lib\\site-packages\\statsmodels\\base\\model.py:92\u001b[0m, in \u001b[0;36mModel.__init__\u001b[1;34m(self, endog, exog, **kwargs)\u001b[0m\n\u001b[0;32m     90\u001b[0m missing \u001b[39m=\u001b[39m kwargs\u001b[39m.\u001b[39mpop(\u001b[39m'\u001b[39m\u001b[39mmissing\u001b[39m\u001b[39m'\u001b[39m, \u001b[39m'\u001b[39m\u001b[39mnone\u001b[39m\u001b[39m'\u001b[39m)\n\u001b[0;32m     91\u001b[0m hasconst \u001b[39m=\u001b[39m kwargs\u001b[39m.\u001b[39mpop(\u001b[39m'\u001b[39m\u001b[39mhasconst\u001b[39m\u001b[39m'\u001b[39m, \u001b[39mNone\u001b[39;00m)\n\u001b[1;32m---> 92\u001b[0m \u001b[39mself\u001b[39m\u001b[39m.\u001b[39mdata \u001b[39m=\u001b[39m \u001b[39mself\u001b[39m\u001b[39m.\u001b[39m_handle_data(endog, exog, missing, hasconst,\n\u001b[0;32m     93\u001b[0m                               \u001b[39m*\u001b[39m\u001b[39m*\u001b[39mkwargs)\n\u001b[0;32m     94\u001b[0m \u001b[39mself\u001b[39m\u001b[39m.\u001b[39mk_constant \u001b[39m=\u001b[39m \u001b[39mself\u001b[39m\u001b[39m.\u001b[39mdata\u001b[39m.\u001b[39mk_constant\n\u001b[0;32m     95\u001b[0m \u001b[39mself\u001b[39m\u001b[39m.\u001b[39mexog \u001b[39m=\u001b[39m \u001b[39mself\u001b[39m\u001b[39m.\u001b[39mdata\u001b[39m.\u001b[39mexog\n",
      "File \u001b[1;32mc:\\Users\\franc\\anaconda3.9\\Lib\\site-packages\\statsmodels\\base\\model.py:132\u001b[0m, in \u001b[0;36mModel._handle_data\u001b[1;34m(self, endog, exog, missing, hasconst, **kwargs)\u001b[0m\n\u001b[0;32m    131\u001b[0m \u001b[39mdef\u001b[39;00m \u001b[39m_handle_data\u001b[39m(\u001b[39mself\u001b[39m, endog, exog, missing, hasconst, \u001b[39m*\u001b[39m\u001b[39m*\u001b[39mkwargs):\n\u001b[1;32m--> 132\u001b[0m     data \u001b[39m=\u001b[39m handle_data(endog, exog, missing, hasconst, \u001b[39m*\u001b[39m\u001b[39m*\u001b[39mkwargs)\n\u001b[0;32m    133\u001b[0m     \u001b[39m# kwargs arrays could have changed, easier to just attach here\u001b[39;00m\n\u001b[0;32m    134\u001b[0m     \u001b[39mfor\u001b[39;00m key \u001b[39min\u001b[39;00m kwargs:\n",
      "File \u001b[1;32mc:\\Users\\franc\\anaconda3.9\\Lib\\site-packages\\statsmodels\\base\\data.py:700\u001b[0m, in \u001b[0;36mhandle_data\u001b[1;34m(endog, exog, missing, hasconst, **kwargs)\u001b[0m\n\u001b[0;32m    697\u001b[0m     exog \u001b[39m=\u001b[39m np\u001b[39m.\u001b[39masarray(exog)\n\u001b[0;32m    699\u001b[0m klass \u001b[39m=\u001b[39m handle_data_class_factory(endog, exog)\n\u001b[1;32m--> 700\u001b[0m \u001b[39mreturn\u001b[39;00m klass(endog, exog\u001b[39m=\u001b[39mexog, missing\u001b[39m=\u001b[39mmissing, hasconst\u001b[39m=\u001b[39mhasconst,\n\u001b[0;32m    701\u001b[0m              \u001b[39m*\u001b[39m\u001b[39m*\u001b[39mkwargs)\n",
      "File \u001b[1;32mc:\\Users\\franc\\anaconda3.9\\Lib\\site-packages\\statsmodels\\base\\data.py:84\u001b[0m, in \u001b[0;36mModelData.__init__\u001b[1;34m(self, endog, exog, missing, hasconst, **kwargs)\u001b[0m\n\u001b[0;32m     82\u001b[0m     \u001b[39mself\u001b[39m\u001b[39m.\u001b[39morig_endog \u001b[39m=\u001b[39m endog\n\u001b[0;32m     83\u001b[0m     \u001b[39mself\u001b[39m\u001b[39m.\u001b[39morig_exog \u001b[39m=\u001b[39m exog\n\u001b[1;32m---> 84\u001b[0m     \u001b[39mself\u001b[39m\u001b[39m.\u001b[39mendog, \u001b[39mself\u001b[39m\u001b[39m.\u001b[39mexog \u001b[39m=\u001b[39m \u001b[39mself\u001b[39m\u001b[39m.\u001b[39m_convert_endog_exog(endog, exog)\n\u001b[0;32m     86\u001b[0m \u001b[39mself\u001b[39m\u001b[39m.\u001b[39mconst_idx \u001b[39m=\u001b[39m \u001b[39mNone\u001b[39;00m\n\u001b[0;32m     87\u001b[0m \u001b[39mself\u001b[39m\u001b[39m.\u001b[39mk_constant \u001b[39m=\u001b[39m \u001b[39m0\u001b[39m\n",
      "File \u001b[1;32mc:\\Users\\franc\\anaconda3.9\\Lib\\site-packages\\statsmodels\\base\\data.py:536\u001b[0m, in \u001b[0;36mPandasData._convert_endog_exog\u001b[1;34m(self, endog, exog)\u001b[0m\n\u001b[0;32m    529\u001b[0m         exog_dtype \u001b[39m=\u001b[39m \u001b[39mNone\u001b[39;00m\n\u001b[0;32m    530\u001b[0m     \u001b[39mraise\u001b[39;00m \u001b[39mValueError\u001b[39;00m(\n\u001b[0;32m    531\u001b[0m         \u001b[39m\"\u001b[39m\u001b[39mPandas data cast to numpy dtype of object. Check input data \u001b[39m\u001b[39m\"\u001b[39m\n\u001b[0;32m    532\u001b[0m         \u001b[39m\"\u001b[39m\u001b[39mwith np.asarray(data). The types seen were\u001b[39m\u001b[39m\"\u001b[39m\n\u001b[0;32m    533\u001b[0m         \u001b[39mf\u001b[39m\u001b[39m\"\u001b[39m\u001b[39m{\u001b[39;00mendog_dtype\u001b[39m}\u001b[39;00m\u001b[39m and \u001b[39m\u001b[39m{\u001b[39;00mexog_dtype\u001b[39m}\u001b[39;00m\u001b[39m. The data was\u001b[39m\u001b[39m\\n\u001b[39;00m\u001b[39m\"\u001b[39m\n\u001b[0;32m    534\u001b[0m         \u001b[39mf\u001b[39m\u001b[39m\"\u001b[39m\u001b[39m{\u001b[39;00morig_endog\u001b[39m}\u001b[39;00m\u001b[39m\\n\u001b[39;00m\u001b[39mand\u001b[39m\u001b[39m\\n\u001b[39;00m\u001b[39m \u001b[39m\u001b[39m{\u001b[39;00morig_exog\u001b[39m}\u001b[39;00m\u001b[39m\\n\u001b[39;00m\u001b[39mbefore. After,\u001b[39m\u001b[39m\\n\u001b[39;00m\u001b[39m{\u001b[39;00mendog\u001b[39m}\u001b[39;00m\u001b[39m\\n\u001b[39;00m\u001b[39m{\u001b[39;00mexog\u001b[39m}\u001b[39;00m\u001b[39m.\u001b[39m\u001b[39m\"\u001b[39m\n\u001b[0;32m    535\u001b[0m     )\n\u001b[1;32m--> 536\u001b[0m \u001b[39mreturn\u001b[39;00m \u001b[39msuper\u001b[39m(PandasData, \u001b[39mself\u001b[39m)\u001b[39m.\u001b[39m_convert_endog_exog(endog, exog)\n",
      "File \u001b[1;32mc:\\Users\\franc\\anaconda3.9\\Lib\\site-packages\\statsmodels\\base\\data.py:320\u001b[0m, in \u001b[0;36mModelData._convert_endog_exog\u001b[1;34m(self, endog, exog)\u001b[0m\n\u001b[0;32m    317\u001b[0m \u001b[39mdef\u001b[39;00m \u001b[39m_convert_endog_exog\u001b[39m(\u001b[39mself\u001b[39m, endog, exog):\n\u001b[0;32m    318\u001b[0m \n\u001b[0;32m    319\u001b[0m     \u001b[39m# for consistent outputs if endog is (n,1)\u001b[39;00m\n\u001b[1;32m--> 320\u001b[0m     yarr \u001b[39m=\u001b[39m \u001b[39mself\u001b[39m\u001b[39m.\u001b[39m_get_yarr(endog)\n\u001b[0;32m    321\u001b[0m     xarr \u001b[39m=\u001b[39m \u001b[39mNone\u001b[39;00m\n\u001b[0;32m    322\u001b[0m     \u001b[39mif\u001b[39;00m exog \u001b[39mis\u001b[39;00m \u001b[39mnot\u001b[39;00m \u001b[39mNone\u001b[39;00m:\n",
      "File \u001b[1;32mc:\\Users\\franc\\anaconda3.9\\Lib\\site-packages\\statsmodels\\base\\data.py:420\u001b[0m, in \u001b[0;36mModelData._get_yarr\u001b[1;34m(self, endog)\u001b[0m\n\u001b[0;32m    418\u001b[0m     endog \u001b[39m=\u001b[39m data_util\u001b[39m.\u001b[39mstruct_to_ndarray(endog)\n\u001b[0;32m    419\u001b[0m endog \u001b[39m=\u001b[39m np\u001b[39m.\u001b[39masarray(endog)\n\u001b[1;32m--> 420\u001b[0m \u001b[39mif\u001b[39;00m \u001b[39mlen\u001b[39m(endog) \u001b[39m==\u001b[39m \u001b[39m1\u001b[39m:  \u001b[39m# never squeeze to a scalar\u001b[39;00m\n\u001b[0;32m    421\u001b[0m     \u001b[39mif\u001b[39;00m endog\u001b[39m.\u001b[39mndim \u001b[39m==\u001b[39m \u001b[39m1\u001b[39m:\n\u001b[0;32m    422\u001b[0m         \u001b[39mreturn\u001b[39;00m endog\n",
      "\u001b[1;31mTypeError\u001b[0m: len() of unsized object"
     ]
    }
   ],
   "source": [
    "import statsmodels.api as sm\n",
    "\n",
    "# Assuming you have your dependent variable 'y' prepared\n",
    "y = 'Total Bikes'\n",
    "\n",
    "# Logistic Regression with One-Hot Encoding\n",
    "X_onehot = sm.add_constant(X1_onehot)  # Add a constant (intercept)\n",
    "logit_model_onehot = sm.Logit(y, X_onehot)\n",
    "results_onehot = logit_model_onehot.fit()\n",
    "print(results_onehot.summary())\n",
    "\n",
    "# Logistic Regression with Label Encoding\n",
    "X_label = sm.add_constant(X1_label)  # Add a constant (intercept)\n",
    "logit_model_label = sm.Logit(y, X_label)\n",
    "results_label = logit_model_label.fit()\n",
    "print(results_label.summary())\n"
   ]
  },
  {
   "cell_type": "code",
   "execution_count": null,
   "metadata": {},
   "outputs": [],
   "source": []
  },
  {
   "cell_type": "code",
   "execution_count": null,
   "metadata": {},
   "outputs": [],
   "source": []
  },
  {
   "cell_type": "code",
   "execution_count": 94,
   "metadata": {},
   "outputs": [
    {
     "ename": "SyntaxError",
     "evalue": "invalid syntax. Perhaps you forgot a comma? (3221613101.py, line 15)",
     "output_type": "error",
     "traceback": [
      "\u001b[1;36m  Cell \u001b[1;32mIn[94], line 15\u001b[1;36m\u001b[0m\n\u001b[1;33m    result=back_feature_elem(bld_regx_dm, bld_regx_dm.Total Bikes, col)\u001b[0m\n\u001b[1;37m                                          ^\u001b[0m\n\u001b[1;31mSyntaxError\u001b[0m\u001b[1;31m:\u001b[0m invalid syntax. Perhaps you forgot a comma?\n"
     ]
    }
   ],
   "source": [
    "def back_feature_elem (data_frame,dep_var,col_list):\n",
    "    \"\"\" Takes in the dataframe, the dependent variable and a list of column names, runs the regression repeatedly eleminating feature with the highest\n",
    "    P-value above alpha one at a time and returns the regression summary with all p-values below alpha\"\"\"\n",
    "\n",
    "    while len(col_list)>0 :\n",
    "        model=sm.Logit(dep_var,data_frame[col_list])\n",
    "        result=model.fit(disp=0)\n",
    "        largest_pvalue=round(result.pvalues,3).nlargest(1)\n",
    "        if largest_pvalue[0]<(0.0001):\n",
    "            return result\n",
    "            break\n",
    "        else:\n",
    "            col_list=col_list.drop(largest_pvalue.index)\n",
    "\n",
    "result=back_feature_elem(bld_regx_dm, bld_regx_dm.Total Bikes, col)"
   ]
  },
  {
   "cell_type": "code",
   "execution_count": null,
   "metadata": {},
   "outputs": [],
   "source": []
  },
  {
   "cell_type": "code",
   "execution_count": null,
   "metadata": {},
   "outputs": [],
   "source": []
  },
  {
   "cell_type": "code",
   "execution_count": 18,
   "metadata": {},
   "outputs": [
    {
     "data": {
      "image/png": "[encoded data removed]",
      "text/plain": [
       "<Figure size 2000x2000 with 7 Axes>"
      ]
     },
     "metadata": {},
     "output_type": "display_data"
    }
   ],
   "source": [
    "def draw_histograms(dataframe, features, rows, cols):\n",
    "    fig=plt.figure(figsize=(20,20))\n",
    "    for i, feature in enumerate(features):\n",
    "        ax=fig.add_subplot(rows,cols,i+1)\n",
    "        dataframe[feature].hist(bins=20,ax=ax,facecolor='midnightblue')\n",
    "        ax.set_title(feature+\" Distribution\",color='DarkRed')\n",
    "        ax.set_yscale('log')\n",
    "    fig.tight_layout()  \n",
    "    plt.show()\n",
    "draw_histograms(bu_reg,bu_reg.columns,8,4)"
   ]
  },
  {
   "cell_type": "code",
   "execution_count": 20,
   "metadata": {},
   "outputs": [
    {
     "data": {
      "text/plain": [
       "20    10666\n",
       "Name: Total Bikes, dtype: int64"
      ]
     },
     "execution_count": 20,
     "metadata": {},
     "output_type": "execute_result"
    }
   ],
   "source": [
    "bu_reg['Total Bikes'].value_counts()"
   ]
  },
  {
   "cell_type": "code",
   "execution_count": 21,
   "metadata": {},
   "outputs": [
    {
     "data": {
      "image/png": "[encoded data removed]",
      "text/plain": [
       "<Figure size 640x480 with 1 Axes>"
      ]
     },
     "metadata": {},
     "output_type": "display_data"
    }
   ],
   "source": [
    "ax=sns.countplot(x='Total Bikes',data=bu_reg);\n",
    "ax.set_yscale('log')"
   ]
  },
  {
   "cell_type": "code",
   "execution_count": 23,
   "metadata": {},
   "outputs": [
    {
     "name": "stderr",
     "output_type": "stream",
     "text": [
      "C:\\Users\\franc\\AppData\\Local\\Temp\\ipykernel_5840\\3607057002.py:2: FutureWarning: The default value of numeric_only in DataFrame.corr is deprecated. In a future version, it will default to False. Select only valid columns or specify the value of numeric_only to silence this warning.\n",
      "  sns.heatmap(bu_reg.corr(), annot = True, cmap=\"tab20c\")\n"
     ]
    },
    {
     "data": {
      "image/png": "[encoded data removed]",
      "text/plain": [
       "<Figure size 1000x400 with 2 Axes>"
      ]
     },
     "metadata": {},
     "output_type": "display_data"
    }
   ],
   "source": [
    "plt.figure(figsize = (10,4))\n",
    "sns.heatmap(bu_reg.corr(), annot = True, cmap=\"tab20c\")\n",
    "plt.show()"
   ]
  },
  {
   "cell_type": "code",
   "execution_count": 26,
   "metadata": {},
   "outputs": [
    {
     "data": {
      "text/plain": [
       "Index(['Categories', 'Distance', 'Address', 'City', 'Name', 'Rating',\n",
       "       'Total Bikes'],\n",
       "      dtype='object')"
      ]
     },
     "execution_count": 26,
     "metadata": {},
     "output_type": "execute_result"
    }
   ],
   "source": [
    "bu_reg.columns"
   ]
  },
  {
   "cell_type": "code",
   "execution_count": 27,
   "metadata": {},
   "outputs": [],
   "source": [
    "#Dropping Time as it's non business required data\n",
    "estimators=[ 'Categories', 'Distance', 'Address', 'City', 'Name', 'Rating']\n",
    "\n",
    "X1 = bu_reg[estimators]\n",
    "y = bu_reg['Total Bikes']"
   ]
  },
  {
   "cell_type": "code",
   "execution_count": 37,
   "metadata": {},
   "outputs": [
    {
     "data": {
      "text/plain": [
       "Index(['Categories', 'Distance', 'Address', 'City', 'Name', 'Rating'], dtype='object')"
      ]
     },
     "execution_count": 37,
     "metadata": {},
     "output_type": "execute_result"
    }
   ],
   "source": [
    "col=X1.columns[:]\n",
    "col"
   ]
  },
  {
   "cell_type": "code",
   "execution_count": 38,
   "metadata": {},
   "outputs": [
    {
     "ename": "ValueError",
     "evalue": "Pandas data cast to numpy dtype of object. Check input data with np.asarray(data). The types seen wereNone and const         float64\nCategories     object\nDistance      float64\nAddress        object\nCity           object\nName           object\nRating        float64\ndtype: object. The data was\n0        20\n1        20\n2        20\n3        20\n4        20\n         ..\n10663    20\n10664    20\n10665    20\n10666    20\n10667    20\nName: Total Bikes, Length: 10666, dtype: int64\nand\n        const                                   Categories  Distance  \\\n0        1.0                                       French    136.08   \n1        1.0             Coffee & Tea, Breakfast & Brunch    816.65   \n2        1.0                                       French    115.09   \n3        1.0                        Steakhouses, Barbeque    628.17   \n4        1.0                                        Greek    937.10   \n...      ...                                          ...       ...   \n10663    1.0                                   Brasseries    855.76   \n10664    1.0                                  Food Stands    614.36   \n10665    1.0                                       French    941.37   \n10666    1.0                                   Brasseries    869.14   \n10667    1.0  Cafes, Fast Food, Car Dealers, Coffee & Tea   1049.74   \n\n                                                 Address               City  \\\n0      Hôtel Casino Barrière de Lille, 777 bis pont d...              Lille   \n1                  151 rue de Paris, 59800 Lille, France              Lille   \n2      Hôtel Casino Barrière de Lille, 777 bis pont d...              Lille   \n3                13 rue Sainte-Anne, 59800 Lille, France              Lille   \n4                    86 rue de Gand, 59000 Lille, France              Lille   \n...                                                  ...                ...   \n10663  138 rue Jules Guesde, 59650 Villeneuve-d'Ascq,...  Villeneuve-d'Ascq   \n10664  Rue Alexandre Detroy, 59650 Villeneuve-d'Ascq,...  Villeneuve-d'Ascq   \n10665  1 allée du musée, 59650 Villeneuve-d'Ascq, France  Villeneuve-d'Ascq   \n10666  124 rue Jules Guesde, 59650 Villeneuve-d'Ascq,...  Villeneuve-d'Ascq   \n10667     Bd de l'Ouest, 59650 Villeneuve-d'Ascq, France  Villeneuve-d'Ascq   \n\n                      Name  Rating  \n0      La Terrasse du Parc     4.0  \n1            Coffee Makers     4.5  \n2       Les Hauts de Lille     4.0  \n3        Grill Sainte-Anne     4.5  \n4           L'Ile de Crète     4.5  \n...                    ...     ...  \n10663        Le Zythologue     2.0  \n10664    Friterie du Bourg     3.0  \n10665              Culin'r     3.0  \n10666            L'Ardoise     1.5  \n10667        Mercedes Café     3.0  \n\n[10666 rows x 7 columns]\nbefore. After,\n[20 20 20 ... 20 20 20]\n[[1.0 'French' 136.08 ... 'Lille' 'La Terrasse du Parc' 4.0]\n [1.0 'Coffee & Tea, Breakfast & Brunch' 816.65 ... 'Lille'\n  'Coffee Makers' 4.5]\n [1.0 'French' 115.09 ... 'Lille' 'Les Hauts de Lille' 4.0]\n ...\n [1.0 'French' 941.37 ... \"Villeneuve-d'Ascq\" \"Culin'r\" 3.0]\n [1.0 'Brasseries' 869.14 ... \"Villeneuve-d'Ascq\" \"L'Ardoise\" 1.5]\n [1.0 'Cafes, Fast Food, Car Dealers, Coffee & Tea' 1049.74 ...\n  \"Villeneuve-d'Ascq\" 'Mercedes Café' 3.0]].",
     "output_type": "error",
     "traceback": [
      "\u001b[1;31m---------------------------------------------------------------------------\u001b[0m",
      "\u001b[1;31mValueError\u001b[0m                                Traceback (most recent call last)",
      "\u001b[1;32mc:\\Code\\Projects\\Project-Statistical-Modelling-with-Python\\notebooks\\model_building.ipynb Cell 23\u001b[0m line \u001b[0;36m2\n\u001b[0;32m      <a href='vscode-notebook-cell:/c%3A/Code/Projects/Project-Statistical-Modelling-with-Python/notebooks/model_building.ipynb#X51sZmlsZQ%3D%3D?line=0'>1</a>\u001b[0m X \u001b[39m=\u001b[39m sm\u001b[39m.\u001b[39madd_constant(X1)\n\u001b[1;32m----> <a href='vscode-notebook-cell:/c%3A/Code/Projects/Project-Statistical-Modelling-with-Python/notebooks/model_building.ipynb#X51sZmlsZQ%3D%3D?line=1'>2</a>\u001b[0m reg_logit \u001b[39m=\u001b[39m sm\u001b[39m.\u001b[39mLogit(y,X)\n\u001b[0;32m      <a href='vscode-notebook-cell:/c%3A/Code/Projects/Project-Statistical-Modelling-with-Python/notebooks/model_building.ipynb#X51sZmlsZQ%3D%3D?line=2'>3</a>\u001b[0m results_logit \u001b[39m=\u001b[39m reg_logit\u001b[39m.\u001b[39mfit()\n",
      "File \u001b[1;32mc:\\Users\\franc\\anaconda3.9\\Lib\\site-packages\\statsmodels\\discrete\\discrete_model.py:462\u001b[0m, in \u001b[0;36mBinaryModel.__init__\u001b[1;34m(self, endog, exog, check_rank, **kwargs)\u001b[0m\n\u001b[0;32m    459\u001b[0m \u001b[39mdef\u001b[39;00m \u001b[39m__init__\u001b[39m(\u001b[39mself\u001b[39m, endog, exog, check_rank\u001b[39m=\u001b[39m\u001b[39mTrue\u001b[39;00m, \u001b[39m*\u001b[39m\u001b[39m*\u001b[39mkwargs):\n\u001b[0;32m    460\u001b[0m     \u001b[39m# unconditional check, requires no extra kwargs added by subclasses\u001b[39;00m\n\u001b[0;32m    461\u001b[0m     \u001b[39mself\u001b[39m\u001b[39m.\u001b[39m_check_kwargs(kwargs)\n\u001b[1;32m--> 462\u001b[0m     \u001b[39msuper\u001b[39m()\u001b[39m.\u001b[39m\u001b[39m__init__\u001b[39m(endog, exog, check_rank, \u001b[39m*\u001b[39m\u001b[39m*\u001b[39mkwargs)\n\u001b[0;32m    463\u001b[0m     \u001b[39mif\u001b[39;00m \u001b[39mnot\u001b[39;00m \u001b[39missubclass\u001b[39m(\u001b[39mself\u001b[39m\u001b[39m.\u001b[39m\u001b[39m__class__\u001b[39m, MultinomialModel):\n\u001b[0;32m    464\u001b[0m         \u001b[39mif\u001b[39;00m \u001b[39mnot\u001b[39;00m np\u001b[39m.\u001b[39mall((\u001b[39mself\u001b[39m\u001b[39m.\u001b[39mendog \u001b[39m>\u001b[39m\u001b[39m=\u001b[39m \u001b[39m0\u001b[39m) \u001b[39m&\u001b[39m (\u001b[39mself\u001b[39m\u001b[39m.\u001b[39mendog \u001b[39m<\u001b[39m\u001b[39m=\u001b[39m \u001b[39m1\u001b[39m)):\n",
      "File \u001b[1;32mc:\\Users\\franc\\anaconda3.9\\Lib\\site-packages\\statsmodels\\discrete\\discrete_model.py:178\u001b[0m, in \u001b[0;36mDiscreteModel.__init__\u001b[1;34m(self, endog, exog, check_rank, **kwargs)\u001b[0m\n\u001b[0;32m    176\u001b[0m \u001b[39mdef\u001b[39;00m \u001b[39m__init__\u001b[39m(\u001b[39mself\u001b[39m, endog, exog, check_rank\u001b[39m=\u001b[39m\u001b[39mTrue\u001b[39;00m, \u001b[39m*\u001b[39m\u001b[39m*\u001b[39mkwargs):\n\u001b[0;32m    177\u001b[0m     \u001b[39mself\u001b[39m\u001b[39m.\u001b[39m_check_rank \u001b[39m=\u001b[39m check_rank\n\u001b[1;32m--> 178\u001b[0m     \u001b[39msuper\u001b[39m()\u001b[39m.\u001b[39m\u001b[39m__init__\u001b[39m(endog, exog, \u001b[39m*\u001b[39m\u001b[39m*\u001b[39mkwargs)\n\u001b[0;32m    179\u001b[0m     \u001b[39mself\u001b[39m\u001b[39m.\u001b[39mraise_on_perfect_prediction \u001b[39m=\u001b[39m \u001b[39mTrue\u001b[39;00m\n",
      "File \u001b[1;32mc:\\Users\\franc\\anaconda3.9\\Lib\\site-packages\\statsmodels\\base\\model.py:267\u001b[0m, in \u001b[0;36mLikelihoodModel.__init__\u001b[1;34m(self, endog, exog, **kwargs)\u001b[0m\n\u001b[0;32m    266\u001b[0m \u001b[39mdef\u001b[39;00m \u001b[39m__init__\u001b[39m(\u001b[39mself\u001b[39m, endog, exog\u001b[39m=\u001b[39m\u001b[39mNone\u001b[39;00m, \u001b[39m*\u001b[39m\u001b[39m*\u001b[39mkwargs):\n\u001b[1;32m--> 267\u001b[0m     \u001b[39msuper\u001b[39m()\u001b[39m.\u001b[39m\u001b[39m__init__\u001b[39m(endog, exog, \u001b[39m*\u001b[39m\u001b[39m*\u001b[39mkwargs)\n\u001b[0;32m    268\u001b[0m     \u001b[39mself\u001b[39m\u001b[39m.\u001b[39minitialize()\n",
      "File \u001b[1;32mc:\\Users\\franc\\anaconda3.9\\Lib\\site-packages\\statsmodels\\base\\model.py:92\u001b[0m, in \u001b[0;36mModel.__init__\u001b[1;34m(self, endog, exog, **kwargs)\u001b[0m\n\u001b[0;32m     90\u001b[0m missing \u001b[39m=\u001b[39m kwargs\u001b[39m.\u001b[39mpop(\u001b[39m'\u001b[39m\u001b[39mmissing\u001b[39m\u001b[39m'\u001b[39m, \u001b[39m'\u001b[39m\u001b[39mnone\u001b[39m\u001b[39m'\u001b[39m)\n\u001b[0;32m     91\u001b[0m hasconst \u001b[39m=\u001b[39m kwargs\u001b[39m.\u001b[39mpop(\u001b[39m'\u001b[39m\u001b[39mhasconst\u001b[39m\u001b[39m'\u001b[39m, \u001b[39mNone\u001b[39;00m)\n\u001b[1;32m---> 92\u001b[0m \u001b[39mself\u001b[39m\u001b[39m.\u001b[39mdata \u001b[39m=\u001b[39m \u001b[39mself\u001b[39m\u001b[39m.\u001b[39m_handle_data(endog, exog, missing, hasconst,\n\u001b[0;32m     93\u001b[0m                               \u001b[39m*\u001b[39m\u001b[39m*\u001b[39mkwargs)\n\u001b[0;32m     94\u001b[0m \u001b[39mself\u001b[39m\u001b[39m.\u001b[39mk_constant \u001b[39m=\u001b[39m \u001b[39mself\u001b[39m\u001b[39m.\u001b[39mdata\u001b[39m.\u001b[39mk_constant\n\u001b[0;32m     95\u001b[0m \u001b[39mself\u001b[39m\u001b[39m.\u001b[39mexog \u001b[39m=\u001b[39m \u001b[39mself\u001b[39m\u001b[39m.\u001b[39mdata\u001b[39m.\u001b[39mexog\n",
      "File \u001b[1;32mc:\\Users\\franc\\anaconda3.9\\Lib\\site-packages\\statsmodels\\base\\model.py:132\u001b[0m, in \u001b[0;36mModel._handle_data\u001b[1;34m(self, endog, exog, missing, hasconst, **kwargs)\u001b[0m\n\u001b[0;32m    131\u001b[0m \u001b[39mdef\u001b[39;00m \u001b[39m_handle_data\u001b[39m(\u001b[39mself\u001b[39m, endog, exog, missing, hasconst, \u001b[39m*\u001b[39m\u001b[39m*\u001b[39mkwargs):\n\u001b[1;32m--> 132\u001b[0m     data \u001b[39m=\u001b[39m handle_data(endog, exog, missing, hasconst, \u001b[39m*\u001b[39m\u001b[39m*\u001b[39mkwargs)\n\u001b[0;32m    133\u001b[0m     \u001b[39m# kwargs arrays could have changed, easier to just attach here\u001b[39;00m\n\u001b[0;32m    134\u001b[0m     \u001b[39mfor\u001b[39;00m key \u001b[39min\u001b[39;00m kwargs:\n",
      "File \u001b[1;32mc:\\Users\\franc\\anaconda3.9\\Lib\\site-packages\\statsmodels\\base\\data.py:700\u001b[0m, in \u001b[0;36mhandle_data\u001b[1;34m(endog, exog, missing, hasconst, **kwargs)\u001b[0m\n\u001b[0;32m    697\u001b[0m     exog \u001b[39m=\u001b[39m np\u001b[39m.\u001b[39masarray(exog)\n\u001b[0;32m    699\u001b[0m klass \u001b[39m=\u001b[39m handle_data_class_factory(endog, exog)\n\u001b[1;32m--> 700\u001b[0m \u001b[39mreturn\u001b[39;00m klass(endog, exog\u001b[39m=\u001b[39mexog, missing\u001b[39m=\u001b[39mmissing, hasconst\u001b[39m=\u001b[39mhasconst,\n\u001b[0;32m    701\u001b[0m              \u001b[39m*\u001b[39m\u001b[39m*\u001b[39mkwargs)\n",
      "File \u001b[1;32mc:\\Users\\franc\\anaconda3.9\\Lib\\site-packages\\statsmodels\\base\\data.py:84\u001b[0m, in \u001b[0;36mModelData.__init__\u001b[1;34m(self, endog, exog, missing, hasconst, **kwargs)\u001b[0m\n\u001b[0;32m     82\u001b[0m     \u001b[39mself\u001b[39m\u001b[39m.\u001b[39morig_endog \u001b[39m=\u001b[39m endog\n\u001b[0;32m     83\u001b[0m     \u001b[39mself\u001b[39m\u001b[39m.\u001b[39morig_exog \u001b[39m=\u001b[39m exog\n\u001b[1;32m---> 84\u001b[0m     \u001b[39mself\u001b[39m\u001b[39m.\u001b[39mendog, \u001b[39mself\u001b[39m\u001b[39m.\u001b[39mexog \u001b[39m=\u001b[39m \u001b[39mself\u001b[39m\u001b[39m.\u001b[39m_convert_endog_exog(endog, exog)\n\u001b[0;32m     86\u001b[0m \u001b[39mself\u001b[39m\u001b[39m.\u001b[39mconst_idx \u001b[39m=\u001b[39m \u001b[39mNone\u001b[39;00m\n\u001b[0;32m     87\u001b[0m \u001b[39mself\u001b[39m\u001b[39m.\u001b[39mk_constant \u001b[39m=\u001b[39m \u001b[39m0\u001b[39m\n",
      "File \u001b[1;32mc:\\Users\\franc\\anaconda3.9\\Lib\\site-packages\\statsmodels\\base\\data.py:530\u001b[0m, in \u001b[0;36mPandasData._convert_endog_exog\u001b[1;34m(self, endog, exog)\u001b[0m\n\u001b[0;32m    528\u001b[0m     \u001b[39melse\u001b[39;00m:\n\u001b[0;32m    529\u001b[0m         exog_dtype \u001b[39m=\u001b[39m \u001b[39mNone\u001b[39;00m\n\u001b[1;32m--> 530\u001b[0m     \u001b[39mraise\u001b[39;00m \u001b[39mValueError\u001b[39;00m(\n\u001b[0;32m    531\u001b[0m         \u001b[39m\"\u001b[39m\u001b[39mPandas data cast to numpy dtype of object. Check input data \u001b[39m\u001b[39m\"\u001b[39m\n\u001b[0;32m    532\u001b[0m         \u001b[39m\"\u001b[39m\u001b[39mwith np.asarray(data). The types seen were\u001b[39m\u001b[39m\"\u001b[39m\n\u001b[0;32m    533\u001b[0m         \u001b[39mf\u001b[39m\u001b[39m\"\u001b[39m\u001b[39m{\u001b[39;00mendog_dtype\u001b[39m}\u001b[39;00m\u001b[39m and \u001b[39m\u001b[39m{\u001b[39;00mexog_dtype\u001b[39m}\u001b[39;00m\u001b[39m. The data was\u001b[39m\u001b[39m\\n\u001b[39;00m\u001b[39m\"\u001b[39m\n\u001b[0;32m    534\u001b[0m         \u001b[39mf\u001b[39m\u001b[39m\"\u001b[39m\u001b[39m{\u001b[39;00morig_endog\u001b[39m}\u001b[39;00m\u001b[39m\\n\u001b[39;00m\u001b[39mand\u001b[39m\u001b[39m\\n\u001b[39;00m\u001b[39m \u001b[39m\u001b[39m{\u001b[39;00morig_exog\u001b[39m}\u001b[39;00m\u001b[39m\\n\u001b[39;00m\u001b[39mbefore. After,\u001b[39m\u001b[39m\\n\u001b[39;00m\u001b[39m{\u001b[39;00mendog\u001b[39m}\u001b[39;00m\u001b[39m\\n\u001b[39;00m\u001b[39m{\u001b[39;00mexog\u001b[39m}\u001b[39;00m\u001b[39m.\u001b[39m\u001b[39m\"\u001b[39m\n\u001b[0;32m    535\u001b[0m     )\n\u001b[0;32m    536\u001b[0m \u001b[39mreturn\u001b[39;00m \u001b[39msuper\u001b[39m(PandasData, \u001b[39mself\u001b[39m)\u001b[39m.\u001b[39m_convert_endog_exog(endog, exog)\n",
      "\u001b[1;31mValueError\u001b[0m: Pandas data cast to numpy dtype of object. Check input data with np.asarray(data). The types seen wereNone and const         float64\nCategories     object\nDistance      float64\nAddress        object\nCity           object\nName           object\nRating        float64\ndtype: object. The data was\n0        20\n1        20\n2        20\n3        20\n4        20\n         ..\n10663    20\n10664    20\n10665    20\n10666    20\n10667    20\nName: Total Bikes, Length: 10666, dtype: int64\nand\n        const                                   Categories  Distance  \\\n0        1.0                                       French    136.08   \n1        1.0             Coffee & Tea, Breakfast & Brunch    816.65   \n2        1.0                                       French    115.09   \n3        1.0                        Steakhouses, Barbeque    628.17   \n4        1.0                                        Greek    937.10   \n...      ...                                          ...       ...   \n10663    1.0                                   Brasseries    855.76   \n10664    1.0                                  Food Stands    614.36   \n10665    1.0                                       French    941.37   \n10666    1.0                                   Brasseries    869.14   \n10667    1.0  Cafes, Fast Food, Car Dealers, Coffee & Tea   1049.74   \n\n                                                 Address               City  \\\n0      Hôtel Casino Barrière de Lille, 777 bis pont d...              Lille   \n1                  151 rue de Paris, 59800 Lille, France              Lille   \n2      Hôtel Casino Barrière de Lille, 777 bis pont d...              Lille   \n3                13 rue Sainte-Anne, 59800 Lille, France              Lille   \n4                    86 rue de Gand, 59000 Lille, France              Lille   \n...                                                  ...                ...   \n10663  138 rue Jules Guesde, 59650 Villeneuve-d'Ascq,...  Villeneuve-d'Ascq   \n10664  Rue Alexandre Detroy, 59650 Villeneuve-d'Ascq,...  Villeneuve-d'Ascq   \n10665  1 allée du musée, 59650 Villeneuve-d'Ascq, France  Villeneuve-d'Ascq   \n10666  124 rue Jules Guesde, 59650 Villeneuve-d'Ascq,...  Villeneuve-d'Ascq   \n10667     Bd de l'Ouest, 59650 Villeneuve-d'Ascq, France  Villeneuve-d'Ascq   \n\n                      Name  Rating  \n0      La Terrasse du Parc     4.0  \n1            Coffee Makers     4.5  \n2       Les Hauts de Lille     4.0  \n3        Grill Sainte-Anne     4.5  \n4           L'Ile de Crète     4.5  \n...                    ...     ...  \n10663        Le Zythologue     2.0  \n10664    Friterie du Bourg     3.0  \n10665              Culin'r     3.0  \n10666            L'Ardoise     1.5  \n10667        Mercedes Café     3.0  \n\n[10666 rows x 7 columns]\nbefore. After,\n[20 20 20 ... 20 20 20]\n[[1.0 'French' 136.08 ... 'Lille' 'La Terrasse du Parc' 4.0]\n [1.0 'Coffee & Tea, Breakfast & Brunch' 816.65 ... 'Lille'\n  'Coffee Makers' 4.5]\n [1.0 'French' 115.09 ... 'Lille' 'Les Hauts de Lille' 4.0]\n ...\n [1.0 'French' 941.37 ... \"Villeneuve-d'Ascq\" \"Culin'r\" 3.0]\n [1.0 'Brasseries' 869.14 ... \"Villeneuve-d'Ascq\" \"L'Ardoise\" 1.5]\n [1.0 'Cafes, Fast Food, Car Dealers, Coffee & Tea' 1049.74 ...\n  \"Villeneuve-d'Ascq\" 'Mercedes Café' 3.0]]."
     ]
    }
   ],
   "source": [
    "X = sm.add_constant(X1)\n",
    "reg_logit = sm.Logit(y,X)\n",
    "results_logit = reg_logit.fit()"
   ]
  },
  {
   "cell_type": "code",
   "execution_count": 39,
   "metadata": {},
   "outputs": [
    {
     "ename": "NameError",
     "evalue": "name 'results_logit' is not defined",
     "output_type": "error",
     "traceback": [
      "\u001b[1;31m---------------------------------------------------------------------------\u001b[0m",
      "\u001b[1;31mNameError\u001b[0m                                 Traceback (most recent call last)",
      "\u001b[1;32mc:\\Code\\Projects\\Project-Statistical-Modelling-with-Python\\notebooks\\model_building.ipynb Cell 24\u001b[0m line \u001b[0;36m1\n\u001b[1;32m----> <a href='vscode-notebook-cell:/c%3A/Code/Projects/Project-Statistical-Modelling-with-Python/notebooks/model_building.ipynb#X50sZmlsZQ%3D%3D?line=0'>1</a>\u001b[0m results_logit\u001b[39m.\u001b[39msummary()\n",
      "\u001b[1;31mNameError\u001b[0m: name 'results_logit' is not defined"
     ]
    }
   ],
   "source": [
    "results_logit.summary()"
   ]
  },
  {
   "cell_type": "code",
   "execution_count": null,
   "metadata": {},
   "outputs": [],
   "source": []
  },
  {
   "cell_type": "code",
   "execution_count": null,
   "metadata": {},
   "outputs": [],
   "source": []
  },
  {
   "cell_type": "code",
   "execution_count": null,
   "metadata": {},
   "outputs": [],
   "source": []
  },
  {
   "cell_type": "code",
   "execution_count": null,
   "metadata": {},
   "outputs": [],
   "source": []
  },
  {
   "cell_type": "code",
   "execution_count": null,
   "metadata": {},
   "outputs": [],
   "source": []
  },
  {
   "cell_type": "code",
   "execution_count": null,
   "metadata": {},
   "outputs": [],
   "source": [
    "import statsmodels.api as sm\n",
    "\n",
    "# Define your dependent variable (number of bikes) and independent variables (characteristics of POIs)\n",
    "y = bu_reg['Total Bikes']\n",
    "X = bu_reg[['Rating', 'Distance', 'Latitude', 'Longitude']]  # Add all relevant POI characteristics\n",
    "\n",
    "# Add a constant term for the intercept in the regression model\n",
    "X = sm.add_constant(X)\n",
    "\n",
    "# Build the regression model\n",
    "model = sm.OLS(y, X).fit()\n",
    "\n",
    "# Interpret and print the results\n",
    "print(model.summary())"
   ]
  },
  {
   "cell_type": "code",
   "execution_count": 16,
   "metadata": {},
   "outputs": [
    {
     "name": "stdout",
     "output_type": "stream",
     "text": [
      "                            OLS Regression Results                            \n",
      "==============================================================================\n",
      "Dep. Variable:            Total Bikes   R-squared:                        -inf\n",
      "Model:                            OLS   Adj. R-squared:                   -inf\n",
      "Method:                 Least Squares   F-statistic:                    -5332.\n",
      "Date:                Sun, 24 Sep 2023   Prob (F-statistic):               1.00\n",
      "Time:                        02:39:46   Log-Likelihood:             2.8623e+05\n",
      "No. Observations:               10666   AIC:                        -5.725e+05\n",
      "Df Residuals:                   10663   BIC:                        -5.724e+05\n",
      "Df Model:                           2                                         \n",
      "Covariance Type:            nonrobust                                         \n",
      "==============================================================================\n",
      "                 coef    std err          t      P>|t|      [0.025      0.975]\n",
      "------------------------------------------------------------------------------\n",
      "const         20.0000   2.68e-14   7.47e+14      0.000      20.000      20.000\n",
      "Rating      3.331e-15   6.85e-15      0.487      0.627   -1.01e-14    1.67e-14\n",
      "Distance   -4.173e-16   5.13e-18    -81.402      0.000   -4.27e-16   -4.07e-16\n",
      "==============================================================================\n",
      "Omnibus:                    13944.292   Durbin-Watson:                   1.214\n",
      "Prob(Omnibus):                  0.000   Jarque-Bera (JB):          2217661.150\n",
      "Skew:                           7.503   Prob(JB):                         0.00\n",
      "Kurtosis:                      72.028   Cond. No.                     6.90e+03\n",
      "==============================================================================\n",
      "\n",
      "Notes:\n",
      "[1] Standard Errors assume that the covariance matrix of the errors is correctly specified.\n",
      "[2] The condition number is large, 6.9e+03. This might indicate that there are\n",
      "strong multicollinearity or other numerical problems.\n"
     ]
    },
    {
     "name": "stderr",
     "output_type": "stream",
     "text": [
      "c:\\Users\\franc\\anaconda3.9\\Lib\\site-packages\\statsmodels\\regression\\linear_model.py:1752: RuntimeWarning: divide by zero encountered in scalar divide\n",
      "  return 1 - self.ssr/self.centered_tss\n"
     ]
    }
   ],
   "source": [
    "import statsmodels.api as sm\n",
    "\n",
    "# Define your dependent variable (number of bikes) and independent variables (characteristics of POIs)\n",
    "y = bu_reg['Total Bikes']\n",
    "X = bu_reg[['Rating', 'Distance']]  # Add all relevant POI characteristics\n",
    "\n",
    "# Add a constant term for the intercept in the regression model\n",
    "X = sm.add_constant(X)\n",
    "\n",
    "# Build the regression model\n",
    "model = sm.OLS(y, X).fit()\n",
    "\n",
    "# Interpret and print the results\n",
    "print(model.summary())"
   ]
  },
  {
   "cell_type": "code",
   "execution_count": null,
   "metadata": {},
   "outputs": [],
   "source": []
  },
  {
   "cell_type": "code",
   "execution_count": null,
   "metadata": {},
   "outputs": [],
   "source": []
  },
  {
   "cell_type": "code",
   "execution_count": null,
   "metadata": {},
   "outputs": [],
   "source": []
  },
  {
   "cell_type": "markdown",
   "metadata": {},
   "source": [
    "Provide model output and an interpretation of the results. "
   ]
  },
  {
   "cell_type": "code",
   "execution_count": null,
   "metadata": {},
   "outputs": [],
   "source": []
  },
  {
   "cell_type": "markdown",
   "metadata": {},
   "source": [
    "# Stretch"
   ]
  },
  {
   "cell_type": "markdown",
   "metadata": {},
   "source": [
    "How can you turn the regression model into a classification model?"
   ]
  },
  {
   "cell_type": "code",
   "execution_count": null,
   "metadata": {},
   "outputs": [],
   "source": []
  }
 ],
 "metadata": {
  "kernelspec": {
   "display_name": "Python 3",
   "language": "python",
   "name": "python3"
  },
  "language_info": {
   "codemirror_mode": {
    "name": "ipython",
    "version": 3
   },
   "file_extension": ".py",
   "mimetype": "text/x-python",
   "name": "python",
   "nbconvert_exporter": "python",
   "pygments_lexer": "ipython3",
   "version": "3.11.3"
  }
 },
 "nbformat": 4,
 "nbformat_minor": 4
}
