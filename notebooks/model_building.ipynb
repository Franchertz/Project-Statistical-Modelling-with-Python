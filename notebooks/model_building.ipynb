{
 "cells": [
  {
   "cell_type": "markdown",
   "metadata": {},
   "source": [
    "# BUILD A REGRESSION MODEL."
   ]
  },
  {
   "cell_type": "markdown",
   "metadata": {},
   "source": [
    "Data to use is `merged_dfx` that has been cleaned. do another check just to confirm"
   ]
  },
  {
   "cell_type": "code",
   "execution_count": 1,
   "metadata": {},
   "outputs": [],
   "source": [
    "# Importing the required libraries for EDA\n",
    "\n",
    "import pandas as pd\n",
    "import numpy as np\n",
    "import seaborn as sns                       #visualisation\n",
    "import matplotlib.pyplot as plt             #visualisation\n",
    "import statsmodels.api as sm\n",
    "import seaborn\n",
    "seaborn.set()\n",
    "import warnings\n",
    "warnings.filterwarnings(\"ignore\")"
   ]
  },
  {
   "cell_type": "code",
   "execution_count": 3,
   "metadata": {},
   "outputs": [
    {
     "data": {
      "text/html": [
       "<div>\n",
       "<style scoped>\n",
       "    .dataframe tbody tr th:only-of-type {\n",
       "        vertical-align: middle;\n",
       "    }\n",
       "\n",
       "    .dataframe tbody tr th {\n",
       "        vertical-align: top;\n",
       "    }\n",
       "\n",
       "    .dataframe thead th {\n",
       "        text-align: right;\n",
       "    }\n",
       "</style>\n",
       "<table border=\"1\" class=\"dataframe\">\n",
       "  <thead>\n",
       "    <tr style=\"text-align: right;\">\n",
       "      <th></th>\n",
       "      <th>Station_names</th>\n",
       "      <th>Categories</th>\n",
       "      <th>Distance</th>\n",
       "      <th>Address</th>\n",
       "      <th>Latitude</th>\n",
       "      <th>Longitude</th>\n",
       "      <th>Rating</th>\n",
       "      <th>Review_count</th>\n",
       "      <th>Total Bikes</th>\n",
       "    </tr>\n",
       "  </thead>\n",
       "  <tbody>\n",
       "    <tr>\n",
       "      <th>0</th>\n",
       "      <td>Others</td>\n",
       "      <td>Misc</td>\n",
       "      <td>604.11</td>\n",
       "      <td>Lille</td>\n",
       "      <td>50.65</td>\n",
       "      <td>3.1</td>\n",
       "      <td>3.99</td>\n",
       "      <td>23.53</td>\n",
       "      <td>20.0</td>\n",
       "    </tr>\n",
       "    <tr>\n",
       "      <th>1</th>\n",
       "      <td>Others</td>\n",
       "      <td>Misc</td>\n",
       "      <td>604.11</td>\n",
       "      <td>Lille</td>\n",
       "      <td>50.65</td>\n",
       "      <td>3.1</td>\n",
       "      <td>3.99</td>\n",
       "      <td>23.53</td>\n",
       "      <td>27.0</td>\n",
       "    </tr>\n",
       "    <tr>\n",
       "      <th>2</th>\n",
       "      <td>Others</td>\n",
       "      <td>Misc</td>\n",
       "      <td>604.11</td>\n",
       "      <td>Lille</td>\n",
       "      <td>50.65</td>\n",
       "      <td>3.1</td>\n",
       "      <td>3.99</td>\n",
       "      <td>23.53</td>\n",
       "      <td>0.0</td>\n",
       "    </tr>\n",
       "    <tr>\n",
       "      <th>3</th>\n",
       "      <td>Others</td>\n",
       "      <td>Misc</td>\n",
       "      <td>604.11</td>\n",
       "      <td>Lille</td>\n",
       "      <td>50.65</td>\n",
       "      <td>3.1</td>\n",
       "      <td>3.99</td>\n",
       "      <td>23.53</td>\n",
       "      <td>12.0</td>\n",
       "    </tr>\n",
       "    <tr>\n",
       "      <th>4</th>\n",
       "      <td>Others</td>\n",
       "      <td>Misc</td>\n",
       "      <td>604.11</td>\n",
       "      <td>Lille</td>\n",
       "      <td>50.65</td>\n",
       "      <td>3.1</td>\n",
       "      <td>3.99</td>\n",
       "      <td>23.53</td>\n",
       "      <td>16.0</td>\n",
       "    </tr>\n",
       "  </tbody>\n",
       "</table>\n",
       "</div>"
      ],
      "text/plain": [
       "  Station_names Categories  Distance Address  Latitude  Longitude  Rating  \\\n",
       "0        Others       Misc    604.11   Lille     50.65        3.1    3.99   \n",
       "1        Others       Misc    604.11   Lille     50.65        3.1    3.99   \n",
       "2        Others       Misc    604.11   Lille     50.65        3.1    3.99   \n",
       "3        Others       Misc    604.11   Lille     50.65        3.1    3.99   \n",
       "4        Others       Misc    604.11   Lille     50.65        3.1    3.99   \n",
       "\n",
       "   Review_count  Total Bikes  \n",
       "0         23.53         20.0  \n",
       "1         23.53         27.0  \n",
       "2         23.53          0.0  \n",
       "3         23.53         12.0  \n",
       "4         23.53         16.0  "
      ]
     },
     "execution_count": 3,
     "metadata": {},
     "output_type": "execute_result"
    }
   ],
   "source": [
    "# Load dataframe\n",
    "bld_reg = pd.read_csv(r'C:\\Code\\Project_Stat_Model_DataFrame_Store\\combsql1.0_df.csv')\n",
    "\n",
    "bld_reg.head()"
   ]
  },
  {
   "cell_type": "code",
   "execution_count": 4,
   "metadata": {},
   "outputs": [
    {
     "name": "stdout",
     "output_type": "stream",
     "text": [
      "<class 'pandas.core.frame.DataFrame'>\n",
      "RangeIndex: 8630 entries, 0 to 8629\n",
      "Data columns (total 9 columns):\n",
      " #   Column         Non-Null Count  Dtype  \n",
      "---  ------         --------------  -----  \n",
      " 0   Station_names  8630 non-null   object \n",
      " 1   Categories     8630 non-null   object \n",
      " 2   Distance       8630 non-null   float64\n",
      " 3   Address        8630 non-null   object \n",
      " 4   Latitude       8630 non-null   float64\n",
      " 5   Longitude      8630 non-null   float64\n",
      " 6   Rating         8630 non-null   float64\n",
      " 7   Review_count   8630 non-null   float64\n",
      " 8   Total Bikes    8630 non-null   float64\n",
      "dtypes: float64(6), object(3)\n",
      "memory usage: 606.9+ KB\n"
     ]
    }
   ],
   "source": [
    "bld_reg.info()"
   ]
  },
  {
   "cell_type": "code",
   "execution_count": 5,
   "metadata": {},
   "outputs": [
    {
     "data": {
      "text/plain": [
       "(8630, 9)"
      ]
     },
     "execution_count": 5,
     "metadata": {},
     "output_type": "execute_result"
    }
   ],
   "source": [
    "bld_reg.shape"
   ]
  },
  {
   "cell_type": "code",
   "execution_count": 7,
   "metadata": {},
   "outputs": [
    {
     "name": "stdout",
     "output_type": "stream",
     "text": [
      "number of duplicate rows:  (1789, 9)\n"
     ]
    }
   ],
   "source": [
    "# Checking for duplicates\n",
    "duplicate_rows_bld_reg = bld_reg[bld_reg.duplicated()]\n",
    "print(\"number of duplicate rows: \", duplicate_rows_bld_reg.shape)"
   ]
  },
  {
   "cell_type": "code",
   "execution_count": 8,
   "metadata": {},
   "outputs": [
    {
     "data": {
      "text/html": [
       "<div>\n",
       "<style scoped>\n",
       "    .dataframe tbody tr th:only-of-type {\n",
       "        vertical-align: middle;\n",
       "    }\n",
       "\n",
       "    .dataframe tbody tr th {\n",
       "        vertical-align: top;\n",
       "    }\n",
       "\n",
       "    .dataframe thead th {\n",
       "        text-align: right;\n",
       "    }\n",
       "</style>\n",
       "<table border=\"1\" class=\"dataframe\">\n",
       "  <thead>\n",
       "    <tr style=\"text-align: right;\">\n",
       "      <th></th>\n",
       "      <th>Station_names</th>\n",
       "      <th>Categories</th>\n",
       "      <th>Distance</th>\n",
       "      <th>Address</th>\n",
       "      <th>Latitude</th>\n",
       "      <th>Longitude</th>\n",
       "      <th>Rating</th>\n",
       "      <th>Review_count</th>\n",
       "      <th>Total Bikes</th>\n",
       "    </tr>\n",
       "  </thead>\n",
       "  <tbody>\n",
       "    <tr>\n",
       "      <th>0</th>\n",
       "      <td>Others</td>\n",
       "      <td>Misc</td>\n",
       "      <td>604.11</td>\n",
       "      <td>Lille</td>\n",
       "      <td>50.65</td>\n",
       "      <td>3.10</td>\n",
       "      <td>3.99</td>\n",
       "      <td>23.53</td>\n",
       "      <td>20.00</td>\n",
       "    </tr>\n",
       "    <tr>\n",
       "      <th>1</th>\n",
       "      <td>Others</td>\n",
       "      <td>Misc</td>\n",
       "      <td>604.11</td>\n",
       "      <td>Lille</td>\n",
       "      <td>50.65</td>\n",
       "      <td>3.10</td>\n",
       "      <td>3.99</td>\n",
       "      <td>23.53</td>\n",
       "      <td>27.00</td>\n",
       "    </tr>\n",
       "    <tr>\n",
       "      <th>2</th>\n",
       "      <td>Others</td>\n",
       "      <td>Misc</td>\n",
       "      <td>604.11</td>\n",
       "      <td>Lille</td>\n",
       "      <td>50.65</td>\n",
       "      <td>3.10</td>\n",
       "      <td>3.99</td>\n",
       "      <td>23.53</td>\n",
       "      <td>0.00</td>\n",
       "    </tr>\n",
       "    <tr>\n",
       "      <th>3</th>\n",
       "      <td>Others</td>\n",
       "      <td>Misc</td>\n",
       "      <td>604.11</td>\n",
       "      <td>Lille</td>\n",
       "      <td>50.65</td>\n",
       "      <td>3.10</td>\n",
       "      <td>3.99</td>\n",
       "      <td>23.53</td>\n",
       "      <td>12.00</td>\n",
       "    </tr>\n",
       "    <tr>\n",
       "      <th>4</th>\n",
       "      <td>Others</td>\n",
       "      <td>Misc</td>\n",
       "      <td>604.11</td>\n",
       "      <td>Lille</td>\n",
       "      <td>50.65</td>\n",
       "      <td>3.10</td>\n",
       "      <td>3.99</td>\n",
       "      <td>23.53</td>\n",
       "      <td>16.00</td>\n",
       "    </tr>\n",
       "    <tr>\n",
       "      <th>...</th>\n",
       "      <td>...</td>\n",
       "      <td>...</td>\n",
       "      <td>...</td>\n",
       "      <td>...</td>\n",
       "      <td>...</td>\n",
       "      <td>...</td>\n",
       "      <td>...</td>\n",
       "      <td>...</td>\n",
       "      <td>...</td>\n",
       "    </tr>\n",
       "    <tr>\n",
       "      <th>8625</th>\n",
       "      <td>CHATELLENIE</td>\n",
       "      <td>Fast Food</td>\n",
       "      <td>459.21</td>\n",
       "      <td>78 Rue Jeanne D'arc, Près de l'église de Flers...</td>\n",
       "      <td>50.63</td>\n",
       "      <td>3.13</td>\n",
       "      <td>3.50</td>\n",
       "      <td>4.00</td>\n",
       "      <td>18.19</td>\n",
       "    </tr>\n",
       "    <tr>\n",
       "      <th>8626</th>\n",
       "      <td>CHATELLENIE</td>\n",
       "      <td>French, Venues &amp; Event Spaces, Caterers</td>\n",
       "      <td>604.11</td>\n",
       "      <td>99 rue Parmentier, 59650 Villeneuve d'Ascq, Fr...</td>\n",
       "      <td>50.65</td>\n",
       "      <td>3.10</td>\n",
       "      <td>2.00</td>\n",
       "      <td>8.00</td>\n",
       "      <td>18.19</td>\n",
       "    </tr>\n",
       "    <tr>\n",
       "      <th>8627</th>\n",
       "      <td>CHATELLENIE</td>\n",
       "      <td>Fast Food</td>\n",
       "      <td>934.77</td>\n",
       "      <td>7 bd de Mons, 59650 Villeneuve-d'Ascq, France</td>\n",
       "      <td>50.64</td>\n",
       "      <td>3.14</td>\n",
       "      <td>3.50</td>\n",
       "      <td>3.00</td>\n",
       "      <td>18.19</td>\n",
       "    </tr>\n",
       "    <tr>\n",
       "      <th>8628</th>\n",
       "      <td>CHATELLENIE</td>\n",
       "      <td>Brasseries</td>\n",
       "      <td>1026.45</td>\n",
       "      <td>41 rue de la Cousinerie, 59650 Villeneuve-d'As...</td>\n",
       "      <td>50.64</td>\n",
       "      <td>3.15</td>\n",
       "      <td>3.50</td>\n",
       "      <td>2.00</td>\n",
       "      <td>18.19</td>\n",
       "    </tr>\n",
       "    <tr>\n",
       "      <th>8629</th>\n",
       "      <td>CHATELLENIE</td>\n",
       "      <td>Bistros, Wine Bars</td>\n",
       "      <td>1224.45</td>\n",
       "      <td>Centre sportif OCEA, 51 rue de la Cimaise, 596...</td>\n",
       "      <td>50.64</td>\n",
       "      <td>3.15</td>\n",
       "      <td>3.50</td>\n",
       "      <td>2.00</td>\n",
       "      <td>18.19</td>\n",
       "    </tr>\n",
       "  </tbody>\n",
       "</table>\n",
       "<p>8630 rows × 9 columns</p>\n",
       "</div>"
      ],
      "text/plain": [
       "     Station_names                               Categories  Distance  \\\n",
       "0           Others                                     Misc    604.11   \n",
       "1           Others                                     Misc    604.11   \n",
       "2           Others                                     Misc    604.11   \n",
       "3           Others                                     Misc    604.11   \n",
       "4           Others                                     Misc    604.11   \n",
       "...            ...                                      ...       ...   \n",
       "8625   CHATELLENIE                                Fast Food    459.21   \n",
       "8626   CHATELLENIE  French, Venues & Event Spaces, Caterers    604.11   \n",
       "8627   CHATELLENIE                                Fast Food    934.77   \n",
       "8628   CHATELLENIE                               Brasseries   1026.45   \n",
       "8629   CHATELLENIE                       Bistros, Wine Bars   1224.45   \n",
       "\n",
       "                                                Address  Latitude  Longitude  \\\n",
       "0                                                 Lille     50.65       3.10   \n",
       "1                                                 Lille     50.65       3.10   \n",
       "2                                                 Lille     50.65       3.10   \n",
       "3                                                 Lille     50.65       3.10   \n",
       "4                                                 Lille     50.65       3.10   \n",
       "...                                                 ...       ...        ...   \n",
       "8625  78 Rue Jeanne D'arc, Près de l'église de Flers...     50.63       3.13   \n",
       "8626  99 rue Parmentier, 59650 Villeneuve d'Ascq, Fr...     50.65       3.10   \n",
       "8627      7 bd de Mons, 59650 Villeneuve-d'Ascq, France     50.64       3.14   \n",
       "8628  41 rue de la Cousinerie, 59650 Villeneuve-d'As...     50.64       3.15   \n",
       "8629  Centre sportif OCEA, 51 rue de la Cimaise, 596...     50.64       3.15   \n",
       "\n",
       "      Rating  Review_count  Total Bikes  \n",
       "0       3.99         23.53        20.00  \n",
       "1       3.99         23.53        27.00  \n",
       "2       3.99         23.53         0.00  \n",
       "3       3.99         23.53        12.00  \n",
       "4       3.99         23.53        16.00  \n",
       "...      ...           ...          ...  \n",
       "8625    3.50          4.00        18.19  \n",
       "8626    2.00          8.00        18.19  \n",
       "8627    3.50          3.00        18.19  \n",
       "8628    3.50          2.00        18.19  \n",
       "8629    3.50          2.00        18.19  \n",
       "\n",
       "[8630 rows x 9 columns]"
      ]
     },
     "execution_count": 8,
     "metadata": {},
     "output_type": "execute_result"
    }
   ],
   "source": [
    "# Create a copy of dataframe\n",
    "bld_reg_jk = bld_reg.copy()\n",
    "bld_reg_jk\n",
    "\n",
    "# bu_reg_x = bu_reg_x.drop_duplicates()\n",
    "# bu_reg_x.tail()"
   ]
  },
  {
   "cell_type": "code",
   "execution_count": 9,
   "metadata": {},
   "outputs": [
    {
     "name": "stdout",
     "output_type": "stream",
     "text": [
      "number of duplicate rows:  (1789, 9)\n"
     ]
    }
   ],
   "source": [
    "# Checking for duplicates\n",
    "duplicate_rows_bld_reg_jk = bld_reg_jk[bld_reg_jk.duplicated()]\n",
    "print(\"number of duplicate rows: \", duplicate_rows_bld_reg_jk.shape)\n",
    "\n"
   ]
  },
  {
   "cell_type": "code",
   "execution_count": 10,
   "metadata": {},
   "outputs": [
    {
     "data": {
      "text/html": [
       "<div>\n",
       "<style scoped>\n",
       "    .dataframe tbody tr th:only-of-type {\n",
       "        vertical-align: middle;\n",
       "    }\n",
       "\n",
       "    .dataframe tbody tr th {\n",
       "        vertical-align: top;\n",
       "    }\n",
       "\n",
       "    .dataframe thead th {\n",
       "        text-align: right;\n",
       "    }\n",
       "</style>\n",
       "<table border=\"1\" class=\"dataframe\">\n",
       "  <thead>\n",
       "    <tr style=\"text-align: right;\">\n",
       "      <th></th>\n",
       "      <th>Station_names</th>\n",
       "      <th>Categories</th>\n",
       "      <th>Distance</th>\n",
       "      <th>Address</th>\n",
       "      <th>Latitude</th>\n",
       "      <th>Longitude</th>\n",
       "      <th>Rating</th>\n",
       "      <th>Review_count</th>\n",
       "      <th>Total Bikes</th>\n",
       "    </tr>\n",
       "  </thead>\n",
       "  <tbody>\n",
       "    <tr>\n",
       "      <th>8623</th>\n",
       "      <td>CHATELLENIE</td>\n",
       "      <td>Fast Food, Food Delivery Services</td>\n",
       "      <td>886.00</td>\n",
       "      <td>214 Rue De La Convention, 59650 Villeneuve D A...</td>\n",
       "      <td>50.64</td>\n",
       "      <td>3.15</td>\n",
       "      <td>3.5</td>\n",
       "      <td>9.0</td>\n",
       "      <td>18.19</td>\n",
       "    </tr>\n",
       "    <tr>\n",
       "      <th>8625</th>\n",
       "      <td>CHATELLENIE</td>\n",
       "      <td>Fast Food</td>\n",
       "      <td>459.21</td>\n",
       "      <td>78 Rue Jeanne D'arc, Près de l'église de Flers...</td>\n",
       "      <td>50.63</td>\n",
       "      <td>3.13</td>\n",
       "      <td>3.5</td>\n",
       "      <td>4.0</td>\n",
       "      <td>18.19</td>\n",
       "    </tr>\n",
       "    <tr>\n",
       "      <th>8627</th>\n",
       "      <td>CHATELLENIE</td>\n",
       "      <td>Fast Food</td>\n",
       "      <td>934.77</td>\n",
       "      <td>7 bd de Mons, 59650 Villeneuve-d'Ascq, France</td>\n",
       "      <td>50.64</td>\n",
       "      <td>3.14</td>\n",
       "      <td>3.5</td>\n",
       "      <td>3.0</td>\n",
       "      <td>18.19</td>\n",
       "    </tr>\n",
       "    <tr>\n",
       "      <th>8628</th>\n",
       "      <td>CHATELLENIE</td>\n",
       "      <td>Brasseries</td>\n",
       "      <td>1026.45</td>\n",
       "      <td>41 rue de la Cousinerie, 59650 Villeneuve-d'As...</td>\n",
       "      <td>50.64</td>\n",
       "      <td>3.15</td>\n",
       "      <td>3.5</td>\n",
       "      <td>2.0</td>\n",
       "      <td>18.19</td>\n",
       "    </tr>\n",
       "    <tr>\n",
       "      <th>8629</th>\n",
       "      <td>CHATELLENIE</td>\n",
       "      <td>Bistros, Wine Bars</td>\n",
       "      <td>1224.45</td>\n",
       "      <td>Centre sportif OCEA, 51 rue de la Cimaise, 596...</td>\n",
       "      <td>50.64</td>\n",
       "      <td>3.15</td>\n",
       "      <td>3.5</td>\n",
       "      <td>2.0</td>\n",
       "      <td>18.19</td>\n",
       "    </tr>\n",
       "  </tbody>\n",
       "</table>\n",
       "</div>"
      ],
      "text/plain": [
       "     Station_names                         Categories  Distance  \\\n",
       "8623   CHATELLENIE  Fast Food, Food Delivery Services    886.00   \n",
       "8625   CHATELLENIE                          Fast Food    459.21   \n",
       "8627   CHATELLENIE                          Fast Food    934.77   \n",
       "8628   CHATELLENIE                         Brasseries   1026.45   \n",
       "8629   CHATELLENIE                 Bistros, Wine Bars   1224.45   \n",
       "\n",
       "                                                Address  Latitude  Longitude  \\\n",
       "8623  214 Rue De La Convention, 59650 Villeneuve D A...     50.64       3.15   \n",
       "8625  78 Rue Jeanne D'arc, Près de l'église de Flers...     50.63       3.13   \n",
       "8627      7 bd de Mons, 59650 Villeneuve-d'Ascq, France     50.64       3.14   \n",
       "8628  41 rue de la Cousinerie, 59650 Villeneuve-d'As...     50.64       3.15   \n",
       "8629  Centre sportif OCEA, 51 rue de la Cimaise, 596...     50.64       3.15   \n",
       "\n",
       "      Rating  Review_count  Total Bikes  \n",
       "8623     3.5           9.0        18.19  \n",
       "8625     3.5           4.0        18.19  \n",
       "8627     3.5           3.0        18.19  \n",
       "8628     3.5           2.0        18.19  \n",
       "8629     3.5           2.0        18.19  "
      ]
     },
     "execution_count": 10,
     "metadata": {},
     "output_type": "execute_result"
    }
   ],
   "source": [
    "# Drop duplicates\n",
    "bld_reg_jk = bld_reg_jk.drop_duplicates()\n",
    "bld_reg_jk.tail()"
   ]
  },
  {
   "cell_type": "code",
   "execution_count": 11,
   "metadata": {},
   "outputs": [
    {
     "name": "stdout",
     "output_type": "stream",
     "text": [
      "number of duplicate rows:  (0, 9)\n"
     ]
    }
   ],
   "source": [
    "# Checking for duplicates\n",
    "duplicate_rows_bld_reg_jk = bld_reg_jk[bld_reg_jk.duplicated()]\n",
    "print(\"number of duplicate rows: \", duplicate_rows_bld_reg_jk.shape)"
   ]
  },
  {
   "cell_type": "code",
   "execution_count": 12,
   "metadata": {},
   "outputs": [
    {
     "data": {
      "text/html": [
       "<div>\n",
       "<style scoped>\n",
       "    .dataframe tbody tr th:only-of-type {\n",
       "        vertical-align: middle;\n",
       "    }\n",
       "\n",
       "    .dataframe tbody tr th {\n",
       "        vertical-align: top;\n",
       "    }\n",
       "\n",
       "    .dataframe thead th {\n",
       "        text-align: right;\n",
       "    }\n",
       "</style>\n",
       "<table border=\"1\" class=\"dataframe\">\n",
       "  <thead>\n",
       "    <tr style=\"text-align: right;\">\n",
       "      <th></th>\n",
       "      <th>Station_names</th>\n",
       "      <th>Categories</th>\n",
       "      <th>Distance</th>\n",
       "      <th>Address</th>\n",
       "      <th>Latitude</th>\n",
       "      <th>Longitude</th>\n",
       "      <th>Rating</th>\n",
       "      <th>Review_count</th>\n",
       "      <th>Total Bikes</th>\n",
       "    </tr>\n",
       "  </thead>\n",
       "  <tbody>\n",
       "    <tr>\n",
       "      <th>0</th>\n",
       "      <td>Others</td>\n",
       "      <td>Misc</td>\n",
       "      <td>604.11</td>\n",
       "      <td>Lille</td>\n",
       "      <td>50.65</td>\n",
       "      <td>3.10</td>\n",
       "      <td>3.99</td>\n",
       "      <td>23.53</td>\n",
       "      <td>20.00</td>\n",
       "    </tr>\n",
       "    <tr>\n",
       "      <th>1</th>\n",
       "      <td>Others</td>\n",
       "      <td>Misc</td>\n",
       "      <td>604.11</td>\n",
       "      <td>Lille</td>\n",
       "      <td>50.65</td>\n",
       "      <td>3.10</td>\n",
       "      <td>3.99</td>\n",
       "      <td>23.53</td>\n",
       "      <td>27.00</td>\n",
       "    </tr>\n",
       "    <tr>\n",
       "      <th>2</th>\n",
       "      <td>Others</td>\n",
       "      <td>Misc</td>\n",
       "      <td>604.11</td>\n",
       "      <td>Lille</td>\n",
       "      <td>50.65</td>\n",
       "      <td>3.10</td>\n",
       "      <td>3.99</td>\n",
       "      <td>23.53</td>\n",
       "      <td>0.00</td>\n",
       "    </tr>\n",
       "    <tr>\n",
       "      <th>3</th>\n",
       "      <td>Others</td>\n",
       "      <td>Misc</td>\n",
       "      <td>604.11</td>\n",
       "      <td>Lille</td>\n",
       "      <td>50.65</td>\n",
       "      <td>3.10</td>\n",
       "      <td>3.99</td>\n",
       "      <td>23.53</td>\n",
       "      <td>12.00</td>\n",
       "    </tr>\n",
       "    <tr>\n",
       "      <th>4</th>\n",
       "      <td>Others</td>\n",
       "      <td>Misc</td>\n",
       "      <td>604.11</td>\n",
       "      <td>Lille</td>\n",
       "      <td>50.65</td>\n",
       "      <td>3.10</td>\n",
       "      <td>3.99</td>\n",
       "      <td>23.53</td>\n",
       "      <td>16.00</td>\n",
       "    </tr>\n",
       "    <tr>\n",
       "      <th>...</th>\n",
       "      <td>...</td>\n",
       "      <td>...</td>\n",
       "      <td>...</td>\n",
       "      <td>...</td>\n",
       "      <td>...</td>\n",
       "      <td>...</td>\n",
       "      <td>...</td>\n",
       "      <td>...</td>\n",
       "      <td>...</td>\n",
       "    </tr>\n",
       "    <tr>\n",
       "      <th>8623</th>\n",
       "      <td>CHATELLENIE</td>\n",
       "      <td>Fast Food, Food Delivery Services</td>\n",
       "      <td>886.00</td>\n",
       "      <td>214 Rue De La Convention, 59650 Villeneuve D A...</td>\n",
       "      <td>50.64</td>\n",
       "      <td>3.15</td>\n",
       "      <td>3.50</td>\n",
       "      <td>9.00</td>\n",
       "      <td>18.19</td>\n",
       "    </tr>\n",
       "    <tr>\n",
       "      <th>8625</th>\n",
       "      <td>CHATELLENIE</td>\n",
       "      <td>Fast Food</td>\n",
       "      <td>459.21</td>\n",
       "      <td>78 Rue Jeanne D'arc, Près de l'église de Flers...</td>\n",
       "      <td>50.63</td>\n",
       "      <td>3.13</td>\n",
       "      <td>3.50</td>\n",
       "      <td>4.00</td>\n",
       "      <td>18.19</td>\n",
       "    </tr>\n",
       "    <tr>\n",
       "      <th>8627</th>\n",
       "      <td>CHATELLENIE</td>\n",
       "      <td>Fast Food</td>\n",
       "      <td>934.77</td>\n",
       "      <td>7 bd de Mons, 59650 Villeneuve-d'Ascq, France</td>\n",
       "      <td>50.64</td>\n",
       "      <td>3.14</td>\n",
       "      <td>3.50</td>\n",
       "      <td>3.00</td>\n",
       "      <td>18.19</td>\n",
       "    </tr>\n",
       "    <tr>\n",
       "      <th>8628</th>\n",
       "      <td>CHATELLENIE</td>\n",
       "      <td>Brasseries</td>\n",
       "      <td>1026.45</td>\n",
       "      <td>41 rue de la Cousinerie, 59650 Villeneuve-d'As...</td>\n",
       "      <td>50.64</td>\n",
       "      <td>3.15</td>\n",
       "      <td>3.50</td>\n",
       "      <td>2.00</td>\n",
       "      <td>18.19</td>\n",
       "    </tr>\n",
       "    <tr>\n",
       "      <th>8629</th>\n",
       "      <td>CHATELLENIE</td>\n",
       "      <td>Bistros, Wine Bars</td>\n",
       "      <td>1224.45</td>\n",
       "      <td>Centre sportif OCEA, 51 rue de la Cimaise, 596...</td>\n",
       "      <td>50.64</td>\n",
       "      <td>3.15</td>\n",
       "      <td>3.50</td>\n",
       "      <td>2.00</td>\n",
       "      <td>18.19</td>\n",
       "    </tr>\n",
       "  </tbody>\n",
       "</table>\n",
       "<p>6841 rows × 9 columns</p>\n",
       "</div>"
      ],
      "text/plain": [
       "     Station_names                         Categories  Distance  \\\n",
       "0           Others                               Misc    604.11   \n",
       "1           Others                               Misc    604.11   \n",
       "2           Others                               Misc    604.11   \n",
       "3           Others                               Misc    604.11   \n",
       "4           Others                               Misc    604.11   \n",
       "...            ...                                ...       ...   \n",
       "8623   CHATELLENIE  Fast Food, Food Delivery Services    886.00   \n",
       "8625   CHATELLENIE                          Fast Food    459.21   \n",
       "8627   CHATELLENIE                          Fast Food    934.77   \n",
       "8628   CHATELLENIE                         Brasseries   1026.45   \n",
       "8629   CHATELLENIE                 Bistros, Wine Bars   1224.45   \n",
       "\n",
       "                                                Address  Latitude  Longitude  \\\n",
       "0                                                 Lille     50.65       3.10   \n",
       "1                                                 Lille     50.65       3.10   \n",
       "2                                                 Lille     50.65       3.10   \n",
       "3                                                 Lille     50.65       3.10   \n",
       "4                                                 Lille     50.65       3.10   \n",
       "...                                                 ...       ...        ...   \n",
       "8623  214 Rue De La Convention, 59650 Villeneuve D A...     50.64       3.15   \n",
       "8625  78 Rue Jeanne D'arc, Près de l'église de Flers...     50.63       3.13   \n",
       "8627      7 bd de Mons, 59650 Villeneuve-d'Ascq, France     50.64       3.14   \n",
       "8628  41 rue de la Cousinerie, 59650 Villeneuve-d'As...     50.64       3.15   \n",
       "8629  Centre sportif OCEA, 51 rue de la Cimaise, 596...     50.64       3.15   \n",
       "\n",
       "      Rating  Review_count  Total Bikes  \n",
       "0       3.99         23.53        20.00  \n",
       "1       3.99         23.53        27.00  \n",
       "2       3.99         23.53         0.00  \n",
       "3       3.99         23.53        12.00  \n",
       "4       3.99         23.53        16.00  \n",
       "...      ...           ...          ...  \n",
       "8623    3.50          9.00        18.19  \n",
       "8625    3.50          4.00        18.19  \n",
       "8627    3.50          3.00        18.19  \n",
       "8628    3.50          2.00        18.19  \n",
       "8629    3.50          2.00        18.19  \n",
       "\n",
       "[6841 rows x 9 columns]"
      ]
     },
     "execution_count": 12,
     "metadata": {},
     "output_type": "execute_result"
    }
   ],
   "source": [
    "bld_reg = bld_reg_jk\n",
    "bld_reg"
   ]
  },
  {
   "cell_type": "code",
   "execution_count": 13,
   "metadata": {},
   "outputs": [],
   "source": [
    "del bld_reg_jk"
   ]
  },
  {
   "cell_type": "code",
   "execution_count": 14,
   "metadata": {},
   "outputs": [
    {
     "name": "stdout",
     "output_type": "stream",
     "text": [
      "\n",
      "Missing Values:\n",
      "Station_names    0\n",
      "Categories       0\n",
      "Distance         0\n",
      "Address          0\n",
      "Latitude         0\n",
      "Longitude        0\n",
      "Rating           0\n",
      "Review_count     0\n",
      "Total Bikes      0\n",
      "dtype: int64\n"
     ]
    }
   ],
   "source": [
    "# Checking for missing or null values.\n",
    "\n",
    "print(\"\\nMissing Values:\")\n",
    "print(bld_reg.isnull().sum())   # Before dropping the values"
   ]
  },
  {
   "cell_type": "code",
   "execution_count": 15,
   "metadata": {},
   "outputs": [
    {
     "data": {
      "text/plain": [
       "(6841, 9)"
      ]
     },
     "execution_count": 15,
     "metadata": {},
     "output_type": "execute_result"
    }
   ],
   "source": [
    "bld_reg.shape"
   ]
  },
  {
   "cell_type": "markdown",
   "metadata": {},
   "source": [
    "No missing values"
   ]
  },
  {
   "cell_type": "code",
   "execution_count": 16,
   "metadata": {},
   "outputs": [
    {
     "data": {
      "text/html": [
       "<div>\n",
       "<style scoped>\n",
       "    .dataframe tbody tr th:only-of-type {\n",
       "        vertical-align: middle;\n",
       "    }\n",
       "\n",
       "    .dataframe tbody tr th {\n",
       "        vertical-align: top;\n",
       "    }\n",
       "\n",
       "    .dataframe thead th {\n",
       "        text-align: right;\n",
       "    }\n",
       "</style>\n",
       "<table border=\"1\" class=\"dataframe\">\n",
       "  <thead>\n",
       "    <tr style=\"text-align: right;\">\n",
       "      <th></th>\n",
       "      <th>Distance</th>\n",
       "      <th>Latitude</th>\n",
       "      <th>Longitude</th>\n",
       "      <th>Rating</th>\n",
       "      <th>Review_count</th>\n",
       "      <th>Total Bikes</th>\n",
       "    </tr>\n",
       "  </thead>\n",
       "  <tbody>\n",
       "    <tr>\n",
       "      <th>count</th>\n",
       "      <td>6841.000000</td>\n",
       "      <td>6841.000000</td>\n",
       "      <td>6841.000000</td>\n",
       "      <td>6841.000000</td>\n",
       "      <td>6841.000000</td>\n",
       "      <td>6841.000000</td>\n",
       "    </tr>\n",
       "    <tr>\n",
       "      <th>mean</th>\n",
       "      <td>604.112922</td>\n",
       "      <td>50.651266</td>\n",
       "      <td>3.098297</td>\n",
       "      <td>4.071668</td>\n",
       "      <td>17.183988</td>\n",
       "      <td>18.204606</td>\n",
       "    </tr>\n",
       "    <tr>\n",
       "      <th>std</th>\n",
       "      <td>303.863659</td>\n",
       "      <td>0.031201</td>\n",
       "      <td>0.051257</td>\n",
       "      <td>0.457620</td>\n",
       "      <td>13.387899</td>\n",
       "      <td>0.771894</td>\n",
       "    </tr>\n",
       "    <tr>\n",
       "      <th>min</th>\n",
       "      <td>3.150000</td>\n",
       "      <td>50.600000</td>\n",
       "      <td>2.970000</td>\n",
       "      <td>1.000000</td>\n",
       "      <td>1.000000</td>\n",
       "      <td>0.000000</td>\n",
       "    </tr>\n",
       "    <tr>\n",
       "      <th>25%</th>\n",
       "      <td>363.990000</td>\n",
       "      <td>50.630000</td>\n",
       "      <td>3.060000</td>\n",
       "      <td>3.990000</td>\n",
       "      <td>5.000000</td>\n",
       "      <td>18.190000</td>\n",
       "    </tr>\n",
       "    <tr>\n",
       "      <th>50%</th>\n",
       "      <td>604.110000</td>\n",
       "      <td>50.640000</td>\n",
       "      <td>3.080000</td>\n",
       "      <td>3.990000</td>\n",
       "      <td>23.530000</td>\n",
       "      <td>18.190000</td>\n",
       "    </tr>\n",
       "    <tr>\n",
       "      <th>75%</th>\n",
       "      <td>843.250000</td>\n",
       "      <td>50.670000</td>\n",
       "      <td>3.150000</td>\n",
       "      <td>4.500000</td>\n",
       "      <td>23.530000</td>\n",
       "      <td>18.190000</td>\n",
       "    </tr>\n",
       "    <tr>\n",
       "      <th>max</th>\n",
       "      <td>1644.440000</td>\n",
       "      <td>50.730000</td>\n",
       "      <td>3.230000</td>\n",
       "      <td>5.000000</td>\n",
       "      <td>214.000000</td>\n",
       "      <td>40.000000</td>\n",
       "    </tr>\n",
       "  </tbody>\n",
       "</table>\n",
       "</div>"
      ],
      "text/plain": [
       "          Distance     Latitude    Longitude       Rating  Review_count  \\\n",
       "count  6841.000000  6841.000000  6841.000000  6841.000000   6841.000000   \n",
       "mean    604.112922    50.651266     3.098297     4.071668     17.183988   \n",
       "std     303.863659     0.031201     0.051257     0.457620     13.387899   \n",
       "min       3.150000    50.600000     2.970000     1.000000      1.000000   \n",
       "25%     363.990000    50.630000     3.060000     3.990000      5.000000   \n",
       "50%     604.110000    50.640000     3.080000     3.990000     23.530000   \n",
       "75%     843.250000    50.670000     3.150000     4.500000     23.530000   \n",
       "max    1644.440000    50.730000     3.230000     5.000000    214.000000   \n",
       "\n",
       "       Total Bikes  \n",
       "count  6841.000000  \n",
       "mean     18.204606  \n",
       "std       0.771894  \n",
       "min       0.000000  \n",
       "25%      18.190000  \n",
       "50%      18.190000  \n",
       "75%      18.190000  \n",
       "max      40.000000  "
      ]
     },
     "execution_count": 16,
     "metadata": {},
     "output_type": "execute_result"
    }
   ],
   "source": [
    "bld_reg.describe()"
   ]
  },
  {
   "cell_type": "markdown",
   "metadata": {},
   "source": [
    "# EXPLORATORY DATA ANALYSIS"
   ]
  },
  {
   "cell_type": "code",
   "execution_count": 17,
   "metadata": {},
   "outputs": [
    {
     "data": {
      "image/png": "[encoded data removed]",
      "text/plain": [
       "<Figure size 2000x2000 with 9 Axes>"
      ]
     },
     "metadata": {},
     "output_type": "display_data"
    }
   ],
   "source": [
    "# Histogram distribution for dataframe\n",
    "def draw_histograms(dataframe, features, rows, cols):\n",
    "    fig=plt.figure(figsize=(20,20))\n",
    "    for i, feature in enumerate(features):\n",
    "        ax=fig.add_subplot(rows,cols,i+1)\n",
    "        dataframe[feature].hist(bins=20,ax=ax,facecolor='midnightblue')\n",
    "        ax.set_title(feature+\" Distribution\",color='DarkRed')\n",
    "        ax.set_yscale('log')\n",
    "    fig.tight_layout()  \n",
    "    plt.show()\n",
    "draw_histograms(bld_reg,bld_reg.columns,8,4)"
   ]
  },
  {
   "cell_type": "code",
   "execution_count": 18,
   "metadata": {},
   "outputs": [
    {
     "data": {
      "text/plain": [
       "18.19    6809\n",
       "25.00       1\n",
       "35.00       1\n",
       "7.00        1\n",
       "28.00       1\n",
       "22.00       1\n",
       "21.00       1\n",
       "13.00       1\n",
       "29.00       1\n",
       "1.00        1\n",
       "40.00       1\n",
       "15.00       1\n",
       "38.00       1\n",
       "26.00       1\n",
       "31.00       1\n",
       "39.00       1\n",
       "20.00       1\n",
       "27.00       1\n",
       "36.00       1\n",
       "17.00       1\n",
       "32.00       1\n",
       "10.00       1\n",
       "19.00       1\n",
       "18.00       1\n",
       "30.00       1\n",
       "11.00       1\n",
       "14.00       1\n",
       "24.00       1\n",
       "23.00       1\n",
       "16.00       1\n",
       "12.00       1\n",
       "0.00        1\n",
       "3.00        1\n",
       "Name: Total Bikes, dtype: int64"
      ]
     },
     "execution_count": 18,
     "metadata": {},
     "output_type": "execute_result"
    }
   ],
   "source": [
    "bld_reg['Total Bikes'].value_counts()"
   ]
  },
  {
   "cell_type": "code",
   "execution_count": 19,
   "metadata": {},
   "outputs": [
    {
     "data": {
      "image/png": "[encoded data removed]",
      "text/plain": [
       "<Figure size 640x480 with 1 Axes>"
      ]
     },
     "metadata": {},
     "output_type": "display_data"
    }
   ],
   "source": [
    "ax=sns.countplot(x='Total Bikes',data=bld_reg);\n",
    "ax.set_yscale('log')"
   ]
  },
  {
   "cell_type": "code",
   "execution_count": 20,
   "metadata": {},
   "outputs": [
    {
     "data": {
      "image/png": "[encoded data removed]",
      "text/plain": [
       "<Figure size 1000x400 with 2 Axes>"
      ]
     },
     "metadata": {},
     "output_type": "display_data"
    }
   ],
   "source": [
    "plt.figure(figsize = (10,4))\n",
    "sns.heatmap(bld_reg.corr(), annot = True, cmap=\"tab20c\")\n",
    "plt.show()"
   ]
  },
  {
   "cell_type": "code",
   "execution_count": 50,
   "metadata": {},
   "outputs": [
    {
     "data": {
      "text/plain": [
       "<seaborn.axisgrid.FacetGrid at 0x1f920d91cd0>"
      ]
     },
     "execution_count": 50,
     "metadata": {},
     "output_type": "execute_result"
    },
    {
     "data": {
      "image/png": "[encoded data removed]",
      "text/plain": [
       "<Figure size 500x500 with 1 Axes>"
      ]
     },
     "metadata": {},
     "output_type": "display_data"
    }
   ],
   "source": [
    "# descriptive statistics\n",
    "\n",
    "bld_reg['Total Bikes'].describe()\n",
    "\n",
    "# histogram\n",
    "#sns.displot(df_train['SalePrice']) # x=\"total_bill\", col=\"time\", kde=True)\n",
    "sns.displot(bld_reg, x='Total Bikes', kde=True)\n",
    "#sns.histplot(df_train['SalePrice'])"
   ]
  },
  {
   "cell_type": "code",
   "execution_count": null,
   "metadata": {},
   "outputs": [],
   "source": []
  },
  {
   "cell_type": "code",
   "execution_count": null,
   "metadata": {},
   "outputs": [],
   "source": []
  },
  {
   "cell_type": "markdown",
   "metadata": {},
   "source": [
    "# LINEAR REGRESSION MODEL"
   ]
  },
  {
   "cell_type": "code",
   "execution_count": 46,
   "metadata": {},
   "outputs": [
    {
     "name": "stdout",
     "output_type": "stream",
     "text": [
      "                            OLS Regression Results                            \n",
      "==============================================================================\n",
      "Dep. Variable:            Total Bikes   R-squared:                       0.000\n",
      "Model:                            OLS   Adj. R-squared:                 -0.001\n",
      "Method:                 Least Squares   F-statistic:                    0.1275\n",
      "Date:                Thu, 28 Sep 2023   Prob (F-statistic):              0.986\n",
      "Time:                        10:22:37   Log-Likelihood:                -7935.0\n",
      "No. Observations:                6841   AIC:                         1.588e+04\n",
      "Df Residuals:                    6835   BIC:                         1.592e+04\n",
      "Df Model:                           5                                         \n",
      "Covariance Type:            nonrobust                                         \n",
      "================================================================================\n",
      "                   coef    std err          t      P>|t|      [0.025      0.975]\n",
      "--------------------------------------------------------------------------------\n",
      "const           20.5412     21.446      0.958      0.338     -21.500      62.582\n",
      "Rating          -0.0039      0.021     -0.190      0.850      -0.044       0.036\n",
      "Distance      2.711e-06    3.1e-05      0.087      0.930   -5.81e-05    6.36e-05\n",
      "Latitude        -0.0491      0.435     -0.113      0.910      -0.902       0.804\n",
      "Longitude        0.0509      0.266      0.192      0.848      -0.470       0.572\n",
      "Review_count     0.0005      0.001      0.735      0.462      -0.001       0.002\n",
      "==============================================================================\n",
      "Omnibus:                    11047.912   Durbin-Watson:                   2.474\n",
      "Prob(Omnibus):                  0.000   Jarque-Bera (JB):         62291455.176\n",
      "Skew:                           9.657   Prob(JB):                         0.00\n",
      "Kurtosis:                     470.078   Cond. No.                     1.56e+06\n",
      "==============================================================================\n",
      "\n",
      "Notes:\n",
      "[1] Standard Errors assume that the covariance matrix of the errors is correctly specified.\n",
      "[2] The condition number is large, 1.56e+06. This might indicate that there are\n",
      "strong multicollinearity or other numerical problems.\n"
     ]
    }
   ],
   "source": [
    "import statsmodels.api as sm\n",
    "\n",
    "# Define your dependent variable (continuous target) and independent variables\n",
    "y = bld_reg['Total Bikes']\n",
    "X = bld_reg[['Rating', 'Distance', 'Latitude', 'Longitude','Review_count']]\n",
    "\n",
    "# Add a constant term for the intercept in the linear regression model\n",
    "X = sm.add_constant(X)\n",
    "\n",
    "# Build the linear regression model\n",
    "linear_model = sm.OLS(y, X).fit()\n",
    "\n",
    "# Interpret and print the results\n",
    "print(linear_model.summary())\n"
   ]
  },
  {
   "cell_type": "markdown",
   "metadata": {},
   "source": [
    "The regression summary shows the results of a linear regression model. Let's go through the key statistics and interpretations:\n",
    "\n",
    "1. R-squared (R²): R-squared measures the proportion of the variance in the dependent variable (Total Bikes) that is explained by the independent variables (Rating, Distance, Latitude, Longitude, Review_count). In this case, R-squared is very close to 0 (0.000), which indicates that the model does not explain much of the variance in Total Bikes. It suggests that the independent variables may not be strong predictors of Total Bikes in a linear relationship.\n",
    "\n",
    "2. Coefficient (coef): These values represent the estimated coefficients for each independent variable. They indicate the change in the dependent variable (Total Bikes) for a one-unit change in the corresponding independent variable, while holding other variables constant. For example, for Rating, a one-unit increase in Rating is associated with a -0.0039 decrease in Total Bikes, but this coefficient is not statistically significant (P>|t| > 0.05).\n",
    "\n",
    "3. P-value (P>|t|): P-values test the null hypothesis that a given coefficient is equal to zero. A low P-value (typically less than 0.05) suggests that the independent variable is statistically significant in predicting the dependent variable. In this case, none of the independent variables have P-values below 0.05, indicating that none of them are statistically significant predictors.\n",
    "\n",
    "4. Adjusted R-squared (Adj. R²): This adjusts the R-squared value for the number of predictors in the model. In your case, it's also very close to 0, suggesting that adding more independent variables did not improve the model's explanatory power.\n",
    "\n",
    "5. F-statistic (F-statistic): The F-statistic tests the overall significance of the regression model. A low F-statistic suggests that the model as a whole is not significant. In your case, the F-statistic is low, and the associated probability (Prob (F-statistic)) is close to 1, indicating that the model is not significant.\n",
    "\n",
    "6. Residuals: The Omnibus, Durbin-Watson, Jarque-Bera, and Kurtosis statistics are related to the properties of the residuals (errors). These statistics are important for assessing the model's assumptions and checking for issues like heteroscedasticity and normality of residuals.\n",
    "\n",
    "7. Condition Number (Cond. No.): A large condition number suggests potential multicollinearity among the independent variables. This means that some independent variables may be highly correlated with each other, which can make it challenging to interpret individual coefficients. It's essential to check for multicollinearity and consider variable selection or transformation to address this issue.\n",
    "\n",
    "To fix the model, consider the following:\n",
    "\n",
    "1. Feature Selection: Review the choice of independent variables and consider whether they are the most appropriate predictors for Total Bikes. You may need to select different features or engineer new ones.\n",
    "\n",
    "2. Model Selection: If a linear regression model is not suitable for your data, consider other regression techniques or machine learning algorithms that can capture more complex relationships.\n",
    "\n",
    "3. Data Transformation: Consider data transformation techniques like scaling, normalizing, or encoding categorical variables, if applicable.\n",
    "\n",
    "4. Outlier Handling: Check for outliers in the data and decide whether to remove or transform them if they are affecting the model's performance.\n",
    "\n",
    "5. Residual Analysis: Examine the residuals to ensure that the model assumptions (e.g., homoscedasticity, normality) are met or consider alternative models that better fit the data.\n",
    "\n",
    "Improving a regression model often involves an iterative process of data exploration, feature engineering, and model refinement."
   ]
  },
  {
   "cell_type": "code",
   "execution_count": 47,
   "metadata": {},
   "outputs": [
    {
     "name": "stdout",
     "output_type": "stream",
     "text": [
      "One-Hot Encoding:\n",
      "   Category_A  Category_B  Category_C\n",
      "0           1           0           0\n",
      "1           0           1           0\n",
      "2           1           0           0\n",
      "3           0           0           1\n",
      "4           0           1           0\n",
      "5           0           0           1\n",
      "\n",
      "Label Encoding:\n",
      "   Category\n",
      "0         0\n",
      "1         1\n",
      "2         0\n",
      "3         2\n",
      "4         1\n",
      "5         2\n"
     ]
    }
   ],
   "source": [
    "import pandas as pd\n",
    "\n",
    "# Sample data in X1 with a categorical variable 'Category'\n",
    "bld_reg_dm = {\n",
    "    'Category': ['A', 'B', 'A', 'C', 'B', 'C']\n",
    "}\n",
    "\n",
    "X1 = pd.DataFrame(bld_reg_dm)\n",
    "\n",
    "# One-Hot Encoding\n",
    "X1_onehot = pd.get_dummies(X1, columns=['Category'], prefix=['Category'])\n",
    "\n",
    "# Label Encoding\n",
    "from sklearn.preprocessing import LabelEncoder\n",
    "\n",
    "X1_label = X1.copy()\n",
    "label_encoder = LabelEncoder()\n",
    "X1_label['Category'] = label_encoder.fit_transform(X1_label['Category'])\n",
    "\n",
    "# Display the encoded DataFrames\n",
    "print(\"One-Hot Encoding:\")\n",
    "print(X1_onehot)\n",
    "\n",
    "print(\"\\nLabel Encoding:\")\n",
    "print(X1_label)\n"
   ]
  },
  {
   "cell_type": "code",
   "execution_count": 48,
   "metadata": {},
   "outputs": [
    {
     "ename": "TypeError",
     "evalue": "len() of unsized object",
     "output_type": "error",
     "traceback": [
      "\u001b[1;31m---------------------------------------------------------------------------\u001b[0m",
      "\u001b[1;31mTypeError\u001b[0m                                 Traceback (most recent call last)",
      "\u001b[1;32mc:\\Code\\Projects\\Project-Statistical-Modelling-with-Python\\notebooks\\model_building.ipynb Cell 27\u001b[0m line \u001b[0;36m8\n\u001b[0;32m      <a href='vscode-notebook-cell:/c%3A/Code/Projects/Project-Statistical-Modelling-with-Python/notebooks/model_building.ipynb#X46sZmlsZQ%3D%3D?line=5'>6</a>\u001b[0m \u001b[39m# Logistic Regression with One-Hot Encoding\u001b[39;00m\n\u001b[0;32m      <a href='vscode-notebook-cell:/c%3A/Code/Projects/Project-Statistical-Modelling-with-Python/notebooks/model_building.ipynb#X46sZmlsZQ%3D%3D?line=6'>7</a>\u001b[0m X_onehot \u001b[39m=\u001b[39m sm\u001b[39m.\u001b[39madd_constant(X1_onehot)  \u001b[39m# Add a constant (intercept)\u001b[39;00m\n\u001b[1;32m----> <a href='vscode-notebook-cell:/c%3A/Code/Projects/Project-Statistical-Modelling-with-Python/notebooks/model_building.ipynb#X46sZmlsZQ%3D%3D?line=7'>8</a>\u001b[0m logit_model_onehot \u001b[39m=\u001b[39m sm\u001b[39m.\u001b[39mLogit(y, X_onehot)\n\u001b[0;32m      <a href='vscode-notebook-cell:/c%3A/Code/Projects/Project-Statistical-Modelling-with-Python/notebooks/model_building.ipynb#X46sZmlsZQ%3D%3D?line=8'>9</a>\u001b[0m results_onehot \u001b[39m=\u001b[39m logit_model_onehot\u001b[39m.\u001b[39mfit()\n\u001b[0;32m     <a href='vscode-notebook-cell:/c%3A/Code/Projects/Project-Statistical-Modelling-with-Python/notebooks/model_building.ipynb#X46sZmlsZQ%3D%3D?line=9'>10</a>\u001b[0m \u001b[39mprint\u001b[39m(results_onehot\u001b[39m.\u001b[39msummary())\n",
      "File \u001b[1;32mc:\\Users\\franc\\anaconda3.9\\Lib\\site-packages\\statsmodels\\discrete\\discrete_model.py:462\u001b[0m, in \u001b[0;36mBinaryModel.__init__\u001b[1;34m(self, endog, exog, check_rank, **kwargs)\u001b[0m\n\u001b[0;32m    459\u001b[0m \u001b[39mdef\u001b[39;00m \u001b[39m__init__\u001b[39m(\u001b[39mself\u001b[39m, endog, exog, check_rank\u001b[39m=\u001b[39m\u001b[39mTrue\u001b[39;00m, \u001b[39m*\u001b[39m\u001b[39m*\u001b[39mkwargs):\n\u001b[0;32m    460\u001b[0m     \u001b[39m# unconditional check, requires no extra kwargs added by subclasses\u001b[39;00m\n\u001b[0;32m    461\u001b[0m     \u001b[39mself\u001b[39m\u001b[39m.\u001b[39m_check_kwargs(kwargs)\n\u001b[1;32m--> 462\u001b[0m     \u001b[39msuper\u001b[39m()\u001b[39m.\u001b[39m\u001b[39m__init__\u001b[39m(endog, exog, check_rank, \u001b[39m*\u001b[39m\u001b[39m*\u001b[39mkwargs)\n\u001b[0;32m    463\u001b[0m     \u001b[39mif\u001b[39;00m \u001b[39mnot\u001b[39;00m \u001b[39missubclass\u001b[39m(\u001b[39mself\u001b[39m\u001b[39m.\u001b[39m\u001b[39m__class__\u001b[39m, MultinomialModel):\n\u001b[0;32m    464\u001b[0m         \u001b[39mif\u001b[39;00m \u001b[39mnot\u001b[39;00m np\u001b[39m.\u001b[39mall((\u001b[39mself\u001b[39m\u001b[39m.\u001b[39mendog \u001b[39m>\u001b[39m\u001b[39m=\u001b[39m \u001b[39m0\u001b[39m) \u001b[39m&\u001b[39m (\u001b[39mself\u001b[39m\u001b[39m.\u001b[39mendog \u001b[39m<\u001b[39m\u001b[39m=\u001b[39m \u001b[39m1\u001b[39m)):\n",
      "File \u001b[1;32mc:\\Users\\franc\\anaconda3.9\\Lib\\site-packages\\statsmodels\\discrete\\discrete_model.py:178\u001b[0m, in \u001b[0;36mDiscreteModel.__init__\u001b[1;34m(self, endog, exog, check_rank, **kwargs)\u001b[0m\n\u001b[0;32m    176\u001b[0m \u001b[39mdef\u001b[39;00m \u001b[39m__init__\u001b[39m(\u001b[39mself\u001b[39m, endog, exog, check_rank\u001b[39m=\u001b[39m\u001b[39mTrue\u001b[39;00m, \u001b[39m*\u001b[39m\u001b[39m*\u001b[39mkwargs):\n\u001b[0;32m    177\u001b[0m     \u001b[39mself\u001b[39m\u001b[39m.\u001b[39m_check_rank \u001b[39m=\u001b[39m check_rank\n\u001b[1;32m--> 178\u001b[0m     \u001b[39msuper\u001b[39m()\u001b[39m.\u001b[39m\u001b[39m__init__\u001b[39m(endog, exog, \u001b[39m*\u001b[39m\u001b[39m*\u001b[39mkwargs)\n\u001b[0;32m    179\u001b[0m     \u001b[39mself\u001b[39m\u001b[39m.\u001b[39mraise_on_perfect_prediction \u001b[39m=\u001b[39m \u001b[39mTrue\u001b[39;00m\n",
      "File \u001b[1;32mc:\\Users\\franc\\anaconda3.9\\Lib\\site-packages\\statsmodels\\base\\model.py:267\u001b[0m, in \u001b[0;36mLikelihoodModel.__init__\u001b[1;34m(self, endog, exog, **kwargs)\u001b[0m\n\u001b[0;32m    266\u001b[0m \u001b[39mdef\u001b[39;00m \u001b[39m__init__\u001b[39m(\u001b[39mself\u001b[39m, endog, exog\u001b[39m=\u001b[39m\u001b[39mNone\u001b[39;00m, \u001b[39m*\u001b[39m\u001b[39m*\u001b[39mkwargs):\n\u001b[1;32m--> 267\u001b[0m     \u001b[39msuper\u001b[39m()\u001b[39m.\u001b[39m\u001b[39m__init__\u001b[39m(endog, exog, \u001b[39m*\u001b[39m\u001b[39m*\u001b[39mkwargs)\n\u001b[0;32m    268\u001b[0m     \u001b[39mself\u001b[39m\u001b[39m.\u001b[39minitialize()\n",
      "File \u001b[1;32mc:\\Users\\franc\\anaconda3.9\\Lib\\site-packages\\statsmodels\\base\\model.py:92\u001b[0m, in \u001b[0;36mModel.__init__\u001b[1;34m(self, endog, exog, **kwargs)\u001b[0m\n\u001b[0;32m     90\u001b[0m missing \u001b[39m=\u001b[39m kwargs\u001b[39m.\u001b[39mpop(\u001b[39m'\u001b[39m\u001b[39mmissing\u001b[39m\u001b[39m'\u001b[39m, \u001b[39m'\u001b[39m\u001b[39mnone\u001b[39m\u001b[39m'\u001b[39m)\n\u001b[0;32m     91\u001b[0m hasconst \u001b[39m=\u001b[39m kwargs\u001b[39m.\u001b[39mpop(\u001b[39m'\u001b[39m\u001b[39mhasconst\u001b[39m\u001b[39m'\u001b[39m, \u001b[39mNone\u001b[39;00m)\n\u001b[1;32m---> 92\u001b[0m \u001b[39mself\u001b[39m\u001b[39m.\u001b[39mdata \u001b[39m=\u001b[39m \u001b[39mself\u001b[39m\u001b[39m.\u001b[39m_handle_data(endog, exog, missing, hasconst,\n\u001b[0;32m     93\u001b[0m                               \u001b[39m*\u001b[39m\u001b[39m*\u001b[39mkwargs)\n\u001b[0;32m     94\u001b[0m \u001b[39mself\u001b[39m\u001b[39m.\u001b[39mk_constant \u001b[39m=\u001b[39m \u001b[39mself\u001b[39m\u001b[39m.\u001b[39mdata\u001b[39m.\u001b[39mk_constant\n\u001b[0;32m     95\u001b[0m \u001b[39mself\u001b[39m\u001b[39m.\u001b[39mexog \u001b[39m=\u001b[39m \u001b[39mself\u001b[39m\u001b[39m.\u001b[39mdata\u001b[39m.\u001b[39mexog\n",
      "File \u001b[1;32mc:\\Users\\franc\\anaconda3.9\\Lib\\site-packages\\statsmodels\\base\\model.py:132\u001b[0m, in \u001b[0;36mModel._handle_data\u001b[1;34m(self, endog, exog, missing, hasconst, **kwargs)\u001b[0m\n\u001b[0;32m    131\u001b[0m \u001b[39mdef\u001b[39;00m \u001b[39m_handle_data\u001b[39m(\u001b[39mself\u001b[39m, endog, exog, missing, hasconst, \u001b[39m*\u001b[39m\u001b[39m*\u001b[39mkwargs):\n\u001b[1;32m--> 132\u001b[0m     data \u001b[39m=\u001b[39m handle_data(endog, exog, missing, hasconst, \u001b[39m*\u001b[39m\u001b[39m*\u001b[39mkwargs)\n\u001b[0;32m    133\u001b[0m     \u001b[39m# kwargs arrays could have changed, easier to just attach here\u001b[39;00m\n\u001b[0;32m    134\u001b[0m     \u001b[39mfor\u001b[39;00m key \u001b[39min\u001b[39;00m kwargs:\n",
      "File \u001b[1;32mc:\\Users\\franc\\anaconda3.9\\Lib\\site-packages\\statsmodels\\base\\data.py:700\u001b[0m, in \u001b[0;36mhandle_data\u001b[1;34m(endog, exog, missing, hasconst, **kwargs)\u001b[0m\n\u001b[0;32m    697\u001b[0m     exog \u001b[39m=\u001b[39m np\u001b[39m.\u001b[39masarray(exog)\n\u001b[0;32m    699\u001b[0m klass \u001b[39m=\u001b[39m handle_data_class_factory(endog, exog)\n\u001b[1;32m--> 700\u001b[0m \u001b[39mreturn\u001b[39;00m klass(endog, exog\u001b[39m=\u001b[39mexog, missing\u001b[39m=\u001b[39mmissing, hasconst\u001b[39m=\u001b[39mhasconst,\n\u001b[0;32m    701\u001b[0m              \u001b[39m*\u001b[39m\u001b[39m*\u001b[39mkwargs)\n",
      "File \u001b[1;32mc:\\Users\\franc\\anaconda3.9\\Lib\\site-packages\\statsmodels\\base\\data.py:84\u001b[0m, in \u001b[0;36mModelData.__init__\u001b[1;34m(self, endog, exog, missing, hasconst, **kwargs)\u001b[0m\n\u001b[0;32m     82\u001b[0m     \u001b[39mself\u001b[39m\u001b[39m.\u001b[39morig_endog \u001b[39m=\u001b[39m endog\n\u001b[0;32m     83\u001b[0m     \u001b[39mself\u001b[39m\u001b[39m.\u001b[39morig_exog \u001b[39m=\u001b[39m exog\n\u001b[1;32m---> 84\u001b[0m     \u001b[39mself\u001b[39m\u001b[39m.\u001b[39mendog, \u001b[39mself\u001b[39m\u001b[39m.\u001b[39mexog \u001b[39m=\u001b[39m \u001b[39mself\u001b[39m\u001b[39m.\u001b[39m_convert_endog_exog(endog, exog)\n\u001b[0;32m     86\u001b[0m \u001b[39mself\u001b[39m\u001b[39m.\u001b[39mconst_idx \u001b[39m=\u001b[39m \u001b[39mNone\u001b[39;00m\n\u001b[0;32m     87\u001b[0m \u001b[39mself\u001b[39m\u001b[39m.\u001b[39mk_constant \u001b[39m=\u001b[39m \u001b[39m0\u001b[39m\n",
      "File \u001b[1;32mc:\\Users\\franc\\anaconda3.9\\Lib\\site-packages\\statsmodels\\base\\data.py:536\u001b[0m, in \u001b[0;36mPandasData._convert_endog_exog\u001b[1;34m(self, endog, exog)\u001b[0m\n\u001b[0;32m    529\u001b[0m         exog_dtype \u001b[39m=\u001b[39m \u001b[39mNone\u001b[39;00m\n\u001b[0;32m    530\u001b[0m     \u001b[39mraise\u001b[39;00m \u001b[39mValueError\u001b[39;00m(\n\u001b[0;32m    531\u001b[0m         \u001b[39m\"\u001b[39m\u001b[39mPandas data cast to numpy dtype of object. Check input data \u001b[39m\u001b[39m\"\u001b[39m\n\u001b[0;32m    532\u001b[0m         \u001b[39m\"\u001b[39m\u001b[39mwith np.asarray(data). The types seen were\u001b[39m\u001b[39m\"\u001b[39m\n\u001b[0;32m    533\u001b[0m         \u001b[39mf\u001b[39m\u001b[39m\"\u001b[39m\u001b[39m{\u001b[39;00mendog_dtype\u001b[39m}\u001b[39;00m\u001b[39m and \u001b[39m\u001b[39m{\u001b[39;00mexog_dtype\u001b[39m}\u001b[39;00m\u001b[39m. The data was\u001b[39m\u001b[39m\\n\u001b[39;00m\u001b[39m\"\u001b[39m\n\u001b[0;32m    534\u001b[0m         \u001b[39mf\u001b[39m\u001b[39m\"\u001b[39m\u001b[39m{\u001b[39;00morig_endog\u001b[39m}\u001b[39;00m\u001b[39m\\n\u001b[39;00m\u001b[39mand\u001b[39m\u001b[39m\\n\u001b[39;00m\u001b[39m \u001b[39m\u001b[39m{\u001b[39;00morig_exog\u001b[39m}\u001b[39;00m\u001b[39m\\n\u001b[39;00m\u001b[39mbefore. After,\u001b[39m\u001b[39m\\n\u001b[39;00m\u001b[39m{\u001b[39;00mendog\u001b[39m}\u001b[39;00m\u001b[39m\\n\u001b[39;00m\u001b[39m{\u001b[39;00mexog\u001b[39m}\u001b[39;00m\u001b[39m.\u001b[39m\u001b[39m\"\u001b[39m\n\u001b[0;32m    535\u001b[0m     )\n\u001b[1;32m--> 536\u001b[0m \u001b[39mreturn\u001b[39;00m \u001b[39msuper\u001b[39m(PandasData, \u001b[39mself\u001b[39m)\u001b[39m.\u001b[39m_convert_endog_exog(endog, exog)\n",
      "File \u001b[1;32mc:\\Users\\franc\\anaconda3.9\\Lib\\site-packages\\statsmodels\\base\\data.py:320\u001b[0m, in \u001b[0;36mModelData._convert_endog_exog\u001b[1;34m(self, endog, exog)\u001b[0m\n\u001b[0;32m    317\u001b[0m \u001b[39mdef\u001b[39;00m \u001b[39m_convert_endog_exog\u001b[39m(\u001b[39mself\u001b[39m, endog, exog):\n\u001b[0;32m    318\u001b[0m \n\u001b[0;32m    319\u001b[0m     \u001b[39m# for consistent outputs if endog is (n,1)\u001b[39;00m\n\u001b[1;32m--> 320\u001b[0m     yarr \u001b[39m=\u001b[39m \u001b[39mself\u001b[39m\u001b[39m.\u001b[39m_get_yarr(endog)\n\u001b[0;32m    321\u001b[0m     xarr \u001b[39m=\u001b[39m \u001b[39mNone\u001b[39;00m\n\u001b[0;32m    322\u001b[0m     \u001b[39mif\u001b[39;00m exog \u001b[39mis\u001b[39;00m \u001b[39mnot\u001b[39;00m \u001b[39mNone\u001b[39;00m:\n",
      "File \u001b[1;32mc:\\Users\\franc\\anaconda3.9\\Lib\\site-packages\\statsmodels\\base\\data.py:420\u001b[0m, in \u001b[0;36mModelData._get_yarr\u001b[1;34m(self, endog)\u001b[0m\n\u001b[0;32m    418\u001b[0m     endog \u001b[39m=\u001b[39m data_util\u001b[39m.\u001b[39mstruct_to_ndarray(endog)\n\u001b[0;32m    419\u001b[0m endog \u001b[39m=\u001b[39m np\u001b[39m.\u001b[39masarray(endog)\n\u001b[1;32m--> 420\u001b[0m \u001b[39mif\u001b[39;00m \u001b[39mlen\u001b[39m(endog) \u001b[39m==\u001b[39m \u001b[39m1\u001b[39m:  \u001b[39m# never squeeze to a scalar\u001b[39;00m\n\u001b[0;32m    421\u001b[0m     \u001b[39mif\u001b[39;00m endog\u001b[39m.\u001b[39mndim \u001b[39m==\u001b[39m \u001b[39m1\u001b[39m:\n\u001b[0;32m    422\u001b[0m         \u001b[39mreturn\u001b[39;00m endog\n",
      "\u001b[1;31mTypeError\u001b[0m: len() of unsized object"
     ]
    }
   ],
   "source": [
    "import statsmodels.api as sm\n",
    "\n",
    "# Assuming you have your dependent variable 'y' prepared\n",
    "y = 'Total Bikes'\n",
    "\n",
    "# Logistic Regression with One-Hot Encoding\n",
    "X_onehot = sm.add_constant(X1_onehot)  # Add a constant (intercept)\n",
    "logit_model_onehot = sm.Logit(y, X_onehot)\n",
    "results_onehot = logit_model_onehot.fit()\n",
    "print(results_onehot.summary())\n",
    "\n",
    "# Logistic Regression with Label Encoding\n",
    "X_label = sm.add_constant(X1_label)  # Add a constant (intercept)\n",
    "logit_model_label = sm.Logit(y, X_label)\n",
    "results_label = logit_model_label.fit()\n",
    "print(results_label.summary())\n"
   ]
  },
  {
   "cell_type": "code",
   "execution_count": null,
   "metadata": {},
   "outputs": [],
   "source": []
  },
  {
   "cell_type": "code",
   "execution_count": 53,
   "metadata": {},
   "outputs": [
    {
     "data": {
      "text/plain": [
       "'\\ndef back_feature_elem (data_frame,dep_var,col_list):\\n    \"\"\" Takes in the dataframe, the dependent variable and a list of column names, runs the regression repeatedly eleminating feature with the highest\\n    P-value above alpha one at a time and returns the regression summary with all p-values below alpha\"\"\"\\n\\n    while len(col_list)>0 :\\n        model=sm.Logit(dep_var,data_frame[col_list])\\n        result=model.fit(disp=0)\\n        largest_pvalue=round(result.pvalues,3).nlargest(1)\\n        if largest_pvalue[0]<(0.0001):\\n            return result\\n            break\\n        else:\\n            col_list=col_list.drop(largest_pvalue.index)\\n\\nresult=back_feature_elem(bld_regx_dm, bld_regx_dm.Total Bikes, col)\\n'"
      ]
     },
     "execution_count": 53,
     "metadata": {},
     "output_type": "execute_result"
    }
   ],
   "source": [
    "'''\n",
    "def back_feature_elem (data_frame,dep_var,col_list):\n",
    "    \"\"\" Takes in the dataframe, the dependent variable and a list of column names, runs the regression repeatedly eleminating feature with the highest\n",
    "    P-value above alpha one at a time and returns the regression summary with all p-values below alpha\"\"\"\n",
    "\n",
    "    while len(col_list)>0 :\n",
    "        model=sm.Logit(dep_var,data_frame[col_list])\n",
    "        result=model.fit(disp=0)\n",
    "        largest_pvalue=round(result.pvalues,3).nlargest(1)\n",
    "        if largest_pvalue[0]<(0.0001):\n",
    "            return result\n",
    "            break\n",
    "        else:\n",
    "            col_list=col_list.drop(largest_pvalue.index)\n",
    "\n",
    "result=back_feature_elem(bld_regx_dm, bld_regx_dm.Total Bikes, col)\n",
    "'''"
   ]
  },
  {
   "cell_type": "code",
   "execution_count": null,
   "metadata": {},
   "outputs": [],
   "source": []
  },
  {
   "cell_type": "code",
   "execution_count": null,
   "metadata": {},
   "outputs": [],
   "source": []
  },
  {
   "cell_type": "code",
   "execution_count": null,
   "metadata": {},
   "outputs": [],
   "source": []
  },
  {
   "cell_type": "code",
   "execution_count": null,
   "metadata": {},
   "outputs": [],
   "source": []
  },
  {
   "cell_type": "code",
   "execution_count": null,
   "metadata": {},
   "outputs": [],
   "source": []
  },
  {
   "cell_type": "code",
   "execution_count": null,
   "metadata": {},
   "outputs": [],
   "source": []
  },
  {
   "cell_type": "code",
   "execution_count": null,
   "metadata": {},
   "outputs": [],
   "source": []
  },
  {
   "cell_type": "code",
   "execution_count": null,
   "metadata": {},
   "outputs": [],
   "source": []
  },
  {
   "cell_type": "code",
   "execution_count": null,
   "metadata": {},
   "outputs": [],
   "source": []
  },
  {
   "cell_type": "code",
   "execution_count": null,
   "metadata": {},
   "outputs": [],
   "source": []
  },
  {
   "cell_type": "markdown",
   "metadata": {},
   "source": [
    "Provide model output and an interpretation of the results. "
   ]
  },
  {
   "cell_type": "code",
   "execution_count": null,
   "metadata": {},
   "outputs": [],
   "source": []
  },
  {
   "cell_type": "markdown",
   "metadata": {},
   "source": [
    "# Stretch"
   ]
  },
  {
   "cell_type": "markdown",
   "metadata": {},
   "source": [
    "How can you turn the regression model into a classification model?"
   ]
  },
  {
   "cell_type": "code",
   "execution_count": null,
   "metadata": {},
   "outputs": [],
   "source": []
  }
 ],
 "metadata": {
  "kernelspec": {
   "display_name": "Python 3",
   "language": "python",
   "name": "python3"
  },
  "language_info": {
   "codemirror_mode": {
    "name": "ipython",
    "version": 3
   },
   "file_extension": ".py",
   "mimetype": "text/x-python",
   "name": "python",
   "nbconvert_exporter": "python",
   "pygments_lexer": "ipython3",
   "version": "3.11.3"
  }
 },
 "nbformat": 4,
 "nbformat_minor": 4
}
